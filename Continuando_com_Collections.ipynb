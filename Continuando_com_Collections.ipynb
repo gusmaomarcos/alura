{
  "nbformat": 4,
  "nbformat_minor": 0,
  "metadata": {
    "colab": {
      "provenance": [],
      "include_colab_link": true
    },
    "kernelspec": {
      "name": "python3",
      "display_name": "Python 3"
    }
  },
  "cells": [
    {
      "cell_type": "markdown",
      "metadata": {
        "id": "view-in-github",
        "colab_type": "text"
      },
      "source": [
        "<a href=\"https://colab.research.google.com/github/gusmaomarcos/alura/blob/main/Continuando_com_Collections.ipynb\" target=\"_parent\"><img src=\"https://colab.research.google.com/assets/colab-badge.svg\" alt=\"Open In Colab\"/></a>"
      ]
    },
    {
      "cell_type": "code",
      "metadata": {
        "id": "u24cmniXRG2N"
      },
      "source": [
        "usuarios_data_science = [15, 23, 43, 56]\n",
        "usuarios_machine_learning = [13, 23, 56, 42]"
      ],
      "execution_count": null,
      "outputs": []
    },
    {
      "cell_type": "code",
      "metadata": {
        "id": "BxVM4-kHRdJT",
        "colab": {
          "base_uri": "https://localhost:8080/"
        },
        "outputId": "b855947a-97f9-428b-8016-cfc15966a645"
      },
      "source": [
        "assistiram = usuarios_data_science.copy()\n",
        "assistiram.extend(usuarios_machine_learning)\n",
        "assistiram"
      ],
      "execution_count": null,
      "outputs": [
        {
          "output_type": "execute_result",
          "data": {
            "text/plain": [
              "[15, 23, 43, 56, 13, 23, 56, 42]"
            ]
          },
          "metadata": {
            "tags": []
          },
          "execution_count": 4
        }
      ]
    },
    {
      "cell_type": "code",
      "metadata": {
        "id": "A-PMbzh1Rwhb",
        "colab": {
          "base_uri": "https://localhost:8080/"
        },
        "outputId": "b4ffe13a-8994-435e-b940-632839f93f55"
      },
      "source": [
        "len(assistiram)"
      ],
      "execution_count": null,
      "outputs": [
        {
          "output_type": "execute_result",
          "data": {
            "text/plain": [
              "8"
            ]
          },
          "metadata": {
            "tags": []
          },
          "execution_count": 5
        }
      ]
    },
    {
      "cell_type": "code",
      "metadata": {
        "id": "oHQEUJl1SIex",
        "colab": {
          "base_uri": "https://localhost:8080/"
        },
        "outputId": "fe20e7ba-d9f7-435c-ccf0-1d640185d392"
      },
      "source": [
        "set(assistiram)"
      ],
      "execution_count": null,
      "outputs": [
        {
          "output_type": "execute_result",
          "data": {
            "text/plain": [
              "{13, 15, 23, 42, 43, 56}"
            ]
          },
          "metadata": {
            "tags": []
          },
          "execution_count": 6
        }
      ]
    },
    {
      "cell_type": "code",
      "metadata": {
        "id": "_MWRnPUfTvft",
        "colab": {
          "base_uri": "https://localhost:8080/"
        },
        "outputId": "a4d31cdd-81f1-44fe-9dec-87e5497b0f0e"
      },
      "source": [
        "set([1,2,3,1])"
      ],
      "execution_count": null,
      "outputs": [
        {
          "output_type": "execute_result",
          "data": {
            "text/plain": [
              "{1, 2, 3}"
            ]
          },
          "metadata": {
            "tags": []
          },
          "execution_count": 7
        }
      ]
    },
    {
      "cell_type": "code",
      "metadata": {
        "id": "3oTWJIJ9T0Hi",
        "colab": {
          "base_uri": "https://localhost:8080/"
        },
        "outputId": "400bcc48-1041-43a8-b900-b209e28405dd"
      },
      "source": [
        "{4, 1,2,3,1}"
      ],
      "execution_count": null,
      "outputs": [
        {
          "output_type": "execute_result",
          "data": {
            "text/plain": [
              "{1, 2, 3, 4}"
            ]
          },
          "metadata": {
            "tags": []
          },
          "execution_count": 8
        }
      ]
    },
    {
      "cell_type": "code",
      "metadata": {
        "id": "oS2PYcYET6X-",
        "colab": {
          "base_uri": "https://localhost:8080/"
        },
        "outputId": "571ab106-f41a-4205-90c6-03eff81b60cf"
      },
      "source": [
        "type({1,2})"
      ],
      "execution_count": null,
      "outputs": [
        {
          "output_type": "execute_result",
          "data": {
            "text/plain": [
              "set"
            ]
          },
          "metadata": {
            "tags": []
          },
          "execution_count": 9
        }
      ]
    },
    {
      "cell_type": "code",
      "metadata": {
        "id": "8sCPY4jSUEHp"
      },
      "source": [
        "usuarios_data_science = {15, 23, 43, 56}\n",
        "usuarios_machine_learning = {13, 23, 56, 42}"
      ],
      "execution_count": null,
      "outputs": []
    },
    {
      "cell_type": "code",
      "metadata": {
        "id": "6IUQkgfCUUaC",
        "colab": {
          "base_uri": "https://localhost:8080/"
        },
        "outputId": "0a0bccfb-851a-418f-c24f-59361969ab45"
      },
      "source": [
        "usuarios_machine_learning"
      ],
      "execution_count": null,
      "outputs": [
        {
          "output_type": "execute_result",
          "data": {
            "text/plain": [
              "{13, 23, 42, 56}"
            ]
          },
          "metadata": {
            "tags": []
          },
          "execution_count": 11
        }
      ]
    },
    {
      "cell_type": "code",
      "metadata": {
        "id": "iZ7ISFbQUVzs",
        "colab": {
          "base_uri": "https://localhost:8080/",
          "height": 162
        },
        "outputId": "82fbcf49-45de-4386-eb56-8d9c605e6103"
      },
      "source": [
        "usuarios_machine_learning[3]"
      ],
      "execution_count": null,
      "outputs": [
        {
          "output_type": "error",
          "ename": "TypeError",
          "evalue": "ignored",
          "traceback": [
            "\u001b[0;31m---------------------------------------------------------------------------\u001b[0m",
            "\u001b[0;31mTypeError\u001b[0m                                 Traceback (most recent call last)",
            "\u001b[0;32m<ipython-input-12-ae55a602a7d7>\u001b[0m in \u001b[0;36m<module>\u001b[0;34m()\u001b[0m\n\u001b[0;32m----> 1\u001b[0;31m \u001b[0musuarios_machine_learning\u001b[0m\u001b[0;34m[\u001b[0m\u001b[0;36m3\u001b[0m\u001b[0;34m]\u001b[0m\u001b[0;34m\u001b[0m\u001b[0;34m\u001b[0m\u001b[0m\n\u001b[0m",
            "\u001b[0;31mTypeError\u001b[0m: 'set' object is not subscriptable"
          ]
        }
      ]
    },
    {
      "cell_type": "code",
      "metadata": {
        "id": "H1r6kIq8UdQ8"
      },
      "source": [
        "for usuario in set(assistiram):\n",
        "  print(usuario)"
      ],
      "execution_count": null,
      "outputs": []
    },
    {
      "cell_type": "code",
      "metadata": {
        "id": "ZKlwF_J1Uv9J"
      },
      "source": [
        "usuarios_data_science = {15, 23, 43, 56}\n",
        "usuarios_machine_learning = {13, 23, 56, 42}"
      ],
      "execution_count": null,
      "outputs": []
    },
    {
      "cell_type": "code",
      "metadata": {
        "id": "iY2z9zJ7U8o8"
      },
      "source": [
        "usuarios_data_science | usuarios_machine_learning"
      ],
      "execution_count": null,
      "outputs": []
    },
    {
      "cell_type": "code",
      "metadata": {
        "id": "X3bAJcJxVCdZ"
      },
      "source": [
        "usuarios_data_science & usuarios_machine_learning"
      ],
      "execution_count": null,
      "outputs": []
    },
    {
      "cell_type": "code",
      "metadata": {
        "id": "pQQuLo3hV38a"
      },
      "source": [
        "usuarios_data_science - usuarios_machine_learning"
      ],
      "execution_count": null,
      "outputs": []
    },
    {
      "cell_type": "code",
      "metadata": {
        "id": "KG9PAeRyWTJA"
      },
      "source": [
        "fez_ds_mas_nao_fez_ml = usuarios_data_science - usuarios_machine_learning\n",
        "15 in fez_ds_mas_nao_fez_ml"
      ],
      "execution_count": null,
      "outputs": []
    },
    {
      "cell_type": "code",
      "metadata": {
        "id": "_OkHSSz5WhIz"
      },
      "source": [
        "23 in fez_ds_mas_nao_fez_ml"
      ],
      "execution_count": null,
      "outputs": []
    },
    {
      "cell_type": "code",
      "metadata": {
        "id": "rvVNkAGoWiwK"
      },
      "source": [
        "usuarios_data_science ^ usuarios_machine_learning"
      ],
      "execution_count": null,
      "outputs": []
    },
    {
      "cell_type": "code",
      "metadata": {
        "id": "rPU4ZKY2Wt3M"
      },
      "source": [
        "usuarios = {1,5,76,34,52,13,17}\n",
        "len(usuarios)"
      ],
      "execution_count": null,
      "outputs": []
    },
    {
      "cell_type": "code",
      "metadata": {
        "id": "uGWra2d2XMxe"
      },
      "source": [
        "usuarios.add(13)\n",
        "len(usuarios)"
      ],
      "execution_count": null,
      "outputs": []
    },
    {
      "cell_type": "code",
      "metadata": {
        "id": "TmDGZB7dXXOf"
      },
      "source": [
        "usuarios.add(765)\n",
        "len(usuarios)"
      ],
      "execution_count": null,
      "outputs": []
    },
    {
      "cell_type": "code",
      "metadata": {
        "id": "m4L2CL3xXijE"
      },
      "source": [
        "usuarios"
      ],
      "execution_count": null,
      "outputs": []
    },
    {
      "cell_type": "code",
      "metadata": {
        "id": "YpRGY4DkXjIg"
      },
      "source": [
        "usuarios = frozenset(usuarios)\n",
        "usuarios"
      ],
      "execution_count": null,
      "outputs": []
    },
    {
      "cell_type": "code",
      "metadata": {
        "id": "l2yI-H7eXvKR"
      },
      "source": [
        "type(usuarios)"
      ],
      "execution_count": null,
      "outputs": []
    },
    {
      "cell_type": "code",
      "metadata": {
        "id": "MSjV2bitXwJu"
      },
      "source": [
        "usuarios.add(134)"
      ],
      "execution_count": null,
      "outputs": []
    },
    {
      "cell_type": "code",
      "metadata": {
        "id": "rlB8Oa4lYYIP"
      },
      "source": [
        "meu_texto = \"Bem vindo meu nome é Guilherme eu gosto muito de nomes e tenho o meu cachorro e gosto muito de cachorro\"\n",
        "meu_texto.split()"
      ],
      "execution_count": null,
      "outputs": []
    },
    {
      "cell_type": "code",
      "metadata": {
        "id": "YZyJlPX6Yxdq"
      },
      "source": [
        "set(meu_texto.split())"
      ],
      "execution_count": null,
      "outputs": []
    },
    {
      "cell_type": "markdown",
      "metadata": {
        "id": "qlqHdM3ZcZ7l"
      },
      "source": [
        "# Dicionário (Mapa etc)"
      ]
    },
    {
      "cell_type": "code",
      "metadata": {
        "id": "OWCiYCM_b3qh"
      },
      "source": [
        "aparicoes = {\n",
        "  \"Guilherme\" : 1,\n",
        "  \"cachorro\" : 2,\n",
        "  \"nome\" : 2,\n",
        "  \"vindo\" : 1\n",
        "}"
      ],
      "execution_count": null,
      "outputs": []
    },
    {
      "cell_type": "code",
      "metadata": {
        "id": "pu-QhqYRdI4b"
      },
      "source": [
        "type(aparicoes)"
      ],
      "execution_count": null,
      "outputs": []
    },
    {
      "cell_type": "code",
      "metadata": {
        "id": "kZJTAP3tdKH3"
      },
      "source": [
        "aparicoes[\"Guilherme\"]"
      ],
      "execution_count": null,
      "outputs": []
    },
    {
      "cell_type": "code",
      "metadata": {
        "id": "g3vjxQYMdM2E"
      },
      "source": [
        "aparicoes[\"cachorro\"]"
      ],
      "execution_count": null,
      "outputs": []
    },
    {
      "cell_type": "code",
      "metadata": {
        "id": "RNgJA3aadPwv"
      },
      "source": [
        "aparicoes[\"xpto\"]"
      ],
      "execution_count": null,
      "outputs": []
    },
    {
      "cell_type": "code",
      "metadata": {
        "id": "I_gzWH2SdR7n"
      },
      "source": [
        "aparicoes.get(\"xpto\", 0)"
      ],
      "execution_count": null,
      "outputs": []
    },
    {
      "cell_type": "code",
      "metadata": {
        "id": "Oo2iBtvndaQw"
      },
      "source": [
        "aparicoes.get(\"cachorro\", 0)"
      ],
      "execution_count": null,
      "outputs": []
    },
    {
      "cell_type": "code",
      "metadata": {
        "id": "a_B-iOkldb4e"
      },
      "source": [
        "aparicoes = dict(Guilherme = 2, cachorro = 1)\n",
        "aparicoes"
      ],
      "execution_count": null,
      "outputs": []
    },
    {
      "cell_type": "code",
      "metadata": {
        "id": "5wuHdlU3doLR"
      },
      "source": [
        "aparicoes = {\n",
        "  \"Guilherme\" : 1,\n",
        "  \"cachorro\" : 2,\n",
        "  \"nome\" : 2,\n",
        "  \"vindo\" : 1\n",
        "}"
      ],
      "execution_count": null,
      "outputs": []
    },
    {
      "cell_type": "code",
      "metadata": {
        "id": "NMp3xM3ddvcO"
      },
      "source": [
        "aparicoes[\"Carlos\"] = 1"
      ],
      "execution_count": null,
      "outputs": []
    },
    {
      "cell_type": "code",
      "metadata": {
        "id": "fxEpSHiueyBk"
      },
      "source": [
        "aparicoes"
      ],
      "execution_count": null,
      "outputs": []
    },
    {
      "cell_type": "code",
      "metadata": {
        "id": "1SizwYQReyje"
      },
      "source": [
        "aparicoes[\"Carlos\"] = 2"
      ],
      "execution_count": null,
      "outputs": []
    },
    {
      "cell_type": "code",
      "metadata": {
        "id": "2gpFkshje0p8"
      },
      "source": [
        "aparicoes"
      ],
      "execution_count": null,
      "outputs": []
    },
    {
      "cell_type": "code",
      "metadata": {
        "id": "ZGhqf0mde1Fl"
      },
      "source": [
        "del aparicoes[\"Carlos\"]"
      ],
      "execution_count": null,
      "outputs": []
    },
    {
      "cell_type": "code",
      "metadata": {
        "id": "7uvITa6Ce4W6"
      },
      "source": [
        "aparicoes"
      ],
      "execution_count": null,
      "outputs": []
    },
    {
      "cell_type": "code",
      "metadata": {
        "id": "xuHDkuvue5KP"
      },
      "source": [
        "\"cachorro\" in aparicoes"
      ],
      "execution_count": null,
      "outputs": []
    },
    {
      "cell_type": "code",
      "metadata": {
        "id": "TBKKE3yefBgG"
      },
      "source": [
        "\"Carlos\" in aparicoes"
      ],
      "execution_count": null,
      "outputs": []
    },
    {
      "cell_type": "code",
      "metadata": {
        "id": "rlt7-k2jfDT8"
      },
      "source": [
        "for elemento in aparicoes:\n",
        "  print(elemento)"
      ],
      "execution_count": null,
      "outputs": []
    },
    {
      "cell_type": "code",
      "metadata": {
        "id": "kHwo32brfgaA"
      },
      "source": [
        "for elemento in aparicoes.keys():\n",
        "  print(elemento)"
      ],
      "execution_count": null,
      "outputs": []
    },
    {
      "cell_type": "code",
      "metadata": {
        "id": "KW8GzOvcfu88"
      },
      "source": [
        "for elemento in aparicoes.values():\n",
        "  print(elemento)"
      ],
      "execution_count": null,
      "outputs": []
    },
    {
      "cell_type": "code",
      "metadata": {
        "id": "M62GPqQRfxjc"
      },
      "source": [
        "1 in aparicoes.values()"
      ],
      "execution_count": null,
      "outputs": []
    },
    {
      "cell_type": "code",
      "metadata": {
        "id": "yJAJAHaGf0-9"
      },
      "source": [
        "for elemento in aparicoes.keys():\n",
        "  valor = aparicoes[elemento]\n",
        "  print(elemento, valor)"
      ],
      "execution_count": null,
      "outputs": []
    },
    {
      "cell_type": "code",
      "metadata": {
        "id": "v9Tm4C8Pf9aG"
      },
      "source": [
        "for elemento in aparicoes.items():\n",
        "  print(elemento)"
      ],
      "execution_count": null,
      "outputs": []
    },
    {
      "cell_type": "code",
      "metadata": {
        "id": "7DDc5IA2gERu"
      },
      "source": [
        "for chave, valor in aparicoes.items():\n",
        "  print(chave, \"=\", valor)"
      ],
      "execution_count": null,
      "outputs": []
    },
    {
      "cell_type": "code",
      "metadata": {
        "id": "HbLTgSrjgTZQ"
      },
      "source": [
        "[\"palavra {}\".format(chave) for chave in aparicoes.keys()]"
      ],
      "execution_count": null,
      "outputs": []
    },
    {
      "cell_type": "code",
      "metadata": {
        "id": "3JyAosM-glFf",
        "colab": {
          "base_uri": "https://localhost:8080/"
        },
        "outputId": "4f6abf6a-2987-46ba-975b-890be3cae3a0"
      },
      "source": [
        "meu_texto = \"Bem vindo meu nome é Guilherme eu gosto muito de nomes e tenho o meu cachorro e gosto muito de cachorro\"\n",
        "meu_texto = meu_texto.lower()\n",
        "\n",
        "aparicoes = {}\n",
        "\n",
        "for palavra in meu_texto.split():\n",
        "  ate_agora = aparicoes.get(palavra, 0)\n",
        "  aparicoes[palavra] = ate_agora + 1\n",
        "\n",
        "aparicoes"
      ],
      "execution_count": null,
      "outputs": [
        {
          "output_type": "execute_result",
          "data": {
            "text/plain": [
              "{'bem': 1,\n",
              " 'cachorro': 2,\n",
              " 'de': 2,\n",
              " 'e': 2,\n",
              " 'eu': 1,\n",
              " 'gosto': 2,\n",
              " 'guilherme': 1,\n",
              " 'meu': 2,\n",
              " 'muito': 2,\n",
              " 'nome': 1,\n",
              " 'nomes': 1,\n",
              " 'o': 1,\n",
              " 'tenho': 1,\n",
              " 'vindo': 1,\n",
              " 'é': 1}"
            ]
          },
          "metadata": {
            "tags": []
          },
          "execution_count": 14
        }
      ]
    },
    {
      "cell_type": "code",
      "metadata": {
        "id": "KT46hQmykHTz",
        "colab": {
          "base_uri": "https://localhost:8080/"
        },
        "outputId": "1a560404-3f04-4d2b-ff1e-181af556c395"
      },
      "source": [
        "from collections import defaultdict\n",
        "\n",
        "aparicoes = defaultdict(int)\n",
        "\n",
        "for palavra in meu_texto.split():\n",
        "  ate_agora = aparicoes[palavra]\n",
        "  aparicoes[palavra] = ate_agora + 1\n",
        "\n",
        "aparicoes"
      ],
      "execution_count": null,
      "outputs": [
        {
          "output_type": "execute_result",
          "data": {
            "text/plain": [
              "defaultdict(int,\n",
              "            {'bem': 1,\n",
              "             'cachorro': 2,\n",
              "             'de': 2,\n",
              "             'e': 2,\n",
              "             'eu': 1,\n",
              "             'gosto': 2,\n",
              "             'guilherme': 1,\n",
              "             'meu': 2,\n",
              "             'muito': 2,\n",
              "             'nome': 1,\n",
              "             'nomes': 1,\n",
              "             'o': 1,\n",
              "             'tenho': 1,\n",
              "             'vindo': 1,\n",
              "             'é': 1})"
            ]
          },
          "metadata": {
            "tags": []
          },
          "execution_count": 15
        }
      ]
    },
    {
      "cell_type": "code",
      "metadata": {
        "id": "qckvbx01lIxv",
        "colab": {
          "base_uri": "https://localhost:8080/"
        },
        "outputId": "33313ef8-dc2d-449b-ab4b-1b593c51429b"
      },
      "source": [
        "int()"
      ],
      "execution_count": null,
      "outputs": [
        {
          "output_type": "execute_result",
          "data": {
            "text/plain": [
              "0"
            ]
          },
          "metadata": {
            "tags": []
          },
          "execution_count": 16
        }
      ]
    },
    {
      "cell_type": "code",
      "metadata": {
        "id": "fBvUVw-0lJqi",
        "colab": {
          "base_uri": "https://localhost:8080/"
        },
        "outputId": "5c21e707-0f5e-455e-d97f-2151435745ea"
      },
      "source": [
        "dicionario = defaultdict(int)\n",
        "dicionario['guilherme']"
      ],
      "execution_count": null,
      "outputs": [
        {
          "output_type": "execute_result",
          "data": {
            "text/plain": [
              "0"
            ]
          },
          "metadata": {
            "tags": []
          },
          "execution_count": 17
        }
      ]
    },
    {
      "cell_type": "code",
      "metadata": {
        "id": "FsgSkVxIlcHF",
        "colab": {
          "base_uri": "https://localhost:8080/"
        },
        "outputId": "3fd52796-99f5-4966-9401-cb1afb960613"
      },
      "source": [
        "dicionario['guilherme'] = 15\n",
        "dicionario['guilherme']"
      ],
      "execution_count": null,
      "outputs": [
        {
          "output_type": "execute_result",
          "data": {
            "text/plain": [
              "15"
            ]
          },
          "metadata": {
            "tags": []
          },
          "execution_count": 18
        }
      ]
    },
    {
      "cell_type": "code",
      "metadata": {
        "id": "OZWXy3Hwldi1",
        "colab": {
          "base_uri": "https://localhost:8080/"
        },
        "outputId": "0752a4cd-8d46-4fb0-8aa9-2642fd5dacc0"
      },
      "source": [
        "aparicoes = defaultdict(int)\n",
        "\n",
        "for palavra in meu_texto.split():\n",
        "  aparicoes[palavra] += 1\n",
        "\n",
        "aparicoes"
      ],
      "execution_count": null,
      "outputs": [
        {
          "output_type": "execute_result",
          "data": {
            "text/plain": [
              "defaultdict(int,\n",
              "            {'bem': 1,\n",
              "             'cachorro': 2,\n",
              "             'de': 2,\n",
              "             'e': 2,\n",
              "             'eu': 1,\n",
              "             'gosto': 2,\n",
              "             'guilherme': 1,\n",
              "             'meu': 2,\n",
              "             'muito': 2,\n",
              "             'nome': 1,\n",
              "             'nomes': 1,\n",
              "             'o': 1,\n",
              "             'tenho': 1,\n",
              "             'vindo': 1,\n",
              "             'é': 1})"
            ]
          },
          "metadata": {
            "tags": []
          },
          "execution_count": 19
        }
      ]
    },
    {
      "cell_type": "code",
      "metadata": {
        "id": "1xVJWWCem9yo"
      },
      "source": [
        "class Conta:\n",
        "  def __init__(self):\n",
        "    print(\"Criando uma conta\")"
      ],
      "execution_count": null,
      "outputs": []
    },
    {
      "cell_type": "code",
      "metadata": {
        "id": "dkAqkUpxnKOk",
        "colab": {
          "base_uri": "https://localhost:8080/"
        },
        "outputId": "f1deb118-94fc-4cb0-f287-248847d9a9af"
      },
      "source": [
        "contas = defaultdict(Conta)\n",
        "contas[15]"
      ],
      "execution_count": null,
      "outputs": [
        {
          "output_type": "stream",
          "text": [
            "Criando uma conta\n"
          ],
          "name": "stdout"
        },
        {
          "output_type": "execute_result",
          "data": {
            "text/plain": [
              "<__main__.Conta at 0x7f36a9aaf3d0>"
            ]
          },
          "metadata": {
            "tags": []
          },
          "execution_count": 21
        }
      ]
    },
    {
      "cell_type": "code",
      "metadata": {
        "id": "t1MdIx-fnReT",
        "colab": {
          "base_uri": "https://localhost:8080/"
        },
        "outputId": "e10a9bb6-0f3a-40f6-db91-36aaa6b35e1d"
      },
      "source": [
        "contas[17]"
      ],
      "execution_count": null,
      "outputs": [
        {
          "output_type": "stream",
          "text": [
            "Criando uma conta\n"
          ],
          "name": "stdout"
        },
        {
          "output_type": "execute_result",
          "data": {
            "text/plain": [
              "<__main__.Conta at 0x7f36a9a4efd0>"
            ]
          },
          "metadata": {
            "tags": []
          },
          "execution_count": 22
        }
      ]
    },
    {
      "cell_type": "code",
      "metadata": {
        "id": "M_OhJofRnUOE",
        "colab": {
          "base_uri": "https://localhost:8080/"
        },
        "outputId": "650e09ab-6df6-45f6-c197-fd9fc310d0b1"
      },
      "source": [
        "contas[15]"
      ],
      "execution_count": null,
      "outputs": [
        {
          "output_type": "execute_result",
          "data": {
            "text/plain": [
              "<__main__.Conta at 0x7f36a9aaf3d0>"
            ]
          },
          "metadata": {
            "tags": []
          },
          "execution_count": 23
        }
      ]
    },
    {
      "cell_type": "code",
      "metadata": {
        "id": "xHBs1eNPnVf_",
        "colab": {
          "base_uri": "https://localhost:8080/"
        },
        "outputId": "96a3ec60-9cc7-40aa-a83c-67a3b4c01f62"
      },
      "source": [
        "from collections import Counter\n",
        "\n",
        "aparicoes = Counter()\n",
        "for palavra in meu_texto.split():\n",
        "  aparicoes[palavra] += 1\n",
        "\n",
        "aparicoes"
      ],
      "execution_count": null,
      "outputs": [
        {
          "output_type": "execute_result",
          "data": {
            "text/plain": [
              "Counter({'bem': 1,\n",
              "         'cachorro': 2,\n",
              "         'de': 2,\n",
              "         'e': 2,\n",
              "         'eu': 1,\n",
              "         'gosto': 2,\n",
              "         'guilherme': 1,\n",
              "         'meu': 2,\n",
              "         'muito': 2,\n",
              "         'nome': 1,\n",
              "         'nomes': 1,\n",
              "         'o': 1,\n",
              "         'tenho': 1,\n",
              "         'vindo': 1,\n",
              "         'é': 1})"
            ]
          },
          "metadata": {
            "tags": []
          },
          "execution_count": 24
        }
      ]
    },
    {
      "cell_type": "code",
      "metadata": {
        "id": "_EG6L-5Cnrqk",
        "colab": {
          "base_uri": "https://localhost:8080/"
        },
        "outputId": "68b7c7f3-ff44-444e-9d4f-3d621bda96f4"
      },
      "source": [
        "aparicoes = Counter(meu_texto.split())\n",
        "\n",
        "aparicoes"
      ],
      "execution_count": null,
      "outputs": [
        {
          "output_type": "execute_result",
          "data": {
            "text/plain": [
              "Counter({'bem': 1,\n",
              "         'cachorro': 2,\n",
              "         'de': 2,\n",
              "         'e': 2,\n",
              "         'eu': 1,\n",
              "         'gosto': 2,\n",
              "         'guilherme': 1,\n",
              "         'meu': 2,\n",
              "         'muito': 2,\n",
              "         'nome': 1,\n",
              "         'nomes': 1,\n",
              "         'o': 1,\n",
              "         'tenho': 1,\n",
              "         'vindo': 1,\n",
              "         'é': 1})"
            ]
          },
          "metadata": {
            "tags": []
          },
          "execution_count": 25
        }
      ]
    },
    {
      "cell_type": "code",
      "metadata": {
        "id": "B8RIUEnrnx8O"
      },
      "source": [
        "#Testando diversas coleções"
      ],
      "execution_count": null,
      "outputs": []
    },
    {
      "cell_type": "code",
      "metadata": {
        "id": "vxDU3NXPQyDP"
      },
      "source": [
        "texto1 = \"\"\"A Prefeitura do Rio de Janeiro publicou no Diário Oficial desta sexta-feira (19) um decreto determinando o fechamento das praias para conter o avanço da Covid na cidade.\n",
        "\n",
        "As regras se somam às do decreto publicado há uma semana e, a princípio, valem somente para este fim de semana — da 0h de sábado (20) até as 5h de segunda-feira (22). O prefeito Eduardo Paes ainda prevê a antecipação dos feriados de abril.\n",
        "\n",
        "Está proibido:\n",
        "Ficar na areia da praia;\n",
        "Praticar esportes na praia;\n",
        "Tomar banho de mar;\n",
        "Comércio e serviços na praia, incluindo ambulantes;\n",
        "Entrada de ônibus e vans fretados na cidade, exceto de hotéis;\n",
        "Estacionar na orla.\n",
        "Quiosques podem abrir normalmente.\"\"\"\n",
        "\n"
      ],
      "execution_count": null,
      "outputs": []
    },
    {
      "cell_type": "code",
      "metadata": {
        "id": "nNfaI1_eRI8H"
      },
      "source": [
        "texto2 = '''O relógio marcava 9h38 da manhã desta sexta-feira quando, depois de 23 dias, Paulo Mariano deixou o Centro de Observação e Triagem Professor Everardo Luna (Cotel) - ao conseguir um habeas corpus, na última quinta-feira. Detido há quase um mês - desde 24 de fevereiro - acusado de um assalto a ônibus, que aconteceu em 2018, Paulo foi preso por reconhecimento fotográfico. E assim como 83% das pessoas presas através desse recurso, Paulo é negro.\n",
        "\n",
        "Vestido com uma bermuda jeans, camisa branca e chinelo de dedo, Paulo caminhou apressadamente para o encontro da esposa, que o aguardava ao lado de fora do Cotel. O abraço, regado a choro, era inevitável.'''"
      ],
      "execution_count": null,
      "outputs": []
    },
    {
      "cell_type": "code",
      "metadata": {
        "colab": {
          "base_uri": "https://localhost:8080/"
        },
        "id": "ESfP90maRdgM",
        "outputId": "7710bc7d-ca48-42b6-a6da-b62c6d1dd12f"
      },
      "source": [
        "aparicoes = Counter(texto1.lower())\n",
        "total_de_caracteres = sum(aparicoes.values())\n",
        "\n",
        "for letra, frequencia in aparicoes.items():\n",
        "  porcent = round((frequencia/total_de_caracteres)*100,2)\n",
        "  tupla = (letra, '{} %'.format(porcent))\n",
        "  print(tupla)"
      ],
      "execution_count": null,
      "outputs": [
        {
          "output_type": "stream",
          "text": [
            "('a', '11.81 %')\n",
            "(' ', '15.4 %')\n",
            "('p', '2.84 %')\n",
            "('r', '6.28 %')\n",
            "('e', '9.12 %')\n",
            "('f', '1.49 %')\n",
            "('i', '6.13 %')\n",
            "('t', '3.59 %')\n",
            "('u', '1.94 %')\n",
            "('d', '5.68 %')\n",
            "('o', '6.73 %')\n",
            "('j', '0.15 %')\n",
            "('n', '4.48 %')\n",
            "('b', '1.35 %')\n",
            "('l', '1.35 %')\n",
            "('c', '2.84 %')\n",
            "('á', '0.6 %')\n",
            "('s', '4.78 %')\n",
            "('x', '0.3 %')\n",
            "('-', '0.3 %')\n",
            "('(', '0.45 %')\n",
            "('1', '0.15 %')\n",
            "('9', '0.15 %')\n",
            "(')', '0.45 %')\n",
            "('m', '2.69 %')\n",
            "('h', '0.9 %')\n",
            "('v', '0.9 %')\n",
            "('ç', '0.45 %')\n",
            "('.', '0.75 %')\n",
            "('\\n', '1.64 %')\n",
            "('g', '0.3 %')\n",
            "('à', '0.15 %')\n",
            "(',', '0.6 %')\n",
            "('í', '0.15 %')\n",
            "('—', '0.15 %')\n",
            "('0', '0.3 %')\n",
            "('2', '0.45 %')\n",
            "('é', '0.45 %')\n",
            "('5', '0.15 %')\n",
            "('ê', '0.15 %')\n",
            "('ã', '0.15 %')\n",
            "(':', '0.15 %')\n",
            "(';', '0.75 %')\n",
            "('ô', '0.15 %')\n",
            "('q', '0.3 %')\n"
          ],
          "name": "stdout"
        }
      ]
    },
    {
      "cell_type": "code",
      "metadata": {
        "id": "4GsPZe04RsRo"
      },
      "source": [
        "def analisa(texto):\n",
        "  aparicoes = Counter(texto.lower())\n",
        "  total_de_caracteres = sum(aparicoes.values())\n",
        "\n",
        "  proporcoes = [(letra, frequencia/total_de_caracteres) for letra, frequencia in aparicoes.items()]\n",
        "  proporcoes = Counter(dict(proporcoes))\n",
        "  mais_comuns = proporcoes.most_common(10)\n",
        "  for caractere, proporcao in mais_comuns:\n",
        "    print('{} => {}%'.format(caractere, round(proporcao*100,2)))\n"
      ],
      "execution_count": null,
      "outputs": []
    },
    {
      "cell_type": "code",
      "metadata": {
        "colab": {
          "base_uri": "https://localhost:8080/"
        },
        "id": "8UrM7yGjUq6G",
        "outputId": "bbbee34c-4783-4f97-df9c-1bead11707ed"
      },
      "source": [
        "analisa(texto1)"
      ],
      "execution_count": null,
      "outputs": [
        {
          "output_type": "stream",
          "text": [
            "  => 15.4%\n",
            "a => 11.81%\n",
            "e => 9.12%\n",
            "o => 6.73%\n",
            "r => 6.28%\n",
            "i => 6.13%\n",
            "d => 5.68%\n",
            "s => 4.78%\n",
            "n => 4.48%\n",
            "t => 3.59%\n"
          ],
          "name": "stdout"
        }
      ]
    },
    {
      "cell_type": "code",
      "metadata": {
        "colab": {
          "base_uri": "https://localhost:8080/"
        },
        "id": "8rgy23HOVeoj",
        "outputId": "4a0bd750-1968-4778-e4be-156951ff23fb"
      },
      "source": [
        "analisa(texto2)"
      ],
      "execution_count": null,
      "outputs": [
        {
          "output_type": "stream",
          "text": [
            "  => 16.59%\n",
            "a => 10.29%\n",
            "e => 9.52%\n",
            "o => 9.06%\n",
            "s => 5.68%\n",
            "r => 5.53%\n",
            "d => 4.61%\n",
            "i => 3.69%\n",
            "u => 3.69%\n",
            "c => 3.23%\n"
          ],
          "name": "stdout"
        }
      ]
    },
    {
      "cell_type": "code",
      "metadata": {
        "id": "L9ju8_biVnax"
      },
      "source": [],
      "execution_count": null,
      "outputs": []
    }
  ]
}