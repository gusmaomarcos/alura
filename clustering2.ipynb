{
  "nbformat": 4,
  "nbformat_minor": 0,
  "metadata": {
    "colab": {
      "provenance": [],
      "include_colab_link": true
    },
    "kernelspec": {
      "name": "python3",
      "display_name": "Python 3"
    },
    "language_info": {
      "name": "python"
    }
  },
  "cells": [
    {
      "cell_type": "markdown",
      "metadata": {
        "id": "view-in-github",
        "colab_type": "text"
      },
      "source": [
        "<a href=\"https://colab.research.google.com/github/gusmaomarcos/alura/blob/main/clustering2.ipynb\" target=\"_parent\"><img src=\"https://colab.research.google.com/assets/colab-badge.svg\" alt=\"Open In Colab\"/></a>"
      ]
    },
    {
      "cell_type": "code",
      "metadata": {
        "id": "g0l7MtV91hFK"
      },
      "source": [
        "import pandas as pd\n",
        "url =  'https://raw.githubusercontent.com/alura-cursos/alura-clustering-validation/base-de-dados/CC%20GENERAL.csv'\n",
        "df = pd.read_csv(url)"
      ],
      "execution_count": null,
      "outputs": []
    },
    {
      "cell_type": "code",
      "metadata": {
        "colab": {
          "base_uri": "https://localhost:8080/",
          "height": 224
        },
        "id": "bA2T41ko1oxA",
        "outputId": "a94a911e-459b-417f-c07e-b1f13106365c"
      },
      "source": [
        "df.head()"
      ],
      "execution_count": null,
      "outputs": [
        {
          "output_type": "execute_result",
          "data": {
            "text/html": [
              "<div>\n",
              "<style scoped>\n",
              "    .dataframe tbody tr th:only-of-type {\n",
              "        vertical-align: middle;\n",
              "    }\n",
              "\n",
              "    .dataframe tbody tr th {\n",
              "        vertical-align: top;\n",
              "    }\n",
              "\n",
              "    .dataframe thead th {\n",
              "        text-align: right;\n",
              "    }\n",
              "</style>\n",
              "<table border=\"1\" class=\"dataframe\">\n",
              "  <thead>\n",
              "    <tr style=\"text-align: right;\">\n",
              "      <th></th>\n",
              "      <th>CUST_ID</th>\n",
              "      <th>BALANCE</th>\n",
              "      <th>BALANCE_FREQUENCY</th>\n",
              "      <th>PURCHASES</th>\n",
              "      <th>ONEOFF_PURCHASES</th>\n",
              "      <th>INSTALLMENTS_PURCHASES</th>\n",
              "      <th>CASH_ADVANCE</th>\n",
              "      <th>PURCHASES_FREQUENCY</th>\n",
              "      <th>ONEOFF_PURCHASES_FREQUENCY</th>\n",
              "      <th>PURCHASES_INSTALLMENTS_FREQUENCY</th>\n",
              "      <th>CASH_ADVANCE_FREQUENCY</th>\n",
              "      <th>CASH_ADVANCE_TRX</th>\n",
              "      <th>PURCHASES_TRX</th>\n",
              "      <th>CREDIT_LIMIT</th>\n",
              "      <th>PAYMENTS</th>\n",
              "      <th>MINIMUM_PAYMENTS</th>\n",
              "      <th>PRC_FULL_PAYMENT</th>\n",
              "      <th>TENURE</th>\n",
              "    </tr>\n",
              "  </thead>\n",
              "  <tbody>\n",
              "    <tr>\n",
              "      <th>0</th>\n",
              "      <td>C10001</td>\n",
              "      <td>40.900749</td>\n",
              "      <td>0.818182</td>\n",
              "      <td>95.40</td>\n",
              "      <td>0.00</td>\n",
              "      <td>95.4</td>\n",
              "      <td>0.000000</td>\n",
              "      <td>0.166667</td>\n",
              "      <td>0.000000</td>\n",
              "      <td>0.083333</td>\n",
              "      <td>0.000000</td>\n",
              "      <td>0</td>\n",
              "      <td>2</td>\n",
              "      <td>1000.0</td>\n",
              "      <td>201.802084</td>\n",
              "      <td>139.509787</td>\n",
              "      <td>0.000000</td>\n",
              "      <td>12</td>\n",
              "    </tr>\n",
              "    <tr>\n",
              "      <th>1</th>\n",
              "      <td>C10002</td>\n",
              "      <td>3202.467416</td>\n",
              "      <td>0.909091</td>\n",
              "      <td>0.00</td>\n",
              "      <td>0.00</td>\n",
              "      <td>0.0</td>\n",
              "      <td>6442.945483</td>\n",
              "      <td>0.000000</td>\n",
              "      <td>0.000000</td>\n",
              "      <td>0.000000</td>\n",
              "      <td>0.250000</td>\n",
              "      <td>4</td>\n",
              "      <td>0</td>\n",
              "      <td>7000.0</td>\n",
              "      <td>4103.032597</td>\n",
              "      <td>1072.340217</td>\n",
              "      <td>0.222222</td>\n",
              "      <td>12</td>\n",
              "    </tr>\n",
              "    <tr>\n",
              "      <th>2</th>\n",
              "      <td>C10003</td>\n",
              "      <td>2495.148862</td>\n",
              "      <td>1.000000</td>\n",
              "      <td>773.17</td>\n",
              "      <td>773.17</td>\n",
              "      <td>0.0</td>\n",
              "      <td>0.000000</td>\n",
              "      <td>1.000000</td>\n",
              "      <td>1.000000</td>\n",
              "      <td>0.000000</td>\n",
              "      <td>0.000000</td>\n",
              "      <td>0</td>\n",
              "      <td>12</td>\n",
              "      <td>7500.0</td>\n",
              "      <td>622.066742</td>\n",
              "      <td>627.284787</td>\n",
              "      <td>0.000000</td>\n",
              "      <td>12</td>\n",
              "    </tr>\n",
              "    <tr>\n",
              "      <th>3</th>\n",
              "      <td>C10004</td>\n",
              "      <td>1666.670542</td>\n",
              "      <td>0.636364</td>\n",
              "      <td>1499.00</td>\n",
              "      <td>1499.00</td>\n",
              "      <td>0.0</td>\n",
              "      <td>205.788017</td>\n",
              "      <td>0.083333</td>\n",
              "      <td>0.083333</td>\n",
              "      <td>0.000000</td>\n",
              "      <td>0.083333</td>\n",
              "      <td>1</td>\n",
              "      <td>1</td>\n",
              "      <td>7500.0</td>\n",
              "      <td>0.000000</td>\n",
              "      <td>NaN</td>\n",
              "      <td>0.000000</td>\n",
              "      <td>12</td>\n",
              "    </tr>\n",
              "    <tr>\n",
              "      <th>4</th>\n",
              "      <td>C10005</td>\n",
              "      <td>817.714335</td>\n",
              "      <td>1.000000</td>\n",
              "      <td>16.00</td>\n",
              "      <td>16.00</td>\n",
              "      <td>0.0</td>\n",
              "      <td>0.000000</td>\n",
              "      <td>0.083333</td>\n",
              "      <td>0.083333</td>\n",
              "      <td>0.000000</td>\n",
              "      <td>0.000000</td>\n",
              "      <td>0</td>\n",
              "      <td>1</td>\n",
              "      <td>1200.0</td>\n",
              "      <td>678.334763</td>\n",
              "      <td>244.791237</td>\n",
              "      <td>0.000000</td>\n",
              "      <td>12</td>\n",
              "    </tr>\n",
              "  </tbody>\n",
              "</table>\n",
              "</div>"
            ],
            "text/plain": [
              "  CUST_ID      BALANCE  ...  PRC_FULL_PAYMENT  TENURE\n",
              "0  C10001    40.900749  ...          0.000000      12\n",
              "1  C10002  3202.467416  ...          0.222222      12\n",
              "2  C10003  2495.148862  ...          0.000000      12\n",
              "3  C10004  1666.670542  ...          0.000000      12\n",
              "4  C10005   817.714335  ...          0.000000      12\n",
              "\n",
              "[5 rows x 18 columns]"
            ]
          },
          "metadata": {
            "tags": []
          },
          "execution_count": 2
        }
      ]
    },
    {
      "cell_type": "code",
      "metadata": {
        "id": "P4YgkNFA6p2R"
      },
      "source": [
        "df.drop(columns=['CUST_ID','TENURE'], inplace=True)"
      ],
      "execution_count": null,
      "outputs": []
    },
    {
      "cell_type": "code",
      "metadata": {
        "colab": {
          "base_uri": "https://localhost:8080/"
        },
        "id": "UIqP3Bbk1tPz",
        "outputId": "60f876e5-37b7-4d94-f281-dfc074dac08f"
      },
      "source": [
        "missing = df.isna().sum()\n",
        "print(missing)"
      ],
      "execution_count": null,
      "outputs": [
        {
          "output_type": "stream",
          "text": [
            "BALANCE                               0\n",
            "BALANCE_FREQUENCY                     0\n",
            "PURCHASES                             0\n",
            "ONEOFF_PURCHASES                      0\n",
            "INSTALLMENTS_PURCHASES                0\n",
            "CASH_ADVANCE                          0\n",
            "PURCHASES_FREQUENCY                   0\n",
            "ONEOFF_PURCHASES_FREQUENCY            0\n",
            "PURCHASES_INSTALLMENTS_FREQUENCY      0\n",
            "CASH_ADVANCE_FREQUENCY                0\n",
            "CASH_ADVANCE_TRX                      0\n",
            "PURCHASES_TRX                         0\n",
            "CREDIT_LIMIT                          1\n",
            "PAYMENTS                              0\n",
            "MINIMUM_PAYMENTS                    313\n",
            "PRC_FULL_PAYMENT                      0\n",
            "dtype: int64\n"
          ],
          "name": "stdout"
        }
      ]
    },
    {
      "cell_type": "code",
      "metadata": {
        "id": "XJa5Fgm34oFe"
      },
      "source": [
        "df.fillna(df.median(), inplace=True)"
      ],
      "execution_count": null,
      "outputs": []
    },
    {
      "cell_type": "code",
      "metadata": {
        "colab": {
          "base_uri": "https://localhost:8080/"
        },
        "id": "jdwruvH84-i3",
        "outputId": "b1f668e2-9f57-4db5-ecca-328cc7936d74"
      },
      "source": [
        "missing = df.isna().sum()\n",
        "print(missing)"
      ],
      "execution_count": null,
      "outputs": [
        {
          "output_type": "stream",
          "text": [
            "BALANCE                             0\n",
            "BALANCE_FREQUENCY                   0\n",
            "PURCHASES                           0\n",
            "ONEOFF_PURCHASES                    0\n",
            "INSTALLMENTS_PURCHASES              0\n",
            "CASH_ADVANCE                        0\n",
            "PURCHASES_FREQUENCY                 0\n",
            "ONEOFF_PURCHASES_FREQUENCY          0\n",
            "PURCHASES_INSTALLMENTS_FREQUENCY    0\n",
            "CASH_ADVANCE_FREQUENCY              0\n",
            "CASH_ADVANCE_TRX                    0\n",
            "PURCHASES_TRX                       0\n",
            "CREDIT_LIMIT                        0\n",
            "PAYMENTS                            0\n",
            "MINIMUM_PAYMENTS                    0\n",
            "PRC_FULL_PAYMENT                    0\n",
            "dtype: int64\n"
          ],
          "name": "stdout"
        }
      ]
    },
    {
      "cell_type": "code",
      "metadata": {
        "colab": {
          "base_uri": "https://localhost:8080/"
        },
        "id": "vpeuwoZZ5BUC",
        "outputId": "3ba62dc1-2e68-48fe-f34a-613a9834a30e"
      },
      "source": [
        "from sklearn.preprocessing import Normalizer\n",
        "values = Normalizer().fit_transform(df.values)\n",
        "print(values)"
      ],
      "execution_count": null,
      "outputs": [
        {
          "output_type": "stream",
          "text": [
            "[[3.93555441e-02 7.87271593e-04 9.17958473e-02 ... 1.94178127e-01\n",
            "  1.34239194e-01 0.00000000e+00]\n",
            " [2.93875903e-01 8.34231560e-05 0.00000000e+00 ... 3.76516684e-01\n",
            "  9.84037959e-02 2.03923046e-05]\n",
            " [3.10798149e-01 1.24560965e-04 9.63068011e-02 ... 7.74852335e-02\n",
            "  7.81351982e-02 0.00000000e+00]\n",
            " ...\n",
            " [2.27733092e-02 8.11060955e-04 1.40540698e-01 ... 7.90986945e-02\n",
            "  8.02156174e-02 2.43318384e-04]\n",
            " [2.65257948e-02 1.64255731e-03 0.00000000e+00 ... 1.03579625e-01\n",
            "  1.09898221e-01 4.92767391e-04]\n",
            " [1.86406219e-01 3.33426837e-04 5.46778061e-01 ... 3.15915455e-02\n",
            "  4.41568390e-02 0.00000000e+00]]\n"
          ],
          "name": "stdout"
        }
      ]
    },
    {
      "cell_type": "code",
      "metadata": {
        "id": "es0j9GcJ5rLz"
      },
      "source": [
        "from sklearn.cluster import KMeans\n",
        "kmeans = KMeans(n_clusters=5, n_init=10, max_iter=300)\n",
        "y_pred = kmeans.fit_predict(values)"
      ],
      "execution_count": null,
      "outputs": []
    },
    {
      "cell_type": "code",
      "metadata": {
        "colab": {
          "base_uri": "https://localhost:8080/"
        },
        "id": "Xw93AtXu7Zis",
        "outputId": "41f9e6e6-0a1b-4f80-e9d7-d89bf81e987d"
      },
      "source": [
        "from sklearn import metrics\n",
        "labels = kmeans.labels_\n",
        "silhouette = metrics.silhouette_score(values, labels, metric='euclidean')\n",
        "print(silhouette)"
      ],
      "execution_count": null,
      "outputs": [
        {
          "output_type": "stream",
          "text": [
            "0.36454314826693845\n"
          ],
          "name": "stdout"
        }
      ]
    },
    {
      "cell_type": "code",
      "metadata": {
        "id": "r4CEzxJPB-At",
        "colab": {
          "base_uri": "https://localhost:8080/"
        },
        "outputId": "ddbb432f-dc9d-42a5-ec64-bcef1dd87a57"
      },
      "source": [
        "dbs = metrics.davies_bouldin_score(values, labels)\n",
        "print(dbs)"
      ],
      "execution_count": null,
      "outputs": [
        {
          "output_type": "stream",
          "text": [
            "1.075812734747931\n"
          ],
          "name": "stdout"
        }
      ]
    },
    {
      "cell_type": "code",
      "metadata": {
        "colab": {
          "base_uri": "https://localhost:8080/"
        },
        "id": "Ry7fxAYWXIJF",
        "outputId": "7e2c2aa1-d1ae-4bb0-94a4-2ad1c9a54aff"
      },
      "source": [
        "calinski = metrics.calinski_harabasz_score(values, labels)\n",
        "print(calinski)"
      ],
      "execution_count": null,
      "outputs": [
        {
          "output_type": "stream",
          "text": [
            "3431.8005407346513\n"
          ],
          "name": "stdout"
        }
      ]
    },
    {
      "cell_type": "code",
      "metadata": {
        "id": "TNVr5YN0dY1E"
      },
      "source": [
        "def clustering_algorithm(n_clusters, dataset):\n",
        "  kmeans = KMeans(n_clusters=n_clusters, n_init=10, max_iter=300)\n",
        "  labels = kmeans.fit_predict(dataset)\n",
        "  s = metrics.silhouette_score(dataset, labels, metric='euclidean')\n",
        "  dbs = metrics.davies_bouldin_score(dataset, labels)\n",
        "  calinski = metrics.calinski_harabasz_score(dataset, labels)\n",
        "  return s, dbs, calinski"
      ],
      "execution_count": null,
      "outputs": []
    },
    {
      "cell_type": "code",
      "metadata": {
        "colab": {
          "base_uri": "https://localhost:8080/"
        },
        "id": "MlDfYdmbep2b",
        "outputId": "397a45be-968e-457d-ad25-ef32938e057e"
      },
      "source": [
        "s1, dbs1, calinski1 = clustering_algorithm(3, values)\n",
        "print(s1, dbs1, calinski1)"
      ],
      "execution_count": null,
      "outputs": [
        {
          "output_type": "stream",
          "text": [
            "0.3272203126696238 1.309607364008843 3526.4405199082735\n"
          ],
          "name": "stdout"
        }
      ]
    },
    {
      "cell_type": "code",
      "metadata": {
        "colab": {
          "base_uri": "https://localhost:8080/"
        },
        "id": "72vngRtje2Yb",
        "outputId": "4ffb4af8-5f57-44be-affb-1afd0bd6c1fc"
      },
      "source": [
        "s2, dbs2, calinski2 = clustering_algorithm(5, values)\n",
        "print(s2, dbs2, calinski2)"
      ],
      "execution_count": null,
      "outputs": [
        {
          "output_type": "stream",
          "text": [
            "0.3645252169780562 1.0756224069224563 3431.798945679164\n"
          ],
          "name": "stdout"
        }
      ]
    },
    {
      "cell_type": "code",
      "metadata": {
        "colab": {
          "base_uri": "https://localhost:8080/"
        },
        "id": "QgzjP92QfBAe",
        "outputId": "cbfe23f1-e372-43c8-e82e-9459c3b8d9cf"
      },
      "source": [
        "s3, dbs3, calinski3 = clustering_algorithm(10, values)\n",
        "print(s3, dbs3, calinski3)"
      ],
      "execution_count": null,
      "outputs": [
        {
          "output_type": "stream",
          "text": [
            "0.3052117942511356 1.1559243570850806 3017.724106588098\n"
          ],
          "name": "stdout"
        }
      ]
    },
    {
      "cell_type": "code",
      "metadata": {
        "colab": {
          "base_uri": "https://localhost:8080/"
        },
        "id": "F-B2PLd4fSAl",
        "outputId": "7a388f3f-cf7c-4991-9404-f435ed7321da"
      },
      "source": [
        "s4, dbs4, calinski4 = clustering_algorithm(50, values)\n",
        "print(s4, dbs4, calinski4)"
      ],
      "execution_count": null,
      "outputs": [
        {
          "output_type": "stream",
          "text": [
            "0.2381162100372027 1.2141646315308265 1623.9204768210575\n"
          ],
          "name": "stdout"
        }
      ]
    },
    {
      "cell_type": "code",
      "metadata": {
        "colab": {
          "base_uri": "https://localhost:8080/"
        },
        "id": "mnm6wEitfVfY",
        "outputId": "3110f566-0f43-45d9-c515-601d9386fa77"
      },
      "source": [
        "df.count()"
      ],
      "execution_count": null,
      "outputs": [
        {
          "output_type": "execute_result",
          "data": {
            "text/plain": [
              "BALANCE                             8950\n",
              "BALANCE_FREQUENCY                   8950\n",
              "PURCHASES                           8950\n",
              "ONEOFF_PURCHASES                    8950\n",
              "INSTALLMENTS_PURCHASES              8950\n",
              "CASH_ADVANCE                        8950\n",
              "PURCHASES_FREQUENCY                 8950\n",
              "ONEOFF_PURCHASES_FREQUENCY          8950\n",
              "PURCHASES_INSTALLMENTS_FREQUENCY    8950\n",
              "CASH_ADVANCE_FREQUENCY              8950\n",
              "CASH_ADVANCE_TRX                    8950\n",
              "PURCHASES_TRX                       8950\n",
              "CREDIT_LIMIT                        8950\n",
              "PAYMENTS                            8950\n",
              "MINIMUM_PAYMENTS                    8950\n",
              "PRC_FULL_PAYMENT                    8950\n",
              "dtype: int64"
            ]
          },
          "metadata": {
            "tags": []
          },
          "execution_count": 17
        }
      ]
    },
    {
      "cell_type": "code",
      "metadata": {
        "id": "fHM3_mlZf7Ql"
      },
      "source": [
        "import numpy as np"
      ],
      "execution_count": null,
      "outputs": []
    },
    {
      "cell_type": "code",
      "metadata": {
        "id": "WRmf40OYf9oj"
      },
      "source": [
        "random_data = np.random.rand(8950, 16)"
      ],
      "execution_count": null,
      "outputs": []
    },
    {
      "cell_type": "code",
      "metadata": {
        "colab": {
          "base_uri": "https://localhost:8080/"
        },
        "id": "U8MseI-5gFfg",
        "outputId": "bc27b9b7-1201-4f38-8af3-636f2e6f3b44"
      },
      "source": [
        "s, dbs, cal = clustering_algorithm(5, random_data)\n",
        "print(s, dbs, cal)"
      ],
      "execution_count": null,
      "outputs": [
        {
          "output_type": "stream",
          "text": [
            "0.03940819710078461 3.4752497506461806 302.31497124885937\n"
          ],
          "name": "stdout"
        }
      ]
    },
    {
      "cell_type": "code",
      "metadata": {
        "colab": {
          "base_uri": "https://localhost:8080/"
        },
        "id": "Rgg8RZuEgO_o",
        "outputId": "798eee09-2d03-489a-b6a0-03c18c83143d"
      },
      "source": [
        "s2, dbs2, calinski2 = clustering_algorithm(5, values)\n",
        "print(s2, dbs2, calinski2)"
      ],
      "execution_count": null,
      "outputs": [
        {
          "output_type": "stream",
          "text": [
            "0.36451198422831005 1.0754963863506783 3431.794767050229\n"
          ],
          "name": "stdout"
        }
      ]
    },
    {
      "cell_type": "code",
      "metadata": {
        "colab": {
          "base_uri": "https://localhost:8080/"
        },
        "id": "og-IhMd0gTBD",
        "outputId": "74870a32-ab2b-4fc3-97aa-b9bb1c211e61"
      },
      "source": [
        "set1, set2, set3 = np.array_split(values, 3)\n",
        "s1, dbs1, calinski1 = clustering_algorithm(5, set1)\n",
        "s2, dbs2, calinski2 = clustering_algorithm(5, set2)\n",
        "s3, dbs3, calinski3 = clustering_algorithm(5, set3)\n",
        "print(s1, dbs1, calinski1)\n",
        "print(s2, dbs2, calinski2)\n",
        "print(s3, dbs3, calinski3)"
      ],
      "execution_count": null,
      "outputs": [
        {
          "output_type": "stream",
          "text": [
            "0.36917231372515974 1.0531540506998933 1204.0366202023076\n",
            "0.3538212950180423 1.139783250125324 1194.934780331434\n",
            "0.3668564117315988 1.0993525253456347 1167.53130822615\n"
          ],
          "name": "stdout"
        }
      ]
    },
    {
      "cell_type": "code",
      "metadata": {
        "colab": {
          "base_uri": "https://localhost:8080/",
          "height": 296
        },
        "id": "n7j5JVlChLvi",
        "outputId": "c6891bc3-6348-4202-be40-98d3be0c9b6e"
      },
      "source": [
        "import matplotlib.pyplot as plt\n",
        "plt.scatter(df['PURCHASES'], df['PAYMENTS'], c=labels, s=5, cmap='rainbow')\n",
        "plt.xlabel('Valor Total Pago')\n",
        "plt.ylabel('Valor Total Gasto')"
      ],
      "execution_count": null,
      "outputs": [
        {
          "output_type": "execute_result",
          "data": {
            "text/plain": [
              "Text(0, 0.5, 'Valor Total Gasto')"
            ]
          },
          "metadata": {
            "tags": []
          },
          "execution_count": 23
        },
        {
          "output_type": "display_data",
          "data": {
            "image/png": "[encoded data removed]",
            "text/plain": [
              "<Figure size 432x288 with 1 Axes>"
            ]
          },
          "metadata": {
            "tags": [],
            "needs_background": "light"
          }
        }
      ]
    },
    {
      "cell_type": "code",
      "metadata": {
        "id": "VvtEP1YRi2LI"
      },
      "source": [
        "import seaborn as sns\n",
        "df['cluster'] = labels\n",
        "#sns.pairplot(df[0:], hue='cluster')\n",
        "#Muitos gráficos que não comunicam nada"
      ],
      "execution_count": null,
      "outputs": []
    },
    {
      "cell_type": "code",
      "metadata": {
        "id": "M9JjM7DkkA_Y",
        "colab": {
          "base_uri": "https://localhost:8080/",
          "height": 315
        },
        "outputId": "5a2359f3-9ec4-47a8-929f-e540bcece10b"
      },
      "source": [
        "df.groupby('cluster').describe()"
      ],
      "execution_count": null,
      "outputs": [
        {
          "output_type": "execute_result",
          "data": {
            "text/html": [
              "<div>\n",
              "<style scoped>\n",
              "    .dataframe tbody tr th:only-of-type {\n",
              "        vertical-align: middle;\n",
              "    }\n",
              "\n",
              "    .dataframe tbody tr th {\n",
              "        vertical-align: top;\n",
              "    }\n",
              "\n",
              "    .dataframe thead tr th {\n",
              "        text-align: left;\n",
              "    }\n",
              "\n",
              "    .dataframe thead tr:last-of-type th {\n",
              "        text-align: right;\n",
              "    }\n",
              "</style>\n",
              "<table border=\"1\" class=\"dataframe\">\n",
              "  <thead>\n",
              "    <tr>\n",
              "      <th></th>\n",
              "      <th colspan=\"8\" halign=\"left\">BALANCE</th>\n",
              "      <th colspan=\"8\" halign=\"left\">BALANCE_FREQUENCY</th>\n",
              "      <th colspan=\"8\" halign=\"left\">PURCHASES</th>\n",
              "      <th colspan=\"8\" halign=\"left\">ONEOFF_PURCHASES</th>\n",
              "      <th colspan=\"8\" halign=\"left\">INSTALLMENTS_PURCHASES</th>\n",
              "      <th>...</th>\n",
              "      <th colspan=\"8\" halign=\"left\">PURCHASES_TRX</th>\n",
              "      <th colspan=\"8\" halign=\"left\">CREDIT_LIMIT</th>\n",
              "      <th colspan=\"8\" halign=\"left\">PAYMENTS</th>\n",
              "      <th colspan=\"8\" halign=\"left\">MINIMUM_PAYMENTS</th>\n",
              "      <th colspan=\"8\" halign=\"left\">PRC_FULL_PAYMENT</th>\n",
              "    </tr>\n",
              "    <tr>\n",
              "      <th></th>\n",
              "      <th>count</th>\n",
              "      <th>mean</th>\n",
              "      <th>std</th>\n",
              "      <th>min</th>\n",
              "      <th>25%</th>\n",
              "      <th>50%</th>\n",
              "      <th>75%</th>\n",
              "      <th>max</th>\n",
              "      <th>count</th>\n",
              "      <th>mean</th>\n",
              "      <th>std</th>\n",
              "      <th>min</th>\n",
              "      <th>25%</th>\n",
              "      <th>50%</th>\n",
              "      <th>75%</th>\n",
              "      <th>max</th>\n",
              "      <th>count</th>\n",
              "      <th>mean</th>\n",
              "      <th>std</th>\n",
              "      <th>min</th>\n",
              "      <th>25%</th>\n",
              "      <th>50%</th>\n",
              "      <th>75%</th>\n",
              "      <th>max</th>\n",
              "      <th>count</th>\n",
              "      <th>mean</th>\n",
              "      <th>std</th>\n",
              "      <th>min</th>\n",
              "      <th>25%</th>\n",
              "      <th>50%</th>\n",
              "      <th>75%</th>\n",
              "      <th>max</th>\n",
              "      <th>count</th>\n",
              "      <th>mean</th>\n",
              "      <th>std</th>\n",
              "      <th>min</th>\n",
              "      <th>25%</th>\n",
              "      <th>50%</th>\n",
              "      <th>75%</th>\n",
              "      <th>max</th>\n",
              "      <th>...</th>\n",
              "      <th>count</th>\n",
              "      <th>mean</th>\n",
              "      <th>std</th>\n",
              "      <th>min</th>\n",
              "      <th>25%</th>\n",
              "      <th>50%</th>\n",
              "      <th>75%</th>\n",
              "      <th>max</th>\n",
              "      <th>count</th>\n",
              "      <th>mean</th>\n",
              "      <th>std</th>\n",
              "      <th>min</th>\n",
              "      <th>25%</th>\n",
              "      <th>50%</th>\n",
              "      <th>75%</th>\n",
              "      <th>max</th>\n",
              "      <th>count</th>\n",
              "      <th>mean</th>\n",
              "      <th>std</th>\n",
              "      <th>min</th>\n",
              "      <th>25%</th>\n",
              "      <th>50%</th>\n",
              "      <th>75%</th>\n",
              "      <th>max</th>\n",
              "      <th>count</th>\n",
              "      <th>mean</th>\n",
              "      <th>std</th>\n",
              "      <th>min</th>\n",
              "      <th>25%</th>\n",
              "      <th>50%</th>\n",
              "      <th>75%</th>\n",
              "      <th>max</th>\n",
              "      <th>count</th>\n",
              "      <th>mean</th>\n",
              "      <th>std</th>\n",
              "      <th>min</th>\n",
              "      <th>25%</th>\n",
              "      <th>50%</th>\n",
              "      <th>75%</th>\n",
              "      <th>max</th>\n",
              "    </tr>\n",
              "    <tr>\n",
              "      <th>cluster</th>\n",
              "      <th></th>\n",
              "      <th></th>\n",
              "      <th></th>\n",
              "      <th></th>\n",
              "      <th></th>\n",
              "      <th></th>\n",
              "      <th></th>\n",
              "      <th></th>\n",
              "      <th></th>\n",
              "      <th></th>\n",
              "      <th></th>\n",
              "      <th></th>\n",
              "      <th></th>\n",
              "      <th></th>\n",
              "      <th></th>\n",
              "      <th></th>\n",
              "      <th></th>\n",
              "      <th></th>\n",
              "      <th></th>\n",
              "      <th></th>\n",
              "      <th></th>\n",
              "      <th></th>\n",
              "      <th></th>\n",
              "      <th></th>\n",
              "      <th></th>\n",
              "      <th></th>\n",
              "      <th></th>\n",
              "      <th></th>\n",
              "      <th></th>\n",
              "      <th></th>\n",
              "      <th></th>\n",
              "      <th></th>\n",
              "      <th></th>\n",
              "      <th></th>\n",
              "      <th></th>\n",
              "      <th></th>\n",
              "      <th></th>\n",
              "      <th></th>\n",
              "      <th></th>\n",
              "      <th></th>\n",
              "      <th></th>\n",
              "      <th></th>\n",
              "      <th></th>\n",
              "      <th></th>\n",
              "      <th></th>\n",
              "      <th></th>\n",
              "      <th></th>\n",
              "      <th></th>\n",
              "      <th></th>\n",
              "      <th></th>\n",
              "      <th></th>\n",
              "      <th></th>\n",
              "      <th></th>\n",
              "      <th></th>\n",
              "      <th></th>\n",
              "      <th></th>\n",
              "      <th></th>\n",
              "      <th></th>\n",
              "      <th></th>\n",
              "      <th></th>\n",
              "      <th></th>\n",
              "      <th></th>\n",
              "      <th></th>\n",
              "      <th></th>\n",
              "      <th></th>\n",
              "      <th></th>\n",
              "      <th></th>\n",
              "      <th></th>\n",
              "      <th></th>\n",
              "      <th></th>\n",
              "      <th></th>\n",
              "      <th></th>\n",
              "      <th></th>\n",
              "      <th></th>\n",
              "      <th></th>\n",
              "      <th></th>\n",
              "      <th></th>\n",
              "      <th></th>\n",
              "      <th></th>\n",
              "      <th></th>\n",
              "      <th></th>\n",
              "    </tr>\n",
              "  </thead>\n",
              "  <tbody>\n",
              "    <tr>\n",
              "      <th>0</th>\n",
              "      <td>411.0</td>\n",
              "      <td>1987.501586</td>\n",
              "      <td>1854.459156</td>\n",
              "      <td>70.794108</td>\n",
              "      <td>1018.958891</td>\n",
              "      <td>1337.287314</td>\n",
              "      <td>2138.678431</td>\n",
              "      <td>11670.179850</td>\n",
              "      <td>411.0</td>\n",
              "      <td>0.989486</td>\n",
              "      <td>0.046382</td>\n",
              "      <td>0.636364</td>\n",
              "      <td>1.000000</td>\n",
              "      <td>1.0</td>\n",
              "      <td>1.0</td>\n",
              "      <td>1.0</td>\n",
              "      <td>411.0</td>\n",
              "      <td>854.865815</td>\n",
              "      <td>1233.968491</td>\n",
              "      <td>0.00</td>\n",
              "      <td>150.00</td>\n",
              "      <td>498.960</td>\n",
              "      <td>1047.1200</td>\n",
              "      <td>11147.33</td>\n",
              "      <td>411.0</td>\n",
              "      <td>184.572360</td>\n",
              "      <td>453.949781</td>\n",
              "      <td>0.0</td>\n",
              "      <td>0.00</td>\n",
              "      <td>0.000</td>\n",
              "      <td>150.7100</td>\n",
              "      <td>4020.33</td>\n",
              "      <td>411.0</td>\n",
              "      <td>671.135426</td>\n",
              "      <td>1125.536349</td>\n",
              "      <td>0.0</td>\n",
              "      <td>0.00</td>\n",
              "      <td>335.620</td>\n",
              "      <td>837.70</td>\n",
              "      <td>10009.93</td>\n",
              "      <td>...</td>\n",
              "      <td>411.0</td>\n",
              "      <td>17.579075</td>\n",
              "      <td>23.964719</td>\n",
              "      <td>0.0</td>\n",
              "      <td>3.5</td>\n",
              "      <td>12.0</td>\n",
              "      <td>21.0</td>\n",
              "      <td>199.0</td>\n",
              "      <td>411.0</td>\n",
              "      <td>2227.737226</td>\n",
              "      <td>1978.900160</td>\n",
              "      <td>150.0</td>\n",
              "      <td>1000.0</td>\n",
              "      <td>1500.0</td>\n",
              "      <td>2500.0</td>\n",
              "      <td>11500.0</td>\n",
              "      <td>411.0</td>\n",
              "      <td>1336.238911</td>\n",
              "      <td>1441.018204</td>\n",
              "      <td>27.832777</td>\n",
              "      <td>435.475022</td>\n",
              "      <td>864.471651</td>\n",
              "      <td>1611.923446</td>\n",
              "      <td>8735.607835</td>\n",
              "      <td>411.0</td>\n",
              "      <td>6042.286901</td>\n",
              "      <td>8626.599856</td>\n",
              "      <td>201.615417</td>\n",
              "      <td>1518.695404</td>\n",
              "      <td>3016.951267</td>\n",
              "      <td>7112.618584</td>\n",
              "      <td>76406.207520</td>\n",
              "      <td>411.0</td>\n",
              "      <td>0.019318</td>\n",
              "      <td>0.090901</td>\n",
              "      <td>0.0</td>\n",
              "      <td>0.0</td>\n",
              "      <td>0.000000</td>\n",
              "      <td>0.000000</td>\n",
              "      <td>1.0</td>\n",
              "    </tr>\n",
              "    <tr>\n",
              "      <th>1</th>\n",
              "      <td>3280.0</td>\n",
              "      <td>443.746756</td>\n",
              "      <td>846.398201</td>\n",
              "      <td>0.000000</td>\n",
              "      <td>23.365333</td>\n",
              "      <td>82.941478</td>\n",
              "      <td>410.126094</td>\n",
              "      <td>9630.367575</td>\n",
              "      <td>3280.0</td>\n",
              "      <td>0.774389</td>\n",
              "      <td>0.301702</td>\n",
              "      <td>0.000000</td>\n",
              "      <td>0.545455</td>\n",
              "      <td>1.0</td>\n",
              "      <td>1.0</td>\n",
              "      <td>1.0</td>\n",
              "      <td>3280.0</td>\n",
              "      <td>629.249107</td>\n",
              "      <td>759.030943</td>\n",
              "      <td>0.00</td>\n",
              "      <td>133.00</td>\n",
              "      <td>363.615</td>\n",
              "      <td>834.3125</td>\n",
              "      <td>6407.67</td>\n",
              "      <td>3280.0</td>\n",
              "      <td>314.074954</td>\n",
              "      <td>566.491579</td>\n",
              "      <td>0.0</td>\n",
              "      <td>0.00</td>\n",
              "      <td>26.325</td>\n",
              "      <td>407.2525</td>\n",
              "      <td>6300.40</td>\n",
              "      <td>3280.0</td>\n",
              "      <td>315.509040</td>\n",
              "      <td>440.503483</td>\n",
              "      <td>0.0</td>\n",
              "      <td>0.00</td>\n",
              "      <td>167.135</td>\n",
              "      <td>428.02</td>\n",
              "      <td>4116.00</td>\n",
              "      <td>...</td>\n",
              "      <td>3280.0</td>\n",
              "      <td>11.953049</td>\n",
              "      <td>14.077908</td>\n",
              "      <td>0.0</td>\n",
              "      <td>3.0</td>\n",
              "      <td>8.0</td>\n",
              "      <td>15.0</td>\n",
              "      <td>232.0</td>\n",
              "      <td>3280.0</td>\n",
              "      <td>5130.547795</td>\n",
              "      <td>3699.225988</td>\n",
              "      <td>300.0</td>\n",
              "      <td>2500.0</td>\n",
              "      <td>4000.0</td>\n",
              "      <td>7000.0</td>\n",
              "      <td>30000.0</td>\n",
              "      <td>3280.0</td>\n",
              "      <td>814.294226</td>\n",
              "      <td>963.480969</td>\n",
              "      <td>0.000000</td>\n",
              "      <td>221.073805</td>\n",
              "      <td>499.038060</td>\n",
              "      <td>1047.179868</td>\n",
              "      <td>8946.495566</td>\n",
              "      <td>3280.0</td>\n",
              "      <td>228.519011</td>\n",
              "      <td>236.598132</td>\n",
              "      <td>0.019163</td>\n",
              "      <td>119.943089</td>\n",
              "      <td>171.617668</td>\n",
              "      <td>248.733727</td>\n",
              "      <td>4483.503862</td>\n",
              "      <td>3280.0</td>\n",
              "      <td>0.246806</td>\n",
              "      <td>0.346748</td>\n",
              "      <td>0.0</td>\n",
              "      <td>0.0</td>\n",
              "      <td>0.000000</td>\n",
              "      <td>0.444444</td>\n",
              "      <td>1.0</td>\n",
              "    </tr>\n",
              "    <tr>\n",
              "      <th>2</th>\n",
              "      <td>1073.0</td>\n",
              "      <td>1795.328292</td>\n",
              "      <td>1982.485775</td>\n",
              "      <td>0.000000</td>\n",
              "      <td>507.076999</td>\n",
              "      <td>1088.056301</td>\n",
              "      <td>2315.003636</td>\n",
              "      <td>14581.459140</td>\n",
              "      <td>1073.0</td>\n",
              "      <td>0.862260</td>\n",
              "      <td>0.231163</td>\n",
              "      <td>0.000000</td>\n",
              "      <td>0.818182</td>\n",
              "      <td>1.0</td>\n",
              "      <td>1.0</td>\n",
              "      <td>1.0</td>\n",
              "      <td>1073.0</td>\n",
              "      <td>476.810531</td>\n",
              "      <td>1190.757452</td>\n",
              "      <td>0.00</td>\n",
              "      <td>0.00</td>\n",
              "      <td>36.790</td>\n",
              "      <td>500.0000</td>\n",
              "      <td>22101.78</td>\n",
              "      <td>1073.0</td>\n",
              "      <td>287.466915</td>\n",
              "      <td>965.051159</td>\n",
              "      <td>0.0</td>\n",
              "      <td>0.00</td>\n",
              "      <td>0.000</td>\n",
              "      <td>233.0900</td>\n",
              "      <td>22101.78</td>\n",
              "      <td>1073.0</td>\n",
              "      <td>189.396477</td>\n",
              "      <td>506.269828</td>\n",
              "      <td>0.0</td>\n",
              "      <td>0.00</td>\n",
              "      <td>0.000</td>\n",
              "      <td>145.00</td>\n",
              "      <td>8409.93</td>\n",
              "      <td>...</td>\n",
              "      <td>1073.0</td>\n",
              "      <td>7.370923</td>\n",
              "      <td>18.344963</td>\n",
              "      <td>0.0</td>\n",
              "      <td>0.0</td>\n",
              "      <td>1.0</td>\n",
              "      <td>8.0</td>\n",
              "      <td>308.0</td>\n",
              "      <td>1073.0</td>\n",
              "      <td>3982.452201</td>\n",
              "      <td>3517.790702</td>\n",
              "      <td>50.0</td>\n",
              "      <td>1500.0</td>\n",
              "      <td>2500.0</td>\n",
              "      <td>6000.0</td>\n",
              "      <td>21000.0</td>\n",
              "      <td>1073.0</td>\n",
              "      <td>4713.384730</td>\n",
              "      <td>5008.368710</td>\n",
              "      <td>193.747321</td>\n",
              "      <td>1682.814334</td>\n",
              "      <td>3056.718074</td>\n",
              "      <td>5965.070573</td>\n",
              "      <td>40627.595240</td>\n",
              "      <td>1073.0</td>\n",
              "      <td>734.167995</td>\n",
              "      <td>1120.137134</td>\n",
              "      <td>1.334075</td>\n",
              "      <td>221.511130</td>\n",
              "      <td>443.370345</td>\n",
              "      <td>884.183626</td>\n",
              "      <td>21235.065300</td>\n",
              "      <td>1073.0</td>\n",
              "      <td>0.117430</td>\n",
              "      <td>0.186772</td>\n",
              "      <td>0.0</td>\n",
              "      <td>0.0</td>\n",
              "      <td>0.083333</td>\n",
              "      <td>0.142857</td>\n",
              "      <td>1.0</td>\n",
              "    </tr>\n",
              "    <tr>\n",
              "      <th>3</th>\n",
              "      <td>2649.0</td>\n",
              "      <td>3037.962543</td>\n",
              "      <td>2478.838161</td>\n",
              "      <td>6.824905</td>\n",
              "      <td>1256.612223</td>\n",
              "      <td>2174.018945</td>\n",
              "      <td>4223.867789</td>\n",
              "      <td>18495.558550</td>\n",
              "      <td>2649.0</td>\n",
              "      <td>0.963740</td>\n",
              "      <td>0.121784</td>\n",
              "      <td>0.090909</td>\n",
              "      <td>1.000000</td>\n",
              "      <td>1.0</td>\n",
              "      <td>1.0</td>\n",
              "      <td>1.0</td>\n",
              "      <td>2649.0</td>\n",
              "      <td>385.248630</td>\n",
              "      <td>776.751711</td>\n",
              "      <td>0.00</td>\n",
              "      <td>0.00</td>\n",
              "      <td>62.020</td>\n",
              "      <td>435.0400</td>\n",
              "      <td>7823.74</td>\n",
              "      <td>2649.0</td>\n",
              "      <td>232.969339</td>\n",
              "      <td>554.167957</td>\n",
              "      <td>0.0</td>\n",
              "      <td>0.00</td>\n",
              "      <td>0.000</td>\n",
              "      <td>200.5100</td>\n",
              "      <td>7564.81</td>\n",
              "      <td>2649.0</td>\n",
              "      <td>152.368543</td>\n",
              "      <td>378.128453</td>\n",
              "      <td>0.0</td>\n",
              "      <td>0.00</td>\n",
              "      <td>0.000</td>\n",
              "      <td>122.00</td>\n",
              "      <td>4092.67</td>\n",
              "      <td>...</td>\n",
              "      <td>2649.0</td>\n",
              "      <td>7.189128</td>\n",
              "      <td>15.120591</td>\n",
              "      <td>0.0</td>\n",
              "      <td>0.0</td>\n",
              "      <td>1.0</td>\n",
              "      <td>9.0</td>\n",
              "      <td>208.0</td>\n",
              "      <td>2649.0</td>\n",
              "      <td>4495.771989</td>\n",
              "      <td>3606.189483</td>\n",
              "      <td>200.0</td>\n",
              "      <td>1700.0</td>\n",
              "      <td>3000.0</td>\n",
              "      <td>6500.0</td>\n",
              "      <td>22000.0</td>\n",
              "      <td>2649.0</td>\n",
              "      <td>968.890376</td>\n",
              "      <td>920.253083</td>\n",
              "      <td>0.000000</td>\n",
              "      <td>377.255832</td>\n",
              "      <td>678.334763</td>\n",
              "      <td>1289.284068</td>\n",
              "      <td>11123.409180</td>\n",
              "      <td>2649.0</td>\n",
              "      <td>1022.143477</td>\n",
              "      <td>906.516526</td>\n",
              "      <td>67.786744</td>\n",
              "      <td>405.644986</td>\n",
              "      <td>710.889925</td>\n",
              "      <td>1330.593643</td>\n",
              "      <td>8345.641905</td>\n",
              "      <td>2649.0</td>\n",
              "      <td>0.001799</td>\n",
              "      <td>0.023260</td>\n",
              "      <td>0.0</td>\n",
              "      <td>0.0</td>\n",
              "      <td>0.000000</td>\n",
              "      <td>0.000000</td>\n",
              "      <td>0.6</td>\n",
              "    </tr>\n",
              "    <tr>\n",
              "      <th>4</th>\n",
              "      <td>1537.0</td>\n",
              "      <td>1142.320861</td>\n",
              "      <td>1664.363459</td>\n",
              "      <td>0.000000</td>\n",
              "      <td>212.282538</td>\n",
              "      <td>555.131027</td>\n",
              "      <td>1370.317105</td>\n",
              "      <td>19043.138560</td>\n",
              "      <td>1537.0</td>\n",
              "      <td>0.928267</td>\n",
              "      <td>0.166151</td>\n",
              "      <td>0.000000</td>\n",
              "      <td>1.000000</td>\n",
              "      <td>1.0</td>\n",
              "      <td>1.0</td>\n",
              "      <td>1.0</td>\n",
              "      <td>1537.0</td>\n",
              "      <td>3273.425517</td>\n",
              "      <td>4076.483427</td>\n",
              "      <td>100.98</td>\n",
              "      <td>1148.47</td>\n",
              "      <td>2148.020</td>\n",
              "      <td>3873.5000</td>\n",
              "      <td>49039.57</td>\n",
              "      <td>1537.0</td>\n",
              "      <td>2127.977619</td>\n",
              "      <td>3357.933559</td>\n",
              "      <td>0.0</td>\n",
              "      <td>398.67</td>\n",
              "      <td>1253.360</td>\n",
              "      <td>2562.2700</td>\n",
              "      <td>40761.25</td>\n",
              "      <td>1537.0</td>\n",
              "      <td>1146.065335</td>\n",
              "      <td>1690.893786</td>\n",
              "      <td>0.0</td>\n",
              "      <td>167.96</td>\n",
              "      <td>677.610</td>\n",
              "      <td>1450.79</td>\n",
              "      <td>22500.00</td>\n",
              "      <td>...</td>\n",
              "      <td>1537.0</td>\n",
              "      <td>37.910865</td>\n",
              "      <td>41.259633</td>\n",
              "      <td>0.0</td>\n",
              "      <td>12.0</td>\n",
              "      <td>25.0</td>\n",
              "      <td>48.0</td>\n",
              "      <td>358.0</td>\n",
              "      <td>1537.0</td>\n",
              "      <td>4097.306540</td>\n",
              "      <td>3639.125942</td>\n",
              "      <td>200.0</td>\n",
              "      <td>1500.0</td>\n",
              "      <td>3000.0</td>\n",
              "      <td>6000.0</td>\n",
              "      <td>30000.0</td>\n",
              "      <td>1537.0</td>\n",
              "      <td>3036.763695</td>\n",
              "      <td>4070.831686</td>\n",
              "      <td>0.000000</td>\n",
              "      <td>943.278170</td>\n",
              "      <td>1889.297390</td>\n",
              "      <td>3716.880684</td>\n",
              "      <td>50721.483360</td>\n",
              "      <td>1537.0</td>\n",
              "      <td>542.337644</td>\n",
              "      <td>1111.642071</td>\n",
              "      <td>14.012997</td>\n",
              "      <td>168.814522</td>\n",
              "      <td>218.825218</td>\n",
              "      <td>523.893953</td>\n",
              "      <td>18621.013310</td>\n",
              "      <td>1537.0</td>\n",
              "      <td>0.278150</td>\n",
              "      <td>0.367086</td>\n",
              "      <td>0.0</td>\n",
              "      <td>0.0</td>\n",
              "      <td>0.083333</td>\n",
              "      <td>0.545455</td>\n",
              "      <td>1.0</td>\n",
              "    </tr>\n",
              "  </tbody>\n",
              "</table>\n",
              "<p>5 rows × 128 columns</p>\n",
              "</div>"
            ],
            "text/plain": [
              "        BALANCE                            ... PRC_FULL_PAYMENT               \n",
              "          count         mean          std  ...              50%       75%  max\n",
              "cluster                                    ...                                \n",
              "0         411.0  1987.501586  1854.459156  ...         0.000000  0.000000  1.0\n",
              "1        3280.0   443.746756   846.398201  ...         0.000000  0.444444  1.0\n",
              "2        1073.0  1795.328292  1982.485775  ...         0.083333  0.142857  1.0\n",
              "3        2649.0  3037.962543  2478.838161  ...         0.000000  0.000000  0.6\n",
              "4        1537.0  1142.320861  1664.363459  ...         0.083333  0.545455  1.0\n",
              "\n",
              "[5 rows x 128 columns]"
            ]
          },
          "metadata": {
            "tags": []
          },
          "execution_count": 25
        }
      ]
    },
    {
      "cell_type": "code",
      "metadata": {
        "colab": {
          "base_uri": "https://localhost:8080/"
        },
        "id": "OdHvH01ouinc",
        "outputId": "dceaafd7-c0d3-469c-c953-0139f1c662ea"
      },
      "source": [
        "centroids = kmeans.cluster_centers_\n",
        "print(centroids)"
      ],
      "execution_count": null,
      "outputs": [
        {
          "output_type": "stream",
          "text": [
            "[[3.32918803e-01 2.68423552e-04 1.58240376e-01 3.63059801e-02\n",
            "  1.22319068e-01 5.83557153e-02 1.66754597e-04 2.64938445e-05\n",
            "  1.47063187e-04 1.93217566e-05 4.27934836e-04 3.86197017e-03\n",
            "  3.76718873e-01 2.51861450e-01 6.80311114e-01 4.23993819e-06]\n",
            " [6.90890221e-02 2.30787435e-04 1.21507361e-01 4.79670320e-02\n",
            "  7.36405575e-02 2.43310654e-02 1.72863102e-04 3.36686718e-05\n",
            "  1.40328311e-04 7.92341768e-06 1.23962309e-04 2.86381277e-03\n",
            "  9.43564102e-01 1.53799817e-01 5.68529799e-02 7.61493366e-05]\n",
            " [2.35130689e-01 2.16418717e-04 6.04525670e-02 3.44569238e-02\n",
            "  2.60008529e-02 3.99755165e-01 5.26563547e-05 2.05235176e-05\n",
            "  3.52245850e-05 6.54254245e-05 1.57052528e-03 1.12425758e-03\n",
            "  5.35275552e-01 5.98057989e-01 1.04294158e-01 2.77348362e-05]\n",
            " [5.04263792e-01 2.72194282e-04 6.17808431e-02 3.62269020e-02\n",
            "  2.55756543e-02 2.52903017e-01 6.73170559e-05 2.56975193e-05\n",
            "  4.50651626e-05 5.74388410e-05 1.15687334e-03 1.33194105e-03\n",
            "  7.19174706e-01 1.66205262e-01 1.79245673e-01 5.52303554e-07]\n",
            " [1.59999628e-01 2.45301618e-04 4.38629300e-01 2.57109259e-01\n",
            "  1.81691775e-01 2.58728121e-02 2.04397971e-04 8.90423829e-05\n",
            "  1.50590954e-04 9.39341912e-06 1.69901859e-04 6.17457556e-03\n",
            "  6.03719056e-01 4.02576568e-01 8.54459126e-02 7.19457109e-05]]\n"
          ],
          "name": "stdout"
        }
      ]
    },
    {
      "cell_type": "code",
      "metadata": {
        "colab": {
          "base_uri": "https://localhost:8080/"
        },
        "id": "D36Bs6M9wMMi",
        "outputId": "c54f423a-e61f-4642-fe60-1f4f6dfd0373"
      },
      "source": [
        "max = len(centroids[0])\n",
        "for i in range(max):\n",
        "  print(df.columns.values[i],'\\n{:.4f}'.format(centroids[:, i].var()))"
      ],
      "execution_count": null,
      "outputs": [
        {
          "output_type": "stream",
          "text": [
            "BALANCE \n",
            "0.0224\n",
            "BALANCE_FREQUENCY \n",
            "0.0000\n",
            "PURCHASES \n",
            "0.0197\n",
            "ONEOFF_PURCHASES \n",
            "0.0077\n",
            "INSTALLMENTS_PURCHASES \n",
            "0.0036\n",
            "CASH_ADVANCE \n",
            "0.0225\n",
            "PURCHASES_FREQUENCY \n",
            "0.0000\n",
            "ONEOFF_PURCHASES_FREQUENCY \n",
            "0.0000\n",
            "PURCHASES_INSTALLMENTS_FREQUENCY \n",
            "0.0000\n",
            "CASH_ADVANCE_FREQUENCY \n",
            "0.0000\n",
            "CASH_ADVANCE_TRX \n",
            "0.0000\n",
            "PURCHASES_TRX \n",
            "0.0000\n",
            "CREDIT_LIMIT \n",
            "0.0360\n",
            "PAYMENTS \n",
            "0.0280\n",
            "MINIMUM_PAYMENTS \n",
            "0.0543\n",
            "PRC_FULL_PAYMENT \n",
            "0.0000\n"
          ],
          "name": "stdout"
        }
      ]
    },
    {
      "cell_type": "markdown",
      "metadata": {
        "id": "xlvUyY8C4cqC"
      },
      "source": [
        "BALANCE 0.0224\n",
        "\n",
        "PURCHASES 0.0197\n",
        "\n",
        "CASH_ADVANCE 0.0225\n",
        "\n",
        "CREDIT_LIMIT 0.0360\n",
        "\n",
        "PAYMENTS 0.0280"
      ]
    },
    {
      "cell_type": "code",
      "metadata": {
        "colab": {
          "base_uri": "https://localhost:8080/"
        },
        "id": "F3ec6AVfzWK4",
        "outputId": "cbd3449e-de86-4acb-c63e-8f6daa0d3a05"
      },
      "source": [
        "description = df.groupby('cluster')['BALANCE', 'PURCHASES', 'CASH_ADVANCE', 'CREDIT_LIMIT', 'PAYMENTS']\n",
        "n_clients = description.size()\n",
        "description = description.mean()\n",
        "description['n_clients'] = n_clients\n",
        "print(description)"
      ],
      "execution_count": null,
      "outputs": [
        {
          "output_type": "stream",
          "text": [
            "             BALANCE    PURCHASES  ...     PAYMENTS  n_clients\n",
            "cluster                            ...                        \n",
            "0        1987.501586   854.865815  ...  1336.238911        411\n",
            "1         443.746756   629.249107  ...   814.294226       3280\n",
            "2        1795.328292   476.810531  ...  4713.384730       1073\n",
            "3        3037.962543   385.248630  ...   968.890376       2649\n",
            "4        1142.320861  3273.425517  ...  3036.763695       1537\n",
            "\n",
            "[5 rows x 6 columns]\n"
          ],
          "name": "stdout"
        },
        {
          "output_type": "stream",
          "text": [
            "/usr/local/lib/python3.7/dist-packages/ipykernel_launcher.py:1: FutureWarning: Indexing with multiple keys (implicitly converted to a tuple of keys) will be deprecated, use a list instead.\n",
            "  \"\"\"Entry point for launching an IPython kernel.\n"
          ],
          "name": "stderr"
        }
      ]
    },
    {
      "cell_type": "code",
      "metadata": {
        "id": "0uQ_psmozgLQ"
      },
      "source": [
        "\n"
      ],
      "execution_count": null,
      "outputs": []
    },
    {
      "cell_type": "markdown",
      "metadata": {
        "id": "lneTZD1R414L"
      },
      "source": [
        "cluster 0: Clientes que gastam pouco.\n",
        "\n",
        "cluster 1: Clientes que mais gastam. Sacam mais.\n",
        "\n",
        "cluster 2: Gastam muito com compras.\n",
        "\n",
        "cluster 3: Usam muitos saques.\n",
        "\n",
        "cluster 4:"
      ]
    },
    {
      "cell_type": "code",
      "metadata": {
        "id": "Q7724Ujw6R3B"
      },
      "source": [],
      "execution_count": null,
      "outputs": []
    }
  ]
}