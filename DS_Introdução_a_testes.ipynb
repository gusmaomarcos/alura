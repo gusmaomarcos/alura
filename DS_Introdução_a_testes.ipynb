{
  "nbformat": 4,
  "nbformat_minor": 0,
  "metadata": {
    "colab": {
      "provenance": [],
      "include_colab_link": true
    },
    "kernelspec": {
      "name": "python3",
      "display_name": "Python 3"
    },
    "language_info": {
      "name": "python"
    }
  },
  "cells": [
    {
      "cell_type": "markdown",
      "metadata": {
        "id": "view-in-github",
        "colab_type": "text"
      },
      "source": [
        "<a href=\"https://colab.research.google.com/github/gusmaomarcos/alura/blob/main/DS_Introdu%C3%A7%C3%A3o_a_testes.ipynb\" target=\"_parent\"><img src=\"https://colab.research.google.com/assets/colab-badge.svg\" alt=\"Open In Colab\"/></a>"
      ]
    },
    {
      "cell_type": "code",
      "metadata": {
        "id": "1dlJqqtui5Aw"
      },
      "source": [
        "import pandas as pd"
      ],
      "execution_count": null,
      "outputs": []
    },
    {
      "cell_type": "code",
      "metadata": {
        "id": "SoCGN_e4kmfT"
      },
      "source": [
        "tmdb = pd.read_csv('tmdb_5000_movies.csv')"
      ],
      "execution_count": null,
      "outputs": []
    },
    {
      "cell_type": "code",
      "metadata": {
        "colab": {
          "base_uri": "https://localhost:8080/",
          "height": 442
        },
        "id": "mJ6t32sVk2Bu",
        "outputId": "bd8d56e5-8528-4312-c1e9-c59505ae37b7"
      },
      "source": [
        "tmdb.head(3)"
      ],
      "execution_count": null,
      "outputs": [
        {
          "output_type": "execute_result",
          "data": {
            "text/html": [
              "<div>\n",
              "<style scoped>\n",
              "    .dataframe tbody tr th:only-of-type {\n",
              "        vertical-align: middle;\n",
              "    }\n",
              "\n",
              "    .dataframe tbody tr th {\n",
              "        vertical-align: top;\n",
              "    }\n",
              "\n",
              "    .dataframe thead th {\n",
              "        text-align: right;\n",
              "    }\n",
              "</style>\n",
              "<table border=\"1\" class=\"dataframe\">\n",
              "  <thead>\n",
              "    <tr style=\"text-align: right;\">\n",
              "      <th></th>\n",
              "      <th>budget</th>\n",
              "      <th>genres</th>\n",
              "      <th>homepage</th>\n",
              "      <th>id</th>\n",
              "      <th>keywords</th>\n",
              "      <th>original_language</th>\n",
              "      <th>original_title</th>\n",
              "      <th>overview</th>\n",
              "      <th>popularity</th>\n",
              "      <th>production_companies</th>\n",
              "      <th>production_countries</th>\n",
              "      <th>release_date</th>\n",
              "      <th>revenue</th>\n",
              "      <th>runtime</th>\n",
              "      <th>spoken_languages</th>\n",
              "      <th>status</th>\n",
              "      <th>tagline</th>\n",
              "      <th>title</th>\n",
              "      <th>vote_average</th>\n",
              "      <th>vote_count</th>\n",
              "    </tr>\n",
              "  </thead>\n",
              "  <tbody>\n",
              "    <tr>\n",
              "      <th>0</th>\n",
              "      <td>237000000</td>\n",
              "      <td>[{\"id\": 28, \"name\": \"Action\"}, {\"id\": 12, \"nam...</td>\n",
              "      <td>http://www.avatarmovie.com/</td>\n",
              "      <td>19995</td>\n",
              "      <td>[{\"id\": 1463, \"name\": \"culture clash\"}, {\"id\":...</td>\n",
              "      <td>en</td>\n",
              "      <td>Avatar</td>\n",
              "      <td>In the 22nd century, a paraplegic Marine is di...</td>\n",
              "      <td>150.437577</td>\n",
              "      <td>[{\"name\": \"Ingenious Film Partners\", \"id\": 289...</td>\n",
              "      <td>[{\"iso_3166_1\": \"US\", \"name\": \"United States o...</td>\n",
              "      <td>2009-12-10</td>\n",
              "      <td>2787965087</td>\n",
              "      <td>162.0</td>\n",
              "      <td>[{\"iso_639_1\": \"en\", \"name\": \"English\"}, {\"iso...</td>\n",
              "      <td>Released</td>\n",
              "      <td>Enter the World of Pandora.</td>\n",
              "      <td>Avatar</td>\n",
              "      <td>7.2</td>\n",
              "      <td>11800</td>\n",
              "    </tr>\n",
              "    <tr>\n",
              "      <th>1</th>\n",
              "      <td>300000000</td>\n",
              "      <td>[{\"id\": 12, \"name\": \"Adventure\"}, {\"id\": 14, \"...</td>\n",
              "      <td>http://disney.go.com/disneypictures/pirates/</td>\n",
              "      <td>285</td>\n",
              "      <td>[{\"id\": 270, \"name\": \"ocean\"}, {\"id\": 726, \"na...</td>\n",
              "      <td>en</td>\n",
              "      <td>Pirates of the Caribbean: At World's End</td>\n",
              "      <td>Captain Barbossa, long believed to be dead, ha...</td>\n",
              "      <td>139.082615</td>\n",
              "      <td>[{\"name\": \"Walt Disney Pictures\", \"id\": 2}, {\"...</td>\n",
              "      <td>[{\"iso_3166_1\": \"US\", \"name\": \"United States o...</td>\n",
              "      <td>2007-05-19</td>\n",
              "      <td>961000000</td>\n",
              "      <td>169.0</td>\n",
              "      <td>[{\"iso_639_1\": \"en\", \"name\": \"English\"}]</td>\n",
              "      <td>Released</td>\n",
              "      <td>At the end of the world, the adventure begins.</td>\n",
              "      <td>Pirates of the Caribbean: At World's End</td>\n",
              "      <td>6.9</td>\n",
              "      <td>4500</td>\n",
              "    </tr>\n",
              "    <tr>\n",
              "      <th>2</th>\n",
              "      <td>245000000</td>\n",
              "      <td>[{\"id\": 28, \"name\": \"Action\"}, {\"id\": 12, \"nam...</td>\n",
              "      <td>http://www.sonypictures.com/movies/spectre/</td>\n",
              "      <td>206647</td>\n",
              "      <td>[{\"id\": 470, \"name\": \"spy\"}, {\"id\": 818, \"name...</td>\n",
              "      <td>en</td>\n",
              "      <td>Spectre</td>\n",
              "      <td>A cryptic message from Bond’s past sends him o...</td>\n",
              "      <td>107.376788</td>\n",
              "      <td>[{\"name\": \"Columbia Pictures\", \"id\": 5}, {\"nam...</td>\n",
              "      <td>[{\"iso_3166_1\": \"GB\", \"name\": \"United Kingdom\"...</td>\n",
              "      <td>2015-10-26</td>\n",
              "      <td>880674609</td>\n",
              "      <td>148.0</td>\n",
              "      <td>[{\"iso_639_1\": \"fr\", \"name\": \"Fran\\u00e7ais\"},...</td>\n",
              "      <td>Released</td>\n",
              "      <td>A Plan No One Escapes</td>\n",
              "      <td>Spectre</td>\n",
              "      <td>6.3</td>\n",
              "      <td>4466</td>\n",
              "    </tr>\n",
              "  </tbody>\n",
              "</table>\n",
              "</div>"
            ],
            "text/plain": [
              "      budget  ... vote_count\n",
              "0  237000000  ...      11800\n",
              "1  300000000  ...       4500\n",
              "2  245000000  ...       4466\n",
              "\n",
              "[3 rows x 20 columns]"
            ]
          },
          "metadata": {
            "tags": []
          },
          "execution_count": 3
        }
      ]
    },
    {
      "cell_type": "code",
      "metadata": {
        "colab": {
          "base_uri": "https://localhost:8080/",
          "height": 284
        },
        "id": "MsDvffUrk3jc",
        "outputId": "9bc53a3d-738f-4185-9243-5573b38bbcfc"
      },
      "source": [
        "tmdb.describe()"
      ],
      "execution_count": null,
      "outputs": [
        {
          "output_type": "execute_result",
          "data": {
            "text/html": [
              "<div>\n",
              "<style scoped>\n",
              "    .dataframe tbody tr th:only-of-type {\n",
              "        vertical-align: middle;\n",
              "    }\n",
              "\n",
              "    .dataframe tbody tr th {\n",
              "        vertical-align: top;\n",
              "    }\n",
              "\n",
              "    .dataframe thead th {\n",
              "        text-align: right;\n",
              "    }\n",
              "</style>\n",
              "<table border=\"1\" class=\"dataframe\">\n",
              "  <thead>\n",
              "    <tr style=\"text-align: right;\">\n",
              "      <th></th>\n",
              "      <th>budget</th>\n",
              "      <th>id</th>\n",
              "      <th>popularity</th>\n",
              "      <th>revenue</th>\n",
              "      <th>runtime</th>\n",
              "      <th>vote_average</th>\n",
              "      <th>vote_count</th>\n",
              "    </tr>\n",
              "  </thead>\n",
              "  <tbody>\n",
              "    <tr>\n",
              "      <th>count</th>\n",
              "      <td>4.803000e+03</td>\n",
              "      <td>4803.000000</td>\n",
              "      <td>4803.000000</td>\n",
              "      <td>4.803000e+03</td>\n",
              "      <td>4801.000000</td>\n",
              "      <td>4803.000000</td>\n",
              "      <td>4803.000000</td>\n",
              "    </tr>\n",
              "    <tr>\n",
              "      <th>mean</th>\n",
              "      <td>2.904504e+07</td>\n",
              "      <td>57165.484281</td>\n",
              "      <td>21.492301</td>\n",
              "      <td>8.226064e+07</td>\n",
              "      <td>106.875859</td>\n",
              "      <td>6.092172</td>\n",
              "      <td>690.217989</td>\n",
              "    </tr>\n",
              "    <tr>\n",
              "      <th>std</th>\n",
              "      <td>4.072239e+07</td>\n",
              "      <td>88694.614033</td>\n",
              "      <td>31.816650</td>\n",
              "      <td>1.628571e+08</td>\n",
              "      <td>22.611935</td>\n",
              "      <td>1.194612</td>\n",
              "      <td>1234.585891</td>\n",
              "    </tr>\n",
              "    <tr>\n",
              "      <th>min</th>\n",
              "      <td>0.000000e+00</td>\n",
              "      <td>5.000000</td>\n",
              "      <td>0.000000</td>\n",
              "      <td>0.000000e+00</td>\n",
              "      <td>0.000000</td>\n",
              "      <td>0.000000</td>\n",
              "      <td>0.000000</td>\n",
              "    </tr>\n",
              "    <tr>\n",
              "      <th>25%</th>\n",
              "      <td>7.900000e+05</td>\n",
              "      <td>9014.500000</td>\n",
              "      <td>4.668070</td>\n",
              "      <td>0.000000e+00</td>\n",
              "      <td>94.000000</td>\n",
              "      <td>5.600000</td>\n",
              "      <td>54.000000</td>\n",
              "    </tr>\n",
              "    <tr>\n",
              "      <th>50%</th>\n",
              "      <td>1.500000e+07</td>\n",
              "      <td>14629.000000</td>\n",
              "      <td>12.921594</td>\n",
              "      <td>1.917000e+07</td>\n",
              "      <td>103.000000</td>\n",
              "      <td>6.200000</td>\n",
              "      <td>235.000000</td>\n",
              "    </tr>\n",
              "    <tr>\n",
              "      <th>75%</th>\n",
              "      <td>4.000000e+07</td>\n",
              "      <td>58610.500000</td>\n",
              "      <td>28.313505</td>\n",
              "      <td>9.291719e+07</td>\n",
              "      <td>118.000000</td>\n",
              "      <td>6.800000</td>\n",
              "      <td>737.000000</td>\n",
              "    </tr>\n",
              "    <tr>\n",
              "      <th>max</th>\n",
              "      <td>3.800000e+08</td>\n",
              "      <td>459488.000000</td>\n",
              "      <td>875.581305</td>\n",
              "      <td>2.787965e+09</td>\n",
              "      <td>338.000000</td>\n",
              "      <td>10.000000</td>\n",
              "      <td>13752.000000</td>\n",
              "    </tr>\n",
              "  </tbody>\n",
              "</table>\n",
              "</div>"
            ],
            "text/plain": [
              "             budget             id  ...  vote_average    vote_count\n",
              "count  4.803000e+03    4803.000000  ...   4803.000000   4803.000000\n",
              "mean   2.904504e+07   57165.484281  ...      6.092172    690.217989\n",
              "std    4.072239e+07   88694.614033  ...      1.194612   1234.585891\n",
              "min    0.000000e+00       5.000000  ...      0.000000      0.000000\n",
              "25%    7.900000e+05    9014.500000  ...      5.600000     54.000000\n",
              "50%    1.500000e+07   14629.000000  ...      6.200000    235.000000\n",
              "75%    4.000000e+07   58610.500000  ...      6.800000    737.000000\n",
              "max    3.800000e+08  459488.000000  ...     10.000000  13752.000000\n",
              "\n",
              "[8 rows x 7 columns]"
            ]
          },
          "metadata": {
            "tags": []
          },
          "execution_count": 4
        }
      ]
    },
    {
      "cell_type": "code",
      "metadata": {
        "colab": {
          "base_uri": "https://localhost:8080/",
          "height": 366
        },
        "id": "WDYEKbA5lSSN",
        "outputId": "e4632573-a741-44e4-8e57-f73d1a836e22"
      },
      "source": [
        "import seaborn as sns\n",
        "ax = sns.distplot(tmdb.vote_average)\n",
        "ax.set(xlabel='Nota Média', ylabel='Densidade')\n",
        "ax.set_title('Média de votos em filmes no TMDB 5000')"
      ],
      "execution_count": null,
      "outputs": [
        {
          "output_type": "stream",
          "text": [
            "/usr/local/lib/python3.7/dist-packages/seaborn/distributions.py:2557: FutureWarning: `distplot` is a deprecated function and will be removed in a future version. Please adapt your code to use either `displot` (a figure-level function with similar flexibility) or `histplot` (an axes-level function for histograms).\n",
            "  warnings.warn(msg, FutureWarning)\n"
          ],
          "name": "stderr"
        },
        {
          "output_type": "execute_result",
          "data": {
            "text/plain": [
              "Text(0.5, 1.0, 'Média de votos em filmes no TMDB 5000')"
            ]
          },
          "metadata": {
            "tags": []
          },
          "execution_count": 5
        },
        {
          "output_type": "display_data",
          "data": {
            "image/png": "[encoded data removed]",
            "text/plain": [
              "<Figure size 432x288 with 1 Axes>"
            ]
          },
          "metadata": {
            "tags": [],
            "needs_background": "light"
          }
        }
      ]
    },
    {
      "cell_type": "code",
      "metadata": {
        "colab": {
          "base_uri": "https://localhost:8080/",
          "height": 366
        },
        "id": "ZBgyDOw5mwV2",
        "outputId": "315cb305-4c49-4eaa-fffa-7d11917ec86a"
      },
      "source": [
        "ax = sns.distplot(tmdb.vote_average, norm_hist=False)\n",
        "ax.set(xlabel='Nota Média', ylabel='Frequência')\n",
        "ax.set_title('Média de votos em filmes no TMDB 5000')"
      ],
      "execution_count": null,
      "outputs": [
        {
          "output_type": "stream",
          "text": [
            "/usr/local/lib/python3.7/dist-packages/seaborn/distributions.py:2557: FutureWarning: `distplot` is a deprecated function and will be removed in a future version. Please adapt your code to use either `displot` (a figure-level function with similar flexibility) or `histplot` (an axes-level function for histograms).\n",
            "  warnings.warn(msg, FutureWarning)\n"
          ],
          "name": "stderr"
        },
        {
          "output_type": "execute_result",
          "data": {
            "text/plain": [
              "Text(0.5, 1.0, 'Média de votos em filmes no TMDB 5000')"
            ]
          },
          "metadata": {
            "tags": []
          },
          "execution_count": 6
        },
        {
          "output_type": "display_data",
          "data": {
            "image/png": "[encoded data removed]",
            "text/plain": [
              "<Figure size 432x288 with 1 Axes>"
            ]
          },
          "metadata": {
            "tags": [],
            "needs_background": "light"
          }
        }
      ]
    },
    {
      "cell_type": "code",
      "metadata": {
        "colab": {
          "base_uri": "https://localhost:8080/",
          "height": 366
        },
        "id": "I5JaWbjlnvs6",
        "outputId": "375cfcd1-91cd-49e9-eb3a-f7c28872982d"
      },
      "source": [
        "ax = sns.distplot(tmdb.vote_average, norm_hist=False, kde=False)\n",
        "ax.set(xlabel='Nota Média', ylabel='Frequência')\n",
        "ax.set_title('Média de votos em filmes no TMDB 5000')\n",
        "#eixo y muda, normalização automatica acontece com kde = true."
      ],
      "execution_count": null,
      "outputs": [
        {
          "output_type": "stream",
          "text": [
            "/usr/local/lib/python3.7/dist-packages/seaborn/distributions.py:2557: FutureWarning: `distplot` is a deprecated function and will be removed in a future version. Please adapt your code to use either `displot` (a figure-level function with similar flexibility) or `histplot` (an axes-level function for histograms).\n",
            "  warnings.warn(msg, FutureWarning)\n"
          ],
          "name": "stderr"
        },
        {
          "output_type": "execute_result",
          "data": {
            "text/plain": [
              "Text(0.5, 1.0, 'Média de votos em filmes no TMDB 5000')"
            ]
          },
          "metadata": {
            "tags": []
          },
          "execution_count": 7
        },
        {
          "output_type": "display_data",
          "data": {
            "image/png": "[encoded data removed]",
            "text/plain": [
              "<Figure size 432x288 with 1 Axes>"
            ]
          },
          "metadata": {
            "tags": [],
            "needs_background": "light"
          }
        }
      ]
    },
    {
      "cell_type": "code",
      "metadata": {
        "colab": {
          "base_uri": "https://localhost:8080/",
          "height": 312
        },
        "id": "232gq3byn3YF",
        "outputId": "1f5541a3-8469-434a-ab9e-fff0ae3df6e2"
      },
      "source": [
        "ax = sns.boxplot(x=tmdb.vote_average)\n",
        "ax.set_title('Distribuição de nota média no tmdb 5000')\n",
        "ax.set(xlabel='Nota média do Filme')"
      ],
      "execution_count": null,
      "outputs": [
        {
          "output_type": "execute_result",
          "data": {
            "text/plain": [
              "[Text(0.5, 0, 'Nota média do Filme')]"
            ]
          },
          "metadata": {
            "tags": []
          },
          "execution_count": 8
        },
        {
          "output_type": "display_data",
          "data": {
            "image/png": "[encoded data removed]",
            "text/plain": [
              "<Figure size 432x288 with 1 Axes>"
            ]
          },
          "metadata": {
            "tags": [],
            "needs_background": "light"
          }
        }
      ]
    },
    {
      "cell_type": "code",
      "metadata": {
        "colab": {
          "base_uri": "https://localhost:8080/",
          "height": 1000
        },
        "id": "6IpdvAJEoKfF",
        "outputId": "87838b1b-f21e-4a09-d5d0-d7d5abf31ae2"
      },
      "source": [
        "tmdb.query('vote_average == 0')"
      ],
      "execution_count": null,
      "outputs": [
        {
          "output_type": "execute_result",
          "data": {
            "text/html": [
              "<div>\n",
              "<style scoped>\n",
              "    .dataframe tbody tr th:only-of-type {\n",
              "        vertical-align: middle;\n",
              "    }\n",
              "\n",
              "    .dataframe tbody tr th {\n",
              "        vertical-align: top;\n",
              "    }\n",
              "\n",
              "    .dataframe thead th {\n",
              "        text-align: right;\n",
              "    }\n",
              "</style>\n",
              "<table border=\"1\" class=\"dataframe\">\n",
              "  <thead>\n",
              "    <tr style=\"text-align: right;\">\n",
              "      <th></th>\n",
              "      <th>budget</th>\n",
              "      <th>genres</th>\n",
              "      <th>homepage</th>\n",
              "      <th>id</th>\n",
              "      <th>keywords</th>\n",
              "      <th>original_language</th>\n",
              "      <th>original_title</th>\n",
              "      <th>overview</th>\n",
              "      <th>popularity</th>\n",
              "      <th>production_companies</th>\n",
              "      <th>production_countries</th>\n",
              "      <th>release_date</th>\n",
              "      <th>revenue</th>\n",
              "      <th>runtime</th>\n",
              "      <th>spoken_languages</th>\n",
              "      <th>status</th>\n",
              "      <th>tagline</th>\n",
              "      <th>title</th>\n",
              "      <th>vote_average</th>\n",
              "      <th>vote_count</th>\n",
              "    </tr>\n",
              "  </thead>\n",
              "  <tbody>\n",
              "    <tr>\n",
              "      <th>1464</th>\n",
              "      <td>0</td>\n",
              "      <td>[{\"id\": 18, \"name\": \"Drama\"}, {\"id\": 80, \"name...</td>\n",
              "      <td>NaN</td>\n",
              "      <td>310706</td>\n",
              "      <td>[]</td>\n",
              "      <td>en</td>\n",
              "      <td>Black Water Transit</td>\n",
              "      <td>In this action thriller set in post-Katrina Ne...</td>\n",
              "      <td>0.126738</td>\n",
              "      <td>[{\"name\": \"Capitol Films\", \"id\": 826}]</td>\n",
              "      <td>[{\"iso_3166_1\": \"US\", \"name\": \"United States o...</td>\n",
              "      <td>2009-05-13</td>\n",
              "      <td>0</td>\n",
              "      <td>100.0</td>\n",
              "      <td>[{\"iso_639_1\": \"en\", \"name\": \"English\"}]</td>\n",
              "      <td>Released</td>\n",
              "      <td>NaN</td>\n",
              "      <td>Black Water Transit</td>\n",
              "      <td>0.0</td>\n",
              "      <td>0</td>\n",
              "    </tr>\n",
              "    <tr>\n",
              "      <th>3669</th>\n",
              "      <td>0</td>\n",
              "      <td>[{\"id\": 35, \"name\": \"Comedy\"}, {\"id\": 18, \"nam...</td>\n",
              "      <td>http://www.romeothemovie.com/</td>\n",
              "      <td>113406</td>\n",
              "      <td>[]</td>\n",
              "      <td>en</td>\n",
              "      <td>Should've Been Romeo</td>\n",
              "      <td>A self-centered, middle-aged pitchman for a po...</td>\n",
              "      <td>0.407030</td>\n",
              "      <td>[{\"name\": \"Phillybrook Films\", \"id\": 65147}]</td>\n",
              "      <td>[{\"iso_3166_1\": \"US\", \"name\": \"United States o...</td>\n",
              "      <td>2012-04-28</td>\n",
              "      <td>0</td>\n",
              "      <td>0.0</td>\n",
              "      <td>[{\"iso_639_1\": \"en\", \"name\": \"English\"}]</td>\n",
              "      <td>Released</td>\n",
              "      <td>Even Shakespeare didn't see this one coming.</td>\n",
              "      <td>Should've Been Romeo</td>\n",
              "      <td>0.0</td>\n",
              "      <td>0</td>\n",
              "    </tr>\n",
              "    <tr>\n",
              "      <th>3670</th>\n",
              "      <td>0</td>\n",
              "      <td>[{\"id\": 10751, \"name\": \"Family\"}]</td>\n",
              "      <td>NaN</td>\n",
              "      <td>447027</td>\n",
              "      <td>[]</td>\n",
              "      <td>en</td>\n",
              "      <td>Running Forever</td>\n",
              "      <td>After being estranged since her mother's death...</td>\n",
              "      <td>0.028756</td>\n",
              "      <td>[{\"name\": \"New Kingdom Pictures\", \"id\": 41671}]</td>\n",
              "      <td>[{\"iso_3166_1\": \"US\", \"name\": \"United States o...</td>\n",
              "      <td>2015-10-27</td>\n",
              "      <td>0</td>\n",
              "      <td>88.0</td>\n",
              "      <td>[]</td>\n",
              "      <td>Released</td>\n",
              "      <td>NaN</td>\n",
              "      <td>Running Forever</td>\n",
              "      <td>0.0</td>\n",
              "      <td>0</td>\n",
              "    </tr>\n",
              "    <tr>\n",
              "      <th>3852</th>\n",
              "      <td>0</td>\n",
              "      <td>[{\"id\": 18, \"name\": \"Drama\"}]</td>\n",
              "      <td>NaN</td>\n",
              "      <td>395766</td>\n",
              "      <td>[{\"id\": 11162, \"name\": \"miniseries\"}]</td>\n",
              "      <td>en</td>\n",
              "      <td>The Secret</td>\n",
              "      <td>The Secret is the story of a real-life double ...</td>\n",
              "      <td>0.042346</td>\n",
              "      <td>[]</td>\n",
              "      <td>[]</td>\n",
              "      <td>2016-04-29</td>\n",
              "      <td>0</td>\n",
              "      <td>200.0</td>\n",
              "      <td>[]</td>\n",
              "      <td>Released</td>\n",
              "      <td>NaN</td>\n",
              "      <td>The Secret</td>\n",
              "      <td>0.0</td>\n",
              "      <td>0</td>\n",
              "    </tr>\n",
              "    <tr>\n",
              "      <th>3855</th>\n",
              "      <td>3500000</td>\n",
              "      <td>[{\"id\": 99, \"name\": \"Documentary\"}]</td>\n",
              "      <td>http://www.timetochoose.com</td>\n",
              "      <td>370662</td>\n",
              "      <td>[{\"id\": 2210, \"name\": \"climate change\"}, {\"id\"...</td>\n",
              "      <td>en</td>\n",
              "      <td>Time to Choose</td>\n",
              "      <td>Academy Award® winning director Charles Fergus...</td>\n",
              "      <td>1.618138</td>\n",
              "      <td>[{\"name\": \"Representational Pictures\", \"id\": 8...</td>\n",
              "      <td>[{\"iso_3166_1\": \"US\", \"name\": \"United States o...</td>\n",
              "      <td>2015-09-04</td>\n",
              "      <td>0</td>\n",
              "      <td>100.0</td>\n",
              "      <td>[{\"iso_639_1\": \"en\", \"name\": \"English\"}]</td>\n",
              "      <td>Released</td>\n",
              "      <td>Climate change for good.</td>\n",
              "      <td>Time to Choose</td>\n",
              "      <td>0.0</td>\n",
              "      <td>0</td>\n",
              "    </tr>\n",
              "    <tr>\n",
              "      <th>...</th>\n",
              "      <td>...</td>\n",
              "      <td>...</td>\n",
              "      <td>...</td>\n",
              "      <td>...</td>\n",
              "      <td>...</td>\n",
              "      <td>...</td>\n",
              "      <td>...</td>\n",
              "      <td>...</td>\n",
              "      <td>...</td>\n",
              "      <td>...</td>\n",
              "      <td>...</td>\n",
              "      <td>...</td>\n",
              "      <td>...</td>\n",
              "      <td>...</td>\n",
              "      <td>...</td>\n",
              "      <td>...</td>\n",
              "      <td>...</td>\n",
              "      <td>...</td>\n",
              "      <td>...</td>\n",
              "      <td>...</td>\n",
              "    </tr>\n",
              "    <tr>\n",
              "      <th>4769</th>\n",
              "      <td>0</td>\n",
              "      <td>[{\"id\": 28, \"name\": \"Action\"}, {\"id\": 37, \"nam...</td>\n",
              "      <td>NaN</td>\n",
              "      <td>69382</td>\n",
              "      <td>[]</td>\n",
              "      <td>en</td>\n",
              "      <td>The Legend of God's Gun</td>\n",
              "      <td>A gun-slinging preacher returns to the debauch...</td>\n",
              "      <td>0.003582</td>\n",
              "      <td>[]</td>\n",
              "      <td>[]</td>\n",
              "      <td>2007-07-08</td>\n",
              "      <td>0</td>\n",
              "      <td>78.0</td>\n",
              "      <td>[]</td>\n",
              "      <td>Released</td>\n",
              "      <td>NaN</td>\n",
              "      <td>The Legend of God's Gun</td>\n",
              "      <td>0.0</td>\n",
              "      <td>0</td>\n",
              "    </tr>\n",
              "    <tr>\n",
              "      <th>4771</th>\n",
              "      <td>0</td>\n",
              "      <td>[{\"id\": 27, \"name\": \"Horror\"}]</td>\n",
              "      <td>NaN</td>\n",
              "      <td>220490</td>\n",
              "      <td>[]</td>\n",
              "      <td>en</td>\n",
              "      <td>Her Cry: La Llorona Investigation</td>\n",
              "      <td>Crew of \"Paranormal Legends\" went to film thei...</td>\n",
              "      <td>0.056459</td>\n",
              "      <td>[]</td>\n",
              "      <td>[]</td>\n",
              "      <td>2013-04-19</td>\n",
              "      <td>0</td>\n",
              "      <td>89.0</td>\n",
              "      <td>[]</td>\n",
              "      <td>Released</td>\n",
              "      <td>NaN</td>\n",
              "      <td>Her Cry: La Llorona Investigation</td>\n",
              "      <td>0.0</td>\n",
              "      <td>0</td>\n",
              "    </tr>\n",
              "    <tr>\n",
              "      <th>4780</th>\n",
              "      <td>0</td>\n",
              "      <td>[{\"id\": 53, \"name\": \"Thriller\"}, {\"id\": 80, \"n...</td>\n",
              "      <td>NaN</td>\n",
              "      <td>366967</td>\n",
              "      <td>[]</td>\n",
              "      <td>en</td>\n",
              "      <td>Dutch Kills</td>\n",
              "      <td>A desperate ex-con is forced to gather his old...</td>\n",
              "      <td>0.038143</td>\n",
              "      <td>[]</td>\n",
              "      <td>[]</td>\n",
              "      <td>2015-10-02</td>\n",
              "      <td>0</td>\n",
              "      <td>90.0</td>\n",
              "      <td>[]</td>\n",
              "      <td>Released</td>\n",
              "      <td>NaN</td>\n",
              "      <td>Dutch Kills</td>\n",
              "      <td>0.0</td>\n",
              "      <td>0</td>\n",
              "    </tr>\n",
              "    <tr>\n",
              "      <th>4785</th>\n",
              "      <td>0</td>\n",
              "      <td>[{\"id\": 18, \"name\": \"Drama\"}]</td>\n",
              "      <td>NaN</td>\n",
              "      <td>287625</td>\n",
              "      <td>[]</td>\n",
              "      <td>en</td>\n",
              "      <td>Stories of Our Lives</td>\n",
              "      <td>Created by the members of a Nairobi-based arts...</td>\n",
              "      <td>0.327794</td>\n",
              "      <td>[]</td>\n",
              "      <td>[{\"iso_3166_1\": \"KE\", \"name\": \"Kenya\"}]</td>\n",
              "      <td>2014-09-05</td>\n",
              "      <td>0</td>\n",
              "      <td>60.0</td>\n",
              "      <td>[{\"iso_639_1\": \"sw\", \"name\": \"Kiswahili\"}, {\"i...</td>\n",
              "      <td>Released</td>\n",
              "      <td>NaN</td>\n",
              "      <td>Stories of Our Lives</td>\n",
              "      <td>0.0</td>\n",
              "      <td>0</td>\n",
              "    </tr>\n",
              "    <tr>\n",
              "      <th>4794</th>\n",
              "      <td>0</td>\n",
              "      <td>[{\"id\": 53, \"name\": \"Thriller\"}, {\"id\": 27, \"n...</td>\n",
              "      <td>NaN</td>\n",
              "      <td>286939</td>\n",
              "      <td>[]</td>\n",
              "      <td>en</td>\n",
              "      <td>Sanctuary: Quite a Conundrum</td>\n",
              "      <td>It should have been just a normal day of sex, ...</td>\n",
              "      <td>0.166513</td>\n",
              "      <td>[{\"name\": \"Gold Lion Films\", \"id\": 37870}, {\"n...</td>\n",
              "      <td>[{\"iso_3166_1\": \"US\", \"name\": \"United States o...</td>\n",
              "      <td>2012-01-20</td>\n",
              "      <td>0</td>\n",
              "      <td>82.0</td>\n",
              "      <td>[{\"iso_639_1\": \"en\", \"name\": \"English\"}]</td>\n",
              "      <td>Released</td>\n",
              "      <td>NaN</td>\n",
              "      <td>Sanctuary: Quite a Conundrum</td>\n",
              "      <td>0.0</td>\n",
              "      <td>0</td>\n",
              "    </tr>\n",
              "  </tbody>\n",
              "</table>\n",
              "<p>63 rows × 20 columns</p>\n",
              "</div>"
            ],
            "text/plain": [
              "       budget  ... vote_count\n",
              "1464        0  ...          0\n",
              "3669        0  ...          0\n",
              "3670        0  ...          0\n",
              "3852        0  ...          0\n",
              "3855  3500000  ...          0\n",
              "...       ...  ...        ...\n",
              "4769        0  ...          0\n",
              "4771        0  ...          0\n",
              "4780        0  ...          0\n",
              "4785        0  ...          0\n",
              "4794        0  ...          0\n",
              "\n",
              "[63 rows x 20 columns]"
            ]
          },
          "metadata": {
            "tags": []
          },
          "execution_count": 9
        }
      ]
    },
    {
      "cell_type": "code",
      "metadata": {
        "colab": {
          "base_uri": "https://localhost:8080/",
          "height": 1000
        },
        "id": "5D2LEra1qYnm",
        "outputId": "50d3aec8-3f65-460c-861e-078ddca77819"
      },
      "source": [
        "tmdb_com_mais_de_dez_votos = tmdb.query('vote_count >= 10')\n",
        "tmdb_com_mais_de_dez_votos"
      ],
      "execution_count": null,
      "outputs": [
        {
          "output_type": "execute_result",
          "data": {
            "text/html": [
              "<div>\n",
              "<style scoped>\n",
              "    .dataframe tbody tr th:only-of-type {\n",
              "        vertical-align: middle;\n",
              "    }\n",
              "\n",
              "    .dataframe tbody tr th {\n",
              "        vertical-align: top;\n",
              "    }\n",
              "\n",
              "    .dataframe thead th {\n",
              "        text-align: right;\n",
              "    }\n",
              "</style>\n",
              "<table border=\"1\" class=\"dataframe\">\n",
              "  <thead>\n",
              "    <tr style=\"text-align: right;\">\n",
              "      <th></th>\n",
              "      <th>budget</th>\n",
              "      <th>genres</th>\n",
              "      <th>homepage</th>\n",
              "      <th>id</th>\n",
              "      <th>keywords</th>\n",
              "      <th>original_language</th>\n",
              "      <th>original_title</th>\n",
              "      <th>overview</th>\n",
              "      <th>popularity</th>\n",
              "      <th>production_companies</th>\n",
              "      <th>production_countries</th>\n",
              "      <th>release_date</th>\n",
              "      <th>revenue</th>\n",
              "      <th>runtime</th>\n",
              "      <th>spoken_languages</th>\n",
              "      <th>status</th>\n",
              "      <th>tagline</th>\n",
              "      <th>title</th>\n",
              "      <th>vote_average</th>\n",
              "      <th>vote_count</th>\n",
              "    </tr>\n",
              "  </thead>\n",
              "  <tbody>\n",
              "    <tr>\n",
              "      <th>0</th>\n",
              "      <td>237000000</td>\n",
              "      <td>[{\"id\": 28, \"name\": \"Action\"}, {\"id\": 12, \"nam...</td>\n",
              "      <td>http://www.avatarmovie.com/</td>\n",
              "      <td>19995</td>\n",
              "      <td>[{\"id\": 1463, \"name\": \"culture clash\"}, {\"id\":...</td>\n",
              "      <td>en</td>\n",
              "      <td>Avatar</td>\n",
              "      <td>In the 22nd century, a paraplegic Marine is di...</td>\n",
              "      <td>150.437577</td>\n",
              "      <td>[{\"name\": \"Ingenious Film Partners\", \"id\": 289...</td>\n",
              "      <td>[{\"iso_3166_1\": \"US\", \"name\": \"United States o...</td>\n",
              "      <td>2009-12-10</td>\n",
              "      <td>2787965087</td>\n",
              "      <td>162.0</td>\n",
              "      <td>[{\"iso_639_1\": \"en\", \"name\": \"English\"}, {\"iso...</td>\n",
              "      <td>Released</td>\n",
              "      <td>Enter the World of Pandora.</td>\n",
              "      <td>Avatar</td>\n",
              "      <td>7.2</td>\n",
              "      <td>11800</td>\n",
              "    </tr>\n",
              "    <tr>\n",
              "      <th>1</th>\n",
              "      <td>300000000</td>\n",
              "      <td>[{\"id\": 12, \"name\": \"Adventure\"}, {\"id\": 14, \"...</td>\n",
              "      <td>http://disney.go.com/disneypictures/pirates/</td>\n",
              "      <td>285</td>\n",
              "      <td>[{\"id\": 270, \"name\": \"ocean\"}, {\"id\": 726, \"na...</td>\n",
              "      <td>en</td>\n",
              "      <td>Pirates of the Caribbean: At World's End</td>\n",
              "      <td>Captain Barbossa, long believed to be dead, ha...</td>\n",
              "      <td>139.082615</td>\n",
              "      <td>[{\"name\": \"Walt Disney Pictures\", \"id\": 2}, {\"...</td>\n",
              "      <td>[{\"iso_3166_1\": \"US\", \"name\": \"United States o...</td>\n",
              "      <td>2007-05-19</td>\n",
              "      <td>961000000</td>\n",
              "      <td>169.0</td>\n",
              "      <td>[{\"iso_639_1\": \"en\", \"name\": \"English\"}]</td>\n",
              "      <td>Released</td>\n",
              "      <td>At the end of the world, the adventure begins.</td>\n",
              "      <td>Pirates of the Caribbean: At World's End</td>\n",
              "      <td>6.9</td>\n",
              "      <td>4500</td>\n",
              "    </tr>\n",
              "    <tr>\n",
              "      <th>2</th>\n",
              "      <td>245000000</td>\n",
              "      <td>[{\"id\": 28, \"name\": \"Action\"}, {\"id\": 12, \"nam...</td>\n",
              "      <td>http://www.sonypictures.com/movies/spectre/</td>\n",
              "      <td>206647</td>\n",
              "      <td>[{\"id\": 470, \"name\": \"spy\"}, {\"id\": 818, \"name...</td>\n",
              "      <td>en</td>\n",
              "      <td>Spectre</td>\n",
              "      <td>A cryptic message from Bond’s past sends him o...</td>\n",
              "      <td>107.376788</td>\n",
              "      <td>[{\"name\": \"Columbia Pictures\", \"id\": 5}, {\"nam...</td>\n",
              "      <td>[{\"iso_3166_1\": \"GB\", \"name\": \"United Kingdom\"...</td>\n",
              "      <td>2015-10-26</td>\n",
              "      <td>880674609</td>\n",
              "      <td>148.0</td>\n",
              "      <td>[{\"iso_639_1\": \"fr\", \"name\": \"Fran\\u00e7ais\"},...</td>\n",
              "      <td>Released</td>\n",
              "      <td>A Plan No One Escapes</td>\n",
              "      <td>Spectre</td>\n",
              "      <td>6.3</td>\n",
              "      <td>4466</td>\n",
              "    </tr>\n",
              "    <tr>\n",
              "      <th>3</th>\n",
              "      <td>250000000</td>\n",
              "      <td>[{\"id\": 28, \"name\": \"Action\"}, {\"id\": 80, \"nam...</td>\n",
              "      <td>http://www.thedarkknightrises.com/</td>\n",
              "      <td>49026</td>\n",
              "      <td>[{\"id\": 849, \"name\": \"dc comics\"}, {\"id\": 853,...</td>\n",
              "      <td>en</td>\n",
              "      <td>The Dark Knight Rises</td>\n",
              "      <td>Following the death of District Attorney Harve...</td>\n",
              "      <td>112.312950</td>\n",
              "      <td>[{\"name\": \"Legendary Pictures\", \"id\": 923}, {\"...</td>\n",
              "      <td>[{\"iso_3166_1\": \"US\", \"name\": \"United States o...</td>\n",
              "      <td>2012-07-16</td>\n",
              "      <td>1084939099</td>\n",
              "      <td>165.0</td>\n",
              "      <td>[{\"iso_639_1\": \"en\", \"name\": \"English\"}]</td>\n",
              "      <td>Released</td>\n",
              "      <td>The Legend Ends</td>\n",
              "      <td>The Dark Knight Rises</td>\n",
              "      <td>7.6</td>\n",
              "      <td>9106</td>\n",
              "    </tr>\n",
              "    <tr>\n",
              "      <th>4</th>\n",
              "      <td>260000000</td>\n",
              "      <td>[{\"id\": 28, \"name\": \"Action\"}, {\"id\": 12, \"nam...</td>\n",
              "      <td>http://movies.disney.com/john-carter</td>\n",
              "      <td>49529</td>\n",
              "      <td>[{\"id\": 818, \"name\": \"based on novel\"}, {\"id\":...</td>\n",
              "      <td>en</td>\n",
              "      <td>John Carter</td>\n",
              "      <td>John Carter is a war-weary, former military ca...</td>\n",
              "      <td>43.926995</td>\n",
              "      <td>[{\"name\": \"Walt Disney Pictures\", \"id\": 2}]</td>\n",
              "      <td>[{\"iso_3166_1\": \"US\", \"name\": \"United States o...</td>\n",
              "      <td>2012-03-07</td>\n",
              "      <td>284139100</td>\n",
              "      <td>132.0</td>\n",
              "      <td>[{\"iso_639_1\": \"en\", \"name\": \"English\"}]</td>\n",
              "      <td>Released</td>\n",
              "      <td>Lost in our world, found in another.</td>\n",
              "      <td>John Carter</td>\n",
              "      <td>6.1</td>\n",
              "      <td>2124</td>\n",
              "    </tr>\n",
              "    <tr>\n",
              "      <th>...</th>\n",
              "      <td>...</td>\n",
              "      <td>...</td>\n",
              "      <td>...</td>\n",
              "      <td>...</td>\n",
              "      <td>...</td>\n",
              "      <td>...</td>\n",
              "      <td>...</td>\n",
              "      <td>...</td>\n",
              "      <td>...</td>\n",
              "      <td>...</td>\n",
              "      <td>...</td>\n",
              "      <td>...</td>\n",
              "      <td>...</td>\n",
              "      <td>...</td>\n",
              "      <td>...</td>\n",
              "      <td>...</td>\n",
              "      <td>...</td>\n",
              "      <td>...</td>\n",
              "      <td>...</td>\n",
              "      <td>...</td>\n",
              "    </tr>\n",
              "    <tr>\n",
              "      <th>4790</th>\n",
              "      <td>0</td>\n",
              "      <td>[{\"id\": 18, \"name\": \"Drama\"}, {\"id\": 10769, \"n...</td>\n",
              "      <td>NaN</td>\n",
              "      <td>13898</td>\n",
              "      <td>[]</td>\n",
              "      <td>fa</td>\n",
              "      <td>دایره</td>\n",
              "      <td>Various women struggle to function in the oppr...</td>\n",
              "      <td>1.193779</td>\n",
              "      <td>[{\"name\": \"Jafar Panahi Film Productions\", \"id...</td>\n",
              "      <td>[{\"iso_3166_1\": \"IR\", \"name\": \"Iran\"}]</td>\n",
              "      <td>2000-09-08</td>\n",
              "      <td>0</td>\n",
              "      <td>90.0</td>\n",
              "      <td>[{\"iso_639_1\": \"fa\", \"name\": \"\\u0641\\u0627\\u06...</td>\n",
              "      <td>Released</td>\n",
              "      <td>NaN</td>\n",
              "      <td>The Circle</td>\n",
              "      <td>6.6</td>\n",
              "      <td>17</td>\n",
              "    </tr>\n",
              "    <tr>\n",
              "      <th>4792</th>\n",
              "      <td>20000</td>\n",
              "      <td>[{\"id\": 80, \"name\": \"Crime\"}, {\"id\": 27, \"name...</td>\n",
              "      <td>NaN</td>\n",
              "      <td>36095</td>\n",
              "      <td>[{\"id\": 233, \"name\": \"japan\"}, {\"id\": 549, \"na...</td>\n",
              "      <td>ja</td>\n",
              "      <td>キュア</td>\n",
              "      <td>A wave of gruesome murders is sweeping Tokyo. ...</td>\n",
              "      <td>0.212443</td>\n",
              "      <td>[{\"name\": \"Daiei Studios\", \"id\": 881}]</td>\n",
              "      <td>[{\"iso_3166_1\": \"JP\", \"name\": \"Japan\"}]</td>\n",
              "      <td>1997-11-06</td>\n",
              "      <td>99000</td>\n",
              "      <td>111.0</td>\n",
              "      <td>[{\"iso_639_1\": \"ja\", \"name\": \"\\u65e5\\u672c\\u8a...</td>\n",
              "      <td>Released</td>\n",
              "      <td>Madness. Terror. Murder.</td>\n",
              "      <td>Cure</td>\n",
              "      <td>7.4</td>\n",
              "      <td>63</td>\n",
              "    </tr>\n",
              "    <tr>\n",
              "      <th>4796</th>\n",
              "      <td>7000</td>\n",
              "      <td>[{\"id\": 878, \"name\": \"Science Fiction\"}, {\"id\"...</td>\n",
              "      <td>http://www.primermovie.com</td>\n",
              "      <td>14337</td>\n",
              "      <td>[{\"id\": 1448, \"name\": \"distrust\"}, {\"id\": 2101...</td>\n",
              "      <td>en</td>\n",
              "      <td>Primer</td>\n",
              "      <td>Friends/fledgling entrepreneurs invent a devic...</td>\n",
              "      <td>23.307949</td>\n",
              "      <td>[{\"name\": \"Thinkfilm\", \"id\": 446}]</td>\n",
              "      <td>[{\"iso_3166_1\": \"US\", \"name\": \"United States o...</td>\n",
              "      <td>2004-10-08</td>\n",
              "      <td>424760</td>\n",
              "      <td>77.0</td>\n",
              "      <td>[{\"iso_639_1\": \"en\", \"name\": \"English\"}]</td>\n",
              "      <td>Released</td>\n",
              "      <td>What happens if it actually works?</td>\n",
              "      <td>Primer</td>\n",
              "      <td>6.9</td>\n",
              "      <td>658</td>\n",
              "    </tr>\n",
              "    <tr>\n",
              "      <th>4798</th>\n",
              "      <td>220000</td>\n",
              "      <td>[{\"id\": 28, \"name\": \"Action\"}, {\"id\": 80, \"nam...</td>\n",
              "      <td>NaN</td>\n",
              "      <td>9367</td>\n",
              "      <td>[{\"id\": 5616, \"name\": \"united states\\u2013mexi...</td>\n",
              "      <td>es</td>\n",
              "      <td>El Mariachi</td>\n",
              "      <td>El Mariachi just wants to play his guitar and ...</td>\n",
              "      <td>14.269792</td>\n",
              "      <td>[{\"name\": \"Columbia Pictures\", \"id\": 5}]</td>\n",
              "      <td>[{\"iso_3166_1\": \"MX\", \"name\": \"Mexico\"}, {\"iso...</td>\n",
              "      <td>1992-09-04</td>\n",
              "      <td>2040920</td>\n",
              "      <td>81.0</td>\n",
              "      <td>[{\"iso_639_1\": \"es\", \"name\": \"Espa\\u00f1ol\"}]</td>\n",
              "      <td>Released</td>\n",
              "      <td>He didn't come looking for trouble, but troubl...</td>\n",
              "      <td>El Mariachi</td>\n",
              "      <td>6.6</td>\n",
              "      <td>238</td>\n",
              "    </tr>\n",
              "    <tr>\n",
              "      <th>4802</th>\n",
              "      <td>0</td>\n",
              "      <td>[{\"id\": 99, \"name\": \"Documentary\"}]</td>\n",
              "      <td>NaN</td>\n",
              "      <td>25975</td>\n",
              "      <td>[{\"id\": 1523, \"name\": \"obsession\"}, {\"id\": 224...</td>\n",
              "      <td>en</td>\n",
              "      <td>My Date with Drew</td>\n",
              "      <td>Ever since the second grade when he first saw ...</td>\n",
              "      <td>1.929883</td>\n",
              "      <td>[{\"name\": \"rusty bear entertainment\", \"id\": 87...</td>\n",
              "      <td>[{\"iso_3166_1\": \"US\", \"name\": \"United States o...</td>\n",
              "      <td>2005-08-05</td>\n",
              "      <td>0</td>\n",
              "      <td>90.0</td>\n",
              "      <td>[{\"iso_639_1\": \"en\", \"name\": \"English\"}]</td>\n",
              "      <td>Released</td>\n",
              "      <td>NaN</td>\n",
              "      <td>My Date with Drew</td>\n",
              "      <td>6.3</td>\n",
              "      <td>16</td>\n",
              "    </tr>\n",
              "  </tbody>\n",
              "</table>\n",
              "<p>4392 rows × 20 columns</p>\n",
              "</div>"
            ],
            "text/plain": [
              "         budget  ... vote_count\n",
              "0     237000000  ...      11800\n",
              "1     300000000  ...       4500\n",
              "2     245000000  ...       4466\n",
              "3     250000000  ...       9106\n",
              "4     260000000  ...       2124\n",
              "...         ...  ...        ...\n",
              "4790          0  ...         17\n",
              "4792      20000  ...         63\n",
              "4796       7000  ...        658\n",
              "4798     220000  ...        238\n",
              "4802          0  ...         16\n",
              "\n",
              "[4392 rows x 20 columns]"
            ]
          },
          "metadata": {
            "tags": []
          },
          "execution_count": 10
        }
      ]
    },
    {
      "cell_type": "code",
      "metadata": {
        "colab": {
          "base_uri": "https://localhost:8080/",
          "height": 284
        },
        "id": "D2c8ZuxjrB8_",
        "outputId": "30b47475-c1d4-42bd-8261-484d9e94b139"
      },
      "source": [
        "tmdb_com_mais_de_dez_votos.describe()"
      ],
      "execution_count": null,
      "outputs": [
        {
          "output_type": "execute_result",
          "data": {
            "text/html": [
              "<div>\n",
              "<style scoped>\n",
              "    .dataframe tbody tr th:only-of-type {\n",
              "        vertical-align: middle;\n",
              "    }\n",
              "\n",
              "    .dataframe tbody tr th {\n",
              "        vertical-align: top;\n",
              "    }\n",
              "\n",
              "    .dataframe thead th {\n",
              "        text-align: right;\n",
              "    }\n",
              "</style>\n",
              "<table border=\"1\" class=\"dataframe\">\n",
              "  <thead>\n",
              "    <tr style=\"text-align: right;\">\n",
              "      <th></th>\n",
              "      <th>budget</th>\n",
              "      <th>id</th>\n",
              "      <th>popularity</th>\n",
              "      <th>revenue</th>\n",
              "      <th>runtime</th>\n",
              "      <th>vote_average</th>\n",
              "      <th>vote_count</th>\n",
              "    </tr>\n",
              "  </thead>\n",
              "  <tbody>\n",
              "    <tr>\n",
              "      <th>count</th>\n",
              "      <td>4.392000e+03</td>\n",
              "      <td>4392.000000</td>\n",
              "      <td>4392.000000</td>\n",
              "      <td>4.392000e+03</td>\n",
              "      <td>4391.000000</td>\n",
              "      <td>4392.000000</td>\n",
              "      <td>4392.000000</td>\n",
              "    </tr>\n",
              "    <tr>\n",
              "      <th>mean</th>\n",
              "      <td>3.164545e+07</td>\n",
              "      <td>49204.119991</td>\n",
              "      <td>23.448815</td>\n",
              "      <td>8.990969e+07</td>\n",
              "      <td>108.430881</td>\n",
              "      <td>6.226935</td>\n",
              "      <td>754.441712</td>\n",
              "    </tr>\n",
              "    <tr>\n",
              "      <th>std</th>\n",
              "      <td>4.162736e+07</td>\n",
              "      <td>80136.249777</td>\n",
              "      <td>32.592158</td>\n",
              "      <td>1.682870e+08</td>\n",
              "      <td>21.014719</td>\n",
              "      <td>0.893215</td>\n",
              "      <td>1272.263761</td>\n",
              "    </tr>\n",
              "    <tr>\n",
              "      <th>min</th>\n",
              "      <td>0.000000e+00</td>\n",
              "      <td>5.000000</td>\n",
              "      <td>0.011697</td>\n",
              "      <td>0.000000e+00</td>\n",
              "      <td>0.000000</td>\n",
              "      <td>1.900000</td>\n",
              "      <td>10.000000</td>\n",
              "    </tr>\n",
              "    <tr>\n",
              "      <th>25%</th>\n",
              "      <td>2.895962e+06</td>\n",
              "      <td>8403.500000</td>\n",
              "      <td>6.512166</td>\n",
              "      <td>1.365700e+04</td>\n",
              "      <td>95.000000</td>\n",
              "      <td>5.700000</td>\n",
              "      <td>83.750000</td>\n",
              "    </tr>\n",
              "    <tr>\n",
              "      <th>50%</th>\n",
              "      <td>1.700000e+07</td>\n",
              "      <td>13084.500000</td>\n",
              "      <td>14.827784</td>\n",
              "      <td>2.685837e+07</td>\n",
              "      <td>105.000000</td>\n",
              "      <td>6.300000</td>\n",
              "      <td>288.500000</td>\n",
              "    </tr>\n",
              "    <tr>\n",
              "      <th>75%</th>\n",
              "      <td>4.200000e+07</td>\n",
              "      <td>46831.250000</td>\n",
              "      <td>30.258282</td>\n",
              "      <td>1.022818e+08</td>\n",
              "      <td>118.500000</td>\n",
              "      <td>6.800000</td>\n",
              "      <td>831.000000</td>\n",
              "    </tr>\n",
              "    <tr>\n",
              "      <th>max</th>\n",
              "      <td>3.800000e+08</td>\n",
              "      <td>417859.000000</td>\n",
              "      <td>875.581305</td>\n",
              "      <td>2.787965e+09</td>\n",
              "      <td>338.000000</td>\n",
              "      <td>8.500000</td>\n",
              "      <td>13752.000000</td>\n",
              "    </tr>\n",
              "  </tbody>\n",
              "</table>\n",
              "</div>"
            ],
            "text/plain": [
              "             budget             id  ...  vote_average    vote_count\n",
              "count  4.392000e+03    4392.000000  ...   4392.000000   4392.000000\n",
              "mean   3.164545e+07   49204.119991  ...      6.226935    754.441712\n",
              "std    4.162736e+07   80136.249777  ...      0.893215   1272.263761\n",
              "min    0.000000e+00       5.000000  ...      1.900000     10.000000\n",
              "25%    2.895962e+06    8403.500000  ...      5.700000     83.750000\n",
              "50%    1.700000e+07   13084.500000  ...      6.300000    288.500000\n",
              "75%    4.200000e+07   46831.250000  ...      6.800000    831.000000\n",
              "max    3.800000e+08  417859.000000  ...      8.500000  13752.000000\n",
              "\n",
              "[8 rows x 7 columns]"
            ]
          },
          "metadata": {
            "tags": []
          },
          "execution_count": 11
        }
      ]
    },
    {
      "cell_type": "markdown",
      "metadata": {
        "id": "k1T0NUPVrWUL"
      },
      "source": [
        "Texto texto texto"
      ]
    },
    {
      "cell_type": "code",
      "metadata": {
        "colab": {
          "base_uri": "https://localhost:8080/",
          "height": 366
        },
        "id": "8VIVdDUgrZ6w",
        "outputId": "c6e34f07-d2c6-4eb1-e562-7e67e40b4f30"
      },
      "source": [
        "ax = sns.distplot(tmdb_com_mais_de_dez_votos.vote_average, norm_hist=False, kde=False)\n",
        "ax.set(xlabel='Nota Média', ylabel='Frequência')\n",
        "ax.set_title('Média de votos em filmes (com 10 ou mais votos) no TMDB 5000')\n"
      ],
      "execution_count": null,
      "outputs": [
        {
          "output_type": "stream",
          "text": [
            "/usr/local/lib/python3.7/dist-packages/seaborn/distributions.py:2557: FutureWarning: `distplot` is a deprecated function and will be removed in a future version. Please adapt your code to use either `displot` (a figure-level function with similar flexibility) or `histplot` (an axes-level function for histograms).\n",
            "  warnings.warn(msg, FutureWarning)\n"
          ],
          "name": "stderr"
        },
        {
          "output_type": "execute_result",
          "data": {
            "text/plain": [
              "Text(0.5, 1.0, 'Média de votos em filmes (com 10 ou mais votos) no TMDB 5000')"
            ]
          },
          "metadata": {
            "tags": []
          },
          "execution_count": 12
        },
        {
          "output_type": "display_data",
          "data": {
            "image/png": "[encoded data removed]",
            "text/plain": [
              "<Figure size 432x288 with 1 Axes>"
            ]
          },
          "metadata": {
            "tags": [],
            "needs_background": "light"
          }
        }
      ]
    },
    {
      "cell_type": "code",
      "metadata": {
        "colab": {
          "base_uri": "https://localhost:8080/",
          "height": 366
        },
        "id": "B7TyEAdyrqt2",
        "outputId": "e91a53bd-7f55-48b1-c5c0-61dd9f0b9977"
      },
      "source": [
        "ax = sns.distplot(tmdb_com_mais_de_dez_votos.vote_average, norm_hist=False, kde=True)\n",
        "ax.set(xlabel='Nota Média', ylabel='Frequência')\n",
        "ax.set_title('Média de votos em filmes (com 10 ou mais votos) no TMDB 5000')\n"
      ],
      "execution_count": null,
      "outputs": [
        {
          "output_type": "stream",
          "text": [
            "/usr/local/lib/python3.7/dist-packages/seaborn/distributions.py:2557: FutureWarning: `distplot` is a deprecated function and will be removed in a future version. Please adapt your code to use either `displot` (a figure-level function with similar flexibility) or `histplot` (an axes-level function for histograms).\n",
            "  warnings.warn(msg, FutureWarning)\n"
          ],
          "name": "stderr"
        },
        {
          "output_type": "execute_result",
          "data": {
            "text/plain": [
              "Text(0.5, 1.0, 'Média de votos em filmes (com 10 ou mais votos) no TMDB 5000')"
            ]
          },
          "metadata": {
            "tags": []
          },
          "execution_count": 13
        },
        {
          "output_type": "display_data",
          "data": {
            "image/png": "[encoded data removed]",
            "text/plain": [
              "<Figure size 432x288 with 1 Axes>"
            ]
          },
          "metadata": {
            "tags": [],
            "needs_background": "light"
          }
        }
      ]
    },
    {
      "cell_type": "code",
      "metadata": {
        "colab": {
          "base_uri": "https://localhost:8080/",
          "height": 312
        },
        "id": "SM0nik9Ar2nK",
        "outputId": "b083ef6e-796f-47f4-826a-46b87c9ea460"
      },
      "source": [
        "ax = sns.boxplot(x=tmdb_com_mais_de_dez_votos.vote_average)\n",
        "ax.set_title('Distribuição de nota média no tmdb 5000')\n",
        "ax.set(xlabel='Nota média do Filme (com 10 ou + votos)')"
      ],
      "execution_count": null,
      "outputs": [
        {
          "output_type": "execute_result",
          "data": {
            "text/plain": [
              "[Text(0.5, 0, 'Nota média do Filme (com 10 ou + votos)')]"
            ]
          },
          "metadata": {
            "tags": []
          },
          "execution_count": 14
        },
        {
          "output_type": "display_data",
          "data": {
            "image/png": "[encoded data removed]",
            "text/plain": [
              "<Figure size 432x288 with 1 Axes>"
            ]
          },
          "metadata": {
            "tags": [],
            "needs_background": "light"
          }
        }
      ]
    },
    {
      "cell_type": "code",
      "metadata": {
        "id": "rJGn0JrusObO"
      },
      "source": [],
      "execution_count": null,
      "outputs": []
    },
    {
      "cell_type": "markdown",
      "metadata": {
        "id": "16Y4b1GiuS6I"
      },
      "source": [
        "#Análise do MovieLens"
      ]
    },
    {
      "cell_type": "code",
      "metadata": {
        "colab": {
          "base_uri": "https://localhost:8080/",
          "height": 195
        },
        "id": "HjGe-LBCuWVp",
        "outputId": "ac2b174d-8bc0-49f8-fc98-a6b7c6ee5ee0"
      },
      "source": [
        "notas = pd.read_csv('ratings.csv')\n",
        "notas.head(5)"
      ],
      "execution_count": null,
      "outputs": [
        {
          "output_type": "execute_result",
          "data": {
            "text/html": [
              "<div>\n",
              "<style scoped>\n",
              "    .dataframe tbody tr th:only-of-type {\n",
              "        vertical-align: middle;\n",
              "    }\n",
              "\n",
              "    .dataframe tbody tr th {\n",
              "        vertical-align: top;\n",
              "    }\n",
              "\n",
              "    .dataframe thead th {\n",
              "        text-align: right;\n",
              "    }\n",
              "</style>\n",
              "<table border=\"1\" class=\"dataframe\">\n",
              "  <thead>\n",
              "    <tr style=\"text-align: right;\">\n",
              "      <th></th>\n",
              "      <th>userId</th>\n",
              "      <th>movieId</th>\n",
              "      <th>rating</th>\n",
              "      <th>timestamp</th>\n",
              "    </tr>\n",
              "  </thead>\n",
              "  <tbody>\n",
              "    <tr>\n",
              "      <th>0</th>\n",
              "      <td>1</td>\n",
              "      <td>1</td>\n",
              "      <td>4.0</td>\n",
              "      <td>964982703</td>\n",
              "    </tr>\n",
              "    <tr>\n",
              "      <th>1</th>\n",
              "      <td>1</td>\n",
              "      <td>3</td>\n",
              "      <td>4.0</td>\n",
              "      <td>964981247</td>\n",
              "    </tr>\n",
              "    <tr>\n",
              "      <th>2</th>\n",
              "      <td>1</td>\n",
              "      <td>6</td>\n",
              "      <td>4.0</td>\n",
              "      <td>964982224</td>\n",
              "    </tr>\n",
              "    <tr>\n",
              "      <th>3</th>\n",
              "      <td>1</td>\n",
              "      <td>47</td>\n",
              "      <td>5.0</td>\n",
              "      <td>964983815</td>\n",
              "    </tr>\n",
              "    <tr>\n",
              "      <th>4</th>\n",
              "      <td>1</td>\n",
              "      <td>50</td>\n",
              "      <td>5.0</td>\n",
              "      <td>964982931</td>\n",
              "    </tr>\n",
              "  </tbody>\n",
              "</table>\n",
              "</div>"
            ],
            "text/plain": [
              "   userId  movieId  rating  timestamp\n",
              "0       1        1     4.0  964982703\n",
              "1       1        3     4.0  964981247\n",
              "2       1        6     4.0  964982224\n",
              "3       1       47     5.0  964983815\n",
              "4       1       50     5.0  964982931"
            ]
          },
          "metadata": {
            "tags": []
          },
          "execution_count": 15
        }
      ]
    },
    {
      "cell_type": "code",
      "metadata": {
        "colab": {
          "base_uri": "https://localhost:8080/"
        },
        "id": "kItvlxiqv4zu",
        "outputId": "c85f2e61-e4f7-45cd-9674-14d41d573e91"
      },
      "source": [
        "nota_media_por_filme = notas.groupby('movieId').mean()['rating']\n",
        "nota_media_por_filme"
      ],
      "execution_count": null,
      "outputs": [
        {
          "output_type": "execute_result",
          "data": {
            "text/plain": [
              "movieId\n",
              "1         3.920930\n",
              "2         3.431818\n",
              "3         3.259615\n",
              "4         2.357143\n",
              "5         3.071429\n",
              "            ...   \n",
              "193581    4.000000\n",
              "193583    3.500000\n",
              "193585    3.500000\n",
              "193587    3.500000\n",
              "193609    4.000000\n",
              "Name: rating, Length: 9724, dtype: float64"
            ]
          },
          "metadata": {
            "tags": []
          },
          "execution_count": 16
        }
      ]
    },
    {
      "cell_type": "code",
      "metadata": {
        "colab": {
          "base_uri": "https://localhost:8080/",
          "height": 366
        },
        "id": "PZQBZsRLwAwO",
        "outputId": "11756a43-4bce-4b13-80ff-25c3235a52b4"
      },
      "source": [
        "ax = sns.distplot(nota_media_por_filme.values, norm_hist=False, kde=True)\n",
        "ax.set(xlabel='Nota Média', ylabel='Densidade')\n",
        "ax.set_title('Média de votos em filmes no MovieLens')\n"
      ],
      "execution_count": null,
      "outputs": [
        {
          "output_type": "stream",
          "text": [
            "/usr/local/lib/python3.7/dist-packages/seaborn/distributions.py:2557: FutureWarning: `distplot` is a deprecated function and will be removed in a future version. Please adapt your code to use either `displot` (a figure-level function with similar flexibility) or `histplot` (an axes-level function for histograms).\n",
            "  warnings.warn(msg, FutureWarning)\n"
          ],
          "name": "stderr"
        },
        {
          "output_type": "execute_result",
          "data": {
            "text/plain": [
              "Text(0.5, 1.0, 'Média de votos em filmes no MovieLens')"
            ]
          },
          "metadata": {
            "tags": []
          },
          "execution_count": 17
        },
        {
          "output_type": "display_data",
          "data": {
            "image/png": "[encoded data removed]",
            "text/plain": [
              "<Figure size 432x288 with 1 Axes>"
            ]
          },
          "metadata": {
            "tags": [],
            "needs_background": "light"
          }
        }
      ]
    },
    {
      "cell_type": "code",
      "metadata": {
        "colab": {
          "base_uri": "https://localhost:8080/",
          "height": 366
        },
        "id": "SICdfWBZwo1D",
        "outputId": "7586ad63-386a-40de-f356-8a41a2cf6f3b"
      },
      "source": [
        "ax = sns.distplot(nota_media_por_filme, norm_hist=False, kde=True)\n",
        "ax.set(xlabel='Nota Média', ylabel='Densidade')\n",
        "ax.set_title('Média de votos em filmes no MovieLens')\n"
      ],
      "execution_count": null,
      "outputs": [
        {
          "output_type": "stream",
          "text": [
            "/usr/local/lib/python3.7/dist-packages/seaborn/distributions.py:2557: FutureWarning: `distplot` is a deprecated function and will be removed in a future version. Please adapt your code to use either `displot` (a figure-level function with similar flexibility) or `histplot` (an axes-level function for histograms).\n",
            "  warnings.warn(msg, FutureWarning)\n"
          ],
          "name": "stderr"
        },
        {
          "output_type": "execute_result",
          "data": {
            "text/plain": [
              "Text(0.5, 1.0, 'Média de votos em filmes no MovieLens')"
            ]
          },
          "metadata": {
            "tags": []
          },
          "execution_count": 18
        },
        {
          "output_type": "display_data",
          "data": {
            "image/png": "[encoded data removed]",
            "text/plain": [
              "<Figure size 432x288 with 1 Axes>"
            ]
          },
          "metadata": {
            "tags": [],
            "needs_background": "light"
          }
        }
      ]
    },
    {
      "cell_type": "code",
      "metadata": {
        "colab": {
          "base_uri": "https://localhost:8080/"
        },
        "id": "KbJGFjlzwzZp",
        "outputId": "ea376659-c5c9-44fa-b20b-a1919682256b"
      },
      "source": [
        "quantidade_de_votos_por_filme = notas.groupby('movieId').count()\n",
        "filmes_com_pelo_menos_dez_votos = quantidade_de_votos_por_filme.query('rating >= 10').index\n",
        "filmes_com_pelo_menos_dez_votos.values"
      ],
      "execution_count": null,
      "outputs": [
        {
          "output_type": "execute_result",
          "data": {
            "text/plain": [
              "array([     1,      2,      3, ..., 177765, 179819, 187593])"
            ]
          },
          "metadata": {
            "tags": []
          },
          "execution_count": 19
        }
      ]
    },
    {
      "cell_type": "code",
      "metadata": {
        "colab": {
          "base_uri": "https://localhost:8080/"
        },
        "id": "tGFfGCWBxEhD",
        "outputId": "0af029fb-b338-4836-c0f1-f107bf7f582d"
      },
      "source": [
        "nota_media_dos_filmes_com_pelo_menos_dez_votos = nota_media_por_filme.loc[filmes_com_pelo_menos_dez_votos.values]\n",
        "nota_media_dos_filmes_com_pelo_menos_dez_votos"
      ],
      "execution_count": null,
      "outputs": [
        {
          "output_type": "execute_result",
          "data": {
            "text/plain": [
              "movieId\n",
              "1         3.920930\n",
              "2         3.431818\n",
              "3         3.259615\n",
              "5         3.071429\n",
              "6         3.946078\n",
              "            ...   \n",
              "174055    3.423077\n",
              "176371    3.805556\n",
              "177765    3.538462\n",
              "179819    3.125000\n",
              "187593    3.875000\n",
              "Name: rating, Length: 2269, dtype: float64"
            ]
          },
          "metadata": {
            "tags": []
          },
          "execution_count": 20
        }
      ]
    },
    {
      "cell_type": "code",
      "metadata": {
        "colab": {
          "base_uri": "https://localhost:8080/",
          "height": 366
        },
        "id": "cTdBdLchx8bF",
        "outputId": "5fb29a7d-6ce6-4011-9041-8ba6916d46f1"
      },
      "source": [
        "ax = sns.distplot(nota_media_dos_filmes_com_pelo_menos_dez_votos, norm_hist=False, kde=True)\n",
        "ax.set(xlabel='Nota Média dos filmes com pelo menos 10 votos', ylabel='Densidade')\n",
        "ax.set_title('Média de votos em filmes no MovieLens')"
      ],
      "execution_count": null,
      "outputs": [
        {
          "output_type": "stream",
          "text": [
            "/usr/local/lib/python3.7/dist-packages/seaborn/distributions.py:2557: FutureWarning: `distplot` is a deprecated function and will be removed in a future version. Please adapt your code to use either `displot` (a figure-level function with similar flexibility) or `histplot` (an axes-level function for histograms).\n",
            "  warnings.warn(msg, FutureWarning)\n"
          ],
          "name": "stderr"
        },
        {
          "output_type": "execute_result",
          "data": {
            "text/plain": [
              "Text(0.5, 1.0, 'Média de votos em filmes no MovieLens')"
            ]
          },
          "metadata": {
            "tags": []
          },
          "execution_count": 21
        },
        {
          "output_type": "display_data",
          "data": {
            "image/png": "[encoded data removed]",
            "text/plain": [
              "<Figure size 432x288 with 1 Axes>"
            ]
          },
          "metadata": {
            "tags": [],
            "needs_background": "light"
          }
        }
      ]
    },
    {
      "cell_type": "code",
      "metadata": {
        "colab": {
          "base_uri": "https://localhost:8080/",
          "height": 366
        },
        "id": "pcPxym9TyYB7",
        "outputId": "fd53ea0d-5f93-4022-ff4f-d51d1cc5b296"
      },
      "source": [
        "ax = sns.distplot(nota_media_dos_filmes_com_pelo_menos_dez_votos, norm_hist=False, kde=False)\n",
        "ax.set(xlabel='Nota Média dos filmes com pelo menos 10 votos', ylabel='Frequência')\n",
        "ax.set_title('Média de votos em filmes no MovieLens')"
      ],
      "execution_count": null,
      "outputs": [
        {
          "output_type": "stream",
          "text": [
            "/usr/local/lib/python3.7/dist-packages/seaborn/distributions.py:2557: FutureWarning: `distplot` is a deprecated function and will be removed in a future version. Please adapt your code to use either `displot` (a figure-level function with similar flexibility) or `histplot` (an axes-level function for histograms).\n",
            "  warnings.warn(msg, FutureWarning)\n"
          ],
          "name": "stderr"
        },
        {
          "output_type": "execute_result",
          "data": {
            "text/plain": [
              "Text(0.5, 1.0, 'Média de votos em filmes no MovieLens')"
            ]
          },
          "metadata": {
            "tags": []
          },
          "execution_count": 22
        },
        {
          "output_type": "display_data",
          "data": {
            "image/png": "[encoded data removed]",
            "text/plain": [
              "<Figure size 432x288 with 1 Axes>"
            ]
          },
          "metadata": {
            "tags": [],
            "needs_background": "light"
          }
        }
      ]
    },
    {
      "cell_type": "code",
      "metadata": {
        "colab": {
          "base_uri": "https://localhost:8080/",
          "height": 312
        },
        "id": "rI3GmB_Iye7f",
        "outputId": "8277898b-17ef-4333-fe1f-9bc4341c787c"
      },
      "source": [
        "ax = sns.boxplot(x=nota_media_dos_filmes_com_pelo_menos_dez_votos)\n",
        "ax.set_title('Distribuição de nota média no MovieLens')\n",
        "ax.set(xlabel='Nota média do Filme (com 10 ou + votos)')"
      ],
      "execution_count": null,
      "outputs": [
        {
          "output_type": "execute_result",
          "data": {
            "text/plain": [
              "[Text(0.5, 0, 'Nota média do Filme (com 10 ou + votos)')]"
            ]
          },
          "metadata": {
            "tags": []
          },
          "execution_count": 23
        },
        {
          "output_type": "display_data",
          "data": {
            "image/png": "[encoded data removed]",
            "text/plain": [
              "<Figure size 432x288 with 1 Axes>"
            ]
          },
          "metadata": {
            "tags": [],
            "needs_background": "light"
          }
        }
      ]
    },
    {
      "cell_type": "code",
      "metadata": {
        "colab": {
          "base_uri": "https://localhost:8080/",
          "height": 312
        },
        "id": "GbXk4HoWyxgM",
        "outputId": "81d4a8cd-b5b4-43a0-b6a4-2c4b3693bcb3"
      },
      "source": [
        "ax = sns.boxplot(x=nota_media_dos_filmes_com_pelo_menos_dez_votos.values)\n",
        "ax.set_title('Distribuição de nota média no MovieLens')\n",
        "ax.set(xlabel='Nota média do Filme (com 10 ou + votos)')"
      ],
      "execution_count": null,
      "outputs": [
        {
          "output_type": "execute_result",
          "data": {
            "text/plain": [
              "[Text(0.5, 0, 'Nota média do Filme (com 10 ou + votos)')]"
            ]
          },
          "metadata": {
            "tags": []
          },
          "execution_count": 24
        },
        {
          "output_type": "display_data",
          "data": {
            "image/png": "[encoded data removed]",
            "text/plain": [
              "<Figure size 432x288 with 1 Axes>"
            ]
          },
          "metadata": {
            "tags": [],
            "needs_background": "light"
          }
        }
      ]
    },
    {
      "cell_type": "code",
      "metadata": {
        "colab": {
          "base_uri": "https://localhost:8080/",
          "height": 366
        },
        "id": "BtBODbqCy2Db",
        "outputId": "c16f9331-a974-4a42-860d-da66b40296d0"
      },
      "source": [
        "ax = sns.distplot(nota_media_dos_filmes_com_pelo_menos_dez_votos, norm_hist=False, kde=True)\n",
        "ax.set(xlabel='Nota Média dos filmes com pelo menos 10 votos', ylabel='Densidade')\n",
        "ax.set_title('Média de votos em filmes no MovieLens')"
      ],
      "execution_count": null,
      "outputs": [
        {
          "output_type": "stream",
          "text": [
            "/usr/local/lib/python3.7/dist-packages/seaborn/distributions.py:2557: FutureWarning: `distplot` is a deprecated function and will be removed in a future version. Please adapt your code to use either `displot` (a figure-level function with similar flexibility) or `histplot` (an axes-level function for histograms).\n",
            "  warnings.warn(msg, FutureWarning)\n"
          ],
          "name": "stderr"
        },
        {
          "output_type": "execute_result",
          "data": {
            "text/plain": [
              "Text(0.5, 1.0, 'Média de votos em filmes no MovieLens')"
            ]
          },
          "metadata": {
            "tags": []
          },
          "execution_count": 25
        },
        {
          "output_type": "display_data",
          "data": {
            "image/png": "[encoded data removed]",
            "text/plain": [
              "<Figure size 432x288 with 1 Axes>"
            ]
          },
          "metadata": {
            "tags": [],
            "needs_background": "light"
          }
        }
      ]
    },
    {
      "cell_type": "code",
      "metadata": {
        "colab": {
          "base_uri": "https://localhost:8080/",
          "height": 366
        },
        "id": "ieZ6orx631sa",
        "outputId": "97b5beb0-71e1-40a3-c628-4ddc9bc1b2b3"
      },
      "source": [
        "ax = sns.distplot(nota_media_dos_filmes_com_pelo_menos_dez_votos, norm_hist=False, kde_kws={'cumulative':True}, hist_kws={'cumulative':True},)\n",
        "ax.set(xlabel='Nota Média dos filmes com pelo menos 10 votos', ylabel='% Acumulada de Filmes')\n",
        "ax.set_title('Média de votos em filmes no MovieLens')"
      ],
      "execution_count": null,
      "outputs": [
        {
          "output_type": "stream",
          "text": [
            "/usr/local/lib/python3.7/dist-packages/seaborn/distributions.py:2557: FutureWarning: `distplot` is a deprecated function and will be removed in a future version. Please adapt your code to use either `displot` (a figure-level function with similar flexibility) or `histplot` (an axes-level function for histograms).\n",
            "  warnings.warn(msg, FutureWarning)\n"
          ],
          "name": "stderr"
        },
        {
          "output_type": "execute_result",
          "data": {
            "text/plain": [
              "Text(0.5, 1.0, 'Média de votos em filmes no MovieLens')"
            ]
          },
          "metadata": {
            "tags": []
          },
          "execution_count": 26
        },
        {
          "output_type": "display_data",
          "data": {
            "image/png": "[encoded data removed]",
            "text/plain": [
              "<Figure size 432x288 with 1 Axes>"
            ]
          },
          "metadata": {
            "tags": [],
            "needs_background": "light"
          }
        }
      ]
    },
    {
      "cell_type": "code",
      "metadata": {
        "colab": {
          "base_uri": "https://localhost:8080/",
          "height": 702
        },
        "id": "8Okry0MW4Wcq",
        "outputId": "43199859-d525-47b7-f028-6b02b94a4949"
      },
      "source": [
        "tmdb_com_mais_de_dez_votos.head()"
      ],
      "execution_count": null,
      "outputs": [
        {
          "output_type": "execute_result",
          "data": {
            "text/html": [
              "<div>\n",
              "<style scoped>\n",
              "    .dataframe tbody tr th:only-of-type {\n",
              "        vertical-align: middle;\n",
              "    }\n",
              "\n",
              "    .dataframe tbody tr th {\n",
              "        vertical-align: top;\n",
              "    }\n",
              "\n",
              "    .dataframe thead th {\n",
              "        text-align: right;\n",
              "    }\n",
              "</style>\n",
              "<table border=\"1\" class=\"dataframe\">\n",
              "  <thead>\n",
              "    <tr style=\"text-align: right;\">\n",
              "      <th></th>\n",
              "      <th>budget</th>\n",
              "      <th>genres</th>\n",
              "      <th>homepage</th>\n",
              "      <th>id</th>\n",
              "      <th>keywords</th>\n",
              "      <th>original_language</th>\n",
              "      <th>original_title</th>\n",
              "      <th>overview</th>\n",
              "      <th>popularity</th>\n",
              "      <th>production_companies</th>\n",
              "      <th>production_countries</th>\n",
              "      <th>release_date</th>\n",
              "      <th>revenue</th>\n",
              "      <th>runtime</th>\n",
              "      <th>spoken_languages</th>\n",
              "      <th>status</th>\n",
              "      <th>tagline</th>\n",
              "      <th>title</th>\n",
              "      <th>vote_average</th>\n",
              "      <th>vote_count</th>\n",
              "    </tr>\n",
              "  </thead>\n",
              "  <tbody>\n",
              "    <tr>\n",
              "      <th>0</th>\n",
              "      <td>237000000</td>\n",
              "      <td>[{\"id\": 28, \"name\": \"Action\"}, {\"id\": 12, \"nam...</td>\n",
              "      <td>http://www.avatarmovie.com/</td>\n",
              "      <td>19995</td>\n",
              "      <td>[{\"id\": 1463, \"name\": \"culture clash\"}, {\"id\":...</td>\n",
              "      <td>en</td>\n",
              "      <td>Avatar</td>\n",
              "      <td>In the 22nd century, a paraplegic Marine is di...</td>\n",
              "      <td>150.437577</td>\n",
              "      <td>[{\"name\": \"Ingenious Film Partners\", \"id\": 289...</td>\n",
              "      <td>[{\"iso_3166_1\": \"US\", \"name\": \"United States o...</td>\n",
              "      <td>2009-12-10</td>\n",
              "      <td>2787965087</td>\n",
              "      <td>162.0</td>\n",
              "      <td>[{\"iso_639_1\": \"en\", \"name\": \"English\"}, {\"iso...</td>\n",
              "      <td>Released</td>\n",
              "      <td>Enter the World of Pandora.</td>\n",
              "      <td>Avatar</td>\n",
              "      <td>7.2</td>\n",
              "      <td>11800</td>\n",
              "    </tr>\n",
              "    <tr>\n",
              "      <th>1</th>\n",
              "      <td>300000000</td>\n",
              "      <td>[{\"id\": 12, \"name\": \"Adventure\"}, {\"id\": 14, \"...</td>\n",
              "      <td>http://disney.go.com/disneypictures/pirates/</td>\n",
              "      <td>285</td>\n",
              "      <td>[{\"id\": 270, \"name\": \"ocean\"}, {\"id\": 726, \"na...</td>\n",
              "      <td>en</td>\n",
              "      <td>Pirates of the Caribbean: At World's End</td>\n",
              "      <td>Captain Barbossa, long believed to be dead, ha...</td>\n",
              "      <td>139.082615</td>\n",
              "      <td>[{\"name\": \"Walt Disney Pictures\", \"id\": 2}, {\"...</td>\n",
              "      <td>[{\"iso_3166_1\": \"US\", \"name\": \"United States o...</td>\n",
              "      <td>2007-05-19</td>\n",
              "      <td>961000000</td>\n",
              "      <td>169.0</td>\n",
              "      <td>[{\"iso_639_1\": \"en\", \"name\": \"English\"}]</td>\n",
              "      <td>Released</td>\n",
              "      <td>At the end of the world, the adventure begins.</td>\n",
              "      <td>Pirates of the Caribbean: At World's End</td>\n",
              "      <td>6.9</td>\n",
              "      <td>4500</td>\n",
              "    </tr>\n",
              "    <tr>\n",
              "      <th>2</th>\n",
              "      <td>245000000</td>\n",
              "      <td>[{\"id\": 28, \"name\": \"Action\"}, {\"id\": 12, \"nam...</td>\n",
              "      <td>http://www.sonypictures.com/movies/spectre/</td>\n",
              "      <td>206647</td>\n",
              "      <td>[{\"id\": 470, \"name\": \"spy\"}, {\"id\": 818, \"name...</td>\n",
              "      <td>en</td>\n",
              "      <td>Spectre</td>\n",
              "      <td>A cryptic message from Bond’s past sends him o...</td>\n",
              "      <td>107.376788</td>\n",
              "      <td>[{\"name\": \"Columbia Pictures\", \"id\": 5}, {\"nam...</td>\n",
              "      <td>[{\"iso_3166_1\": \"GB\", \"name\": \"United Kingdom\"...</td>\n",
              "      <td>2015-10-26</td>\n",
              "      <td>880674609</td>\n",
              "      <td>148.0</td>\n",
              "      <td>[{\"iso_639_1\": \"fr\", \"name\": \"Fran\\u00e7ais\"},...</td>\n",
              "      <td>Released</td>\n",
              "      <td>A Plan No One Escapes</td>\n",
              "      <td>Spectre</td>\n",
              "      <td>6.3</td>\n",
              "      <td>4466</td>\n",
              "    </tr>\n",
              "    <tr>\n",
              "      <th>3</th>\n",
              "      <td>250000000</td>\n",
              "      <td>[{\"id\": 28, \"name\": \"Action\"}, {\"id\": 80, \"nam...</td>\n",
              "      <td>http://www.thedarkknightrises.com/</td>\n",
              "      <td>49026</td>\n",
              "      <td>[{\"id\": 849, \"name\": \"dc comics\"}, {\"id\": 853,...</td>\n",
              "      <td>en</td>\n",
              "      <td>The Dark Knight Rises</td>\n",
              "      <td>Following the death of District Attorney Harve...</td>\n",
              "      <td>112.312950</td>\n",
              "      <td>[{\"name\": \"Legendary Pictures\", \"id\": 923}, {\"...</td>\n",
              "      <td>[{\"iso_3166_1\": \"US\", \"name\": \"United States o...</td>\n",
              "      <td>2012-07-16</td>\n",
              "      <td>1084939099</td>\n",
              "      <td>165.0</td>\n",
              "      <td>[{\"iso_639_1\": \"en\", \"name\": \"English\"}]</td>\n",
              "      <td>Released</td>\n",
              "      <td>The Legend Ends</td>\n",
              "      <td>The Dark Knight Rises</td>\n",
              "      <td>7.6</td>\n",
              "      <td>9106</td>\n",
              "    </tr>\n",
              "    <tr>\n",
              "      <th>4</th>\n",
              "      <td>260000000</td>\n",
              "      <td>[{\"id\": 28, \"name\": \"Action\"}, {\"id\": 12, \"nam...</td>\n",
              "      <td>http://movies.disney.com/john-carter</td>\n",
              "      <td>49529</td>\n",
              "      <td>[{\"id\": 818, \"name\": \"based on novel\"}, {\"id\":...</td>\n",
              "      <td>en</td>\n",
              "      <td>John Carter</td>\n",
              "      <td>John Carter is a war-weary, former military ca...</td>\n",
              "      <td>43.926995</td>\n",
              "      <td>[{\"name\": \"Walt Disney Pictures\", \"id\": 2}]</td>\n",
              "      <td>[{\"iso_3166_1\": \"US\", \"name\": \"United States o...</td>\n",
              "      <td>2012-03-07</td>\n",
              "      <td>284139100</td>\n",
              "      <td>132.0</td>\n",
              "      <td>[{\"iso_639_1\": \"en\", \"name\": \"English\"}]</td>\n",
              "      <td>Released</td>\n",
              "      <td>Lost in our world, found in another.</td>\n",
              "      <td>John Carter</td>\n",
              "      <td>6.1</td>\n",
              "      <td>2124</td>\n",
              "    </tr>\n",
              "  </tbody>\n",
              "</table>\n",
              "</div>"
            ],
            "text/plain": [
              "      budget  ... vote_count\n",
              "0  237000000  ...      11800\n",
              "1  300000000  ...       4500\n",
              "2  245000000  ...       4466\n",
              "3  250000000  ...       9106\n",
              "4  260000000  ...       2124\n",
              "\n",
              "[5 rows x 20 columns]"
            ]
          },
          "metadata": {
            "tags": []
          },
          "execution_count": 27
        }
      ]
    },
    {
      "cell_type": "code",
      "metadata": {
        "colab": {
          "base_uri": "https://localhost:8080/"
        },
        "id": "2DtXHDj5SoWN",
        "outputId": "affd97ce-4ba3-4b91-f1c5-d93947da3984"
      },
      "source": [
        "tmdb_com_mais_de_dez_votos.vote_count"
      ],
      "execution_count": null,
      "outputs": [
        {
          "output_type": "execute_result",
          "data": {
            "text/plain": [
              "0       11800\n",
              "1        4500\n",
              "2        4466\n",
              "3        9106\n",
              "4        2124\n",
              "        ...  \n",
              "4790       17\n",
              "4792       63\n",
              "4796      658\n",
              "4798      238\n",
              "4802       16\n",
              "Name: vote_count, Length: 4392, dtype: int64"
            ]
          },
          "metadata": {
            "tags": []
          },
          "execution_count": 28
        }
      ]
    },
    {
      "cell_type": "code",
      "metadata": {
        "colab": {
          "base_uri": "https://localhost:8080/",
          "height": 366
        },
        "id": "4hmOiUj7SwYg",
        "outputId": "6176b013-ac5b-4f1a-9fc9-dd35ec623708"
      },
      "source": [
        "ax = sns.distplot(tmdb_com_mais_de_dez_votos.vote_count, norm_hist=False, kde=True)\n",
        "ax.set(xlabel='Número de votos', ylabel='Densidade')\n",
        "ax.set_title('Número de votos em filmes no tmdb5000')"
      ],
      "execution_count": null,
      "outputs": [
        {
          "output_type": "stream",
          "text": [
            "/usr/local/lib/python3.7/dist-packages/seaborn/distributions.py:2557: FutureWarning: `distplot` is a deprecated function and will be removed in a future version. Please adapt your code to use either `displot` (a figure-level function with similar flexibility) or `histplot` (an axes-level function for histograms).\n",
            "  warnings.warn(msg, FutureWarning)\n"
          ],
          "name": "stderr"
        },
        {
          "output_type": "execute_result",
          "data": {
            "text/plain": [
              "Text(0.5, 1.0, 'Número de votos em filmes no tmdb5000')"
            ]
          },
          "metadata": {
            "tags": []
          },
          "execution_count": 29
        },
        {
          "output_type": "display_data",
          "data": {
            "image/png": "[encoded data removed]",
            "text/plain": [
              "<Figure size 432x288 with 1 Axes>"
            ]
          },
          "metadata": {
            "tags": [],
            "needs_background": "light"
          }
        }
      ]
    },
    {
      "cell_type": "code",
      "metadata": {
        "colab": {
          "base_uri": "https://localhost:8080/"
        },
        "id": "KoQxU5E5S8x7",
        "outputId": "a4efef7d-c83e-42dc-afb2-e4c26eaeabb3"
      },
      "source": [
        "tmdb.query('budget > 0').budget"
      ],
      "execution_count": null,
      "outputs": [
        {
          "output_type": "execute_result",
          "data": {
            "text/plain": [
              "0       237000000\n",
              "1       300000000\n",
              "2       245000000\n",
              "3       250000000\n",
              "4       260000000\n",
              "          ...    \n",
              "4791           13\n",
              "4792        20000\n",
              "4796         7000\n",
              "4798       220000\n",
              "4799         9000\n",
              "Name: budget, Length: 3766, dtype: int64"
            ]
          },
          "metadata": {
            "tags": []
          },
          "execution_count": 30
        }
      ]
    },
    {
      "cell_type": "code",
      "metadata": {
        "colab": {
          "base_uri": "https://localhost:8080/",
          "height": 366
        },
        "id": "GDb8yzyvTlyt",
        "outputId": "57b15466-1439-40a2-84b3-e06f5689235a"
      },
      "source": [
        "ax = sns.distplot(tmdb.query('budget > 0').budget, norm_hist=False, kde=True)\n",
        "ax.set(xlabel='Número de votos', ylabel='Densidade')\n",
        "ax.set_title('Número de votos em filmes no tmdb5000 (com budget > 0)')"
      ],
      "execution_count": null,
      "outputs": [
        {
          "output_type": "stream",
          "text": [
            "/usr/local/lib/python3.7/dist-packages/seaborn/distributions.py:2557: FutureWarning: `distplot` is a deprecated function and will be removed in a future version. Please adapt your code to use either `displot` (a figure-level function with similar flexibility) or `histplot` (an axes-level function for histograms).\n",
            "  warnings.warn(msg, FutureWarning)\n"
          ],
          "name": "stderr"
        },
        {
          "output_type": "execute_result",
          "data": {
            "text/plain": [
              "Text(0.5, 1.0, 'Número de votos em filmes no tmdb5000 (com budget > 0)')"
            ]
          },
          "metadata": {
            "tags": []
          },
          "execution_count": 31
        },
        {
          "output_type": "display_data",
          "data": {
            "image/png": "[encoded data removed]",
            "text/plain": [
              "<Figure size 432x288 with 1 Axes>"
            ]
          },
          "metadata": {
            "tags": [],
            "needs_background": "light"
          }
        }
      ]
    },
    {
      "cell_type": "code",
      "metadata": {
        "colab": {
          "base_uri": "https://localhost:8080/",
          "height": 366
        },
        "id": "kUOz4In5Tz6b",
        "outputId": "e9dfa3fb-b7cb-4e10-e87d-7906c93e19b9"
      },
      "source": [
        "ax = sns.distplot(tmdb.popularity, norm_hist=False, kde=True)\n",
        "ax.set(xlabel='Popularidade', ylabel='Densidade')\n",
        "ax.set_title('Popularidade em filmes no tmdb5000')"
      ],
      "execution_count": null,
      "outputs": [
        {
          "output_type": "stream",
          "text": [
            "/usr/local/lib/python3.7/dist-packages/seaborn/distributions.py:2557: FutureWarning: `distplot` is a deprecated function and will be removed in a future version. Please adapt your code to use either `displot` (a figure-level function with similar flexibility) or `histplot` (an axes-level function for histograms).\n",
            "  warnings.warn(msg, FutureWarning)\n"
          ],
          "name": "stderr"
        },
        {
          "output_type": "execute_result",
          "data": {
            "text/plain": [
              "Text(0.5, 1.0, 'Popularidade em filmes no tmdb5000')"
            ]
          },
          "metadata": {
            "tags": []
          },
          "execution_count": 32
        },
        {
          "output_type": "display_data",
          "data": {
            "image/png": "[encoded data removed]",
            "text/plain": [
              "<Figure size 432x288 with 1 Axes>"
            ]
          },
          "metadata": {
            "tags": [],
            "needs_background": "light"
          }
        }
      ]
    },
    {
      "cell_type": "code",
      "metadata": {
        "colab": {
          "base_uri": "https://localhost:8080/",
          "height": 366
        },
        "id": "yyjQMRkdURu6",
        "outputId": "b8649cf2-c55c-43ce-e673-4a6443fc75ec"
      },
      "source": [
        "runtime_diff_zero = tmdb.query('runtime > 0')\n",
        "\n",
        "ax = sns.distplot(runtime_diff_zero.runtime.dropna(), norm_hist=False, kde_kws={'cumulative':True}, hist_kws={'cumulative':True})\n",
        "ax.set(xlabel='Duração de filme', ylabel='Densidade')\n",
        "ax.set_title('Duração de filmes no tmdb5000')"
      ],
      "execution_count": null,
      "outputs": [
        {
          "output_type": "stream",
          "text": [
            "/usr/local/lib/python3.7/dist-packages/seaborn/distributions.py:2557: FutureWarning: `distplot` is a deprecated function and will be removed in a future version. Please adapt your code to use either `displot` (a figure-level function with similar flexibility) or `histplot` (an axes-level function for histograms).\n",
            "  warnings.warn(msg, FutureWarning)\n"
          ],
          "name": "stderr"
        },
        {
          "output_type": "execute_result",
          "data": {
            "text/plain": [
              "Text(0.5, 1.0, 'Duração de filmes no tmdb5000')"
            ]
          },
          "metadata": {
            "tags": []
          },
          "execution_count": 33
        },
        {
          "output_type": "display_data",
          "data": {
            "image/png": "[encoded data removed]",
            "text/plain": [
              "<Figure size 432x288 with 1 Axes>"
            ]
          },
          "metadata": {
            "tags": [],
            "needs_background": "light"
          }
        }
      ]
    },
    {
      "cell_type": "code",
      "metadata": {
        "colab": {
          "base_uri": "https://localhost:8080/",
          "height": 366
        },
        "id": "2hGX_mEXUwQj",
        "outputId": "f078adeb-bf9f-4dc5-e22f-4be324d8108e"
      },
      "source": [
        "runtime_diff_zero = tmdb.query('runtime > 0')\n",
        "\n",
        "ax = sns.distplot(runtime_diff_zero.runtime.dropna(), norm_hist=False)\n",
        "ax.set(xlabel='Duração de filme', ylabel='Densidade')\n",
        "ax.set_title('Duração de filmes no tmdb5000')"
      ],
      "execution_count": null,
      "outputs": [
        {
          "output_type": "stream",
          "text": [
            "/usr/local/lib/python3.7/dist-packages/seaborn/distributions.py:2557: FutureWarning: `distplot` is a deprecated function and will be removed in a future version. Please adapt your code to use either `displot` (a figure-level function with similar flexibility) or `histplot` (an axes-level function for histograms).\n",
            "  warnings.warn(msg, FutureWarning)\n"
          ],
          "name": "stderr"
        },
        {
          "output_type": "execute_result",
          "data": {
            "text/plain": [
              "Text(0.5, 1.0, 'Duração de filmes no tmdb5000')"
            ]
          },
          "metadata": {
            "tags": []
          },
          "execution_count": 34
        },
        {
          "output_type": "display_data",
          "data": {
            "image/png": "[encoded data removed]",
            "text/plain": [
              "<Figure size 432x288 with 1 Axes>"
            ]
          },
          "metadata": {
            "tags": [],
            "needs_background": "light"
          }
        }
      ]
    },
    {
      "cell_type": "code",
      "metadata": {
        "colab": {
          "base_uri": "https://localhost:8080/"
        },
        "id": "kDmgoxskV62b",
        "outputId": "088f3291-43c9-400b-fce6-4c792db6d8c3"
      },
      "source": [
        "runtime_diff_zero.runtime.dropna().quantile(0.8)"
      ],
      "execution_count": null,
      "outputs": [
        {
          "output_type": "execute_result",
          "data": {
            "text/plain": [
              "121.0"
            ]
          },
          "metadata": {
            "tags": []
          },
          "execution_count": 35
        }
      ]
    },
    {
      "cell_type": "code",
      "metadata": {
        "id": "mwArPwyBWSjo",
        "colab": {
          "base_uri": "https://localhost:8080/"
        },
        "outputId": "5a54ed86-5212-4546-c58a-444b9fec1f4a"
      },
      "source": [
        "print('Média dos filmes com pelo menos 10 votos:', nota_media_dos_filmes_com_pelo_menos_dez_votos.mean())"
      ],
      "execution_count": null,
      "outputs": [
        {
          "output_type": "stream",
          "text": [
            "Média dos filmes com pelo menos 10 votos: 3.4320503405352603\n"
          ],
          "name": "stdout"
        }
      ]
    },
    {
      "cell_type": "code",
      "metadata": {
        "colab": {
          "base_uri": "https://localhost:8080/"
        },
        "id": "aVvn9ZOjNxTN",
        "outputId": "9f9f7446-a057-4e91-ef77-8a3268bc607b"
      },
      "source": [
        "nota_media_dos_filmes_com_pelo_menos_dez_votos[0:1].mean()"
      ],
      "execution_count": null,
      "outputs": [
        {
          "output_type": "execute_result",
          "data": {
            "text/plain": [
              "3.9209302325581397"
            ]
          },
          "metadata": {
            "tags": []
          },
          "execution_count": 37
        }
      ]
    },
    {
      "cell_type": "code",
      "metadata": {
        "colab": {
          "base_uri": "https://localhost:8080/"
        },
        "id": "JQbK3nFHPoAQ",
        "outputId": "e7b11b25-57da-4bcc-e763-ef71045e2ee4"
      },
      "source": [
        "len(nota_media_dos_filmes_com_pelo_menos_dez_votos)"
      ],
      "execution_count": null,
      "outputs": [
        {
          "output_type": "execute_result",
          "data": {
            "text/plain": [
              "2269"
            ]
          },
          "metadata": {
            "tags": []
          },
          "execution_count": 38
        }
      ]
    },
    {
      "cell_type": "code",
      "metadata": {
        "colab": {
          "base_uri": "https://localhost:8080/",
          "height": 282
        },
        "id": "tQI1GUoZP1qb",
        "outputId": "7767dd40-8468-40b9-9675-e675c361b5f1"
      },
      "source": [
        "import matplotlib.pyplot as plt\n",
        "medias = []\n",
        "for i in range(1, len(nota_media_dos_filmes_com_pelo_menos_dez_votos)):\n",
        "  medias.append(nota_media_dos_filmes_com_pelo_menos_dez_votos[0:i].mean())\n",
        "plt.plot(medias)"
      ],
      "execution_count": null,
      "outputs": [
        {
          "output_type": "execute_result",
          "data": {
            "text/plain": [
              "[<matplotlib.lines.Line2D at 0x7f1489c61110>]"
            ]
          },
          "metadata": {
            "tags": []
          },
          "execution_count": 39
        },
        {
          "output_type": "display_data",
          "data": {
            "image/png": "[encoded data removed]",
            "text/plain": [
              "<Figure size 432x288 with 1 Axes>"
            ]
          },
          "metadata": {
            "tags": [],
            "needs_background": "light"
          }
        }
      ]
    },
    {
      "cell_type": "code",
      "metadata": {
        "colab": {
          "base_uri": "https://localhost:8080/",
          "height": 282
        },
        "id": "f46riCreQRJu",
        "outputId": "ca6ebd3e-396d-4d4d-a041-0ff7c9a86111"
      },
      "source": [
        "temp = nota_media_dos_filmes_com_pelo_menos_dez_votos.sample(frac=1)\n",
        "medias= list()\n",
        "for i in range(1, len(temp)):\n",
        "  medias.append(temp[0:i].mean())\n",
        "plt.plot(medias)"
      ],
      "execution_count": null,
      "outputs": [
        {
          "output_type": "execute_result",
          "data": {
            "text/plain": [
              "[<matplotlib.lines.Line2D at 0x7f1489c37b50>]"
            ]
          },
          "metadata": {
            "tags": []
          },
          "execution_count": 40
        },
        {
          "output_type": "display_data",
          "data": {
            "image/png": "[encoded data removed]",
            "text/plain": [
              "<Figure size 432x288 with 1 Axes>"
            ]
          },
          "metadata": {
            "tags": [],
            "needs_background": "light"
          }
        }
      ]
    },
    {
      "cell_type": "code",
      "metadata": {
        "colab": {
          "base_uri": "https://localhost:8080/",
          "height": 284
        },
        "id": "RYrSKPnYRU_D",
        "outputId": "1daba71e-5595-415c-9d25-ab55515d5fa6"
      },
      "source": [
        "temp = nota_media_dos_filmes_com_pelo_menos_dez_votos.sample(frac=1)\n",
        "medias = [temp[0:i].mean() for i in range(1, len(temp))]\n",
        "plt.plot(medias)"
      ],
      "execution_count": null,
      "outputs": [
        {
          "output_type": "execute_result",
          "data": {
            "text/plain": [
              "[<matplotlib.lines.Line2D at 0x7f1489ba1590>]"
            ]
          },
          "metadata": {
            "tags": []
          },
          "execution_count": 41
        },
        {
          "output_type": "display_data",
          "data": {
            "image/png": "[encoded data removed]",
            "text/plain": [
              "<Figure size 432x288 with 1 Axes>"
            ]
          },
          "metadata": {
            "tags": [],
            "needs_background": "light"
          }
        }
      ]
    },
    {
      "cell_type": "code",
      "metadata": {
        "colab": {
          "base_uri": "https://localhost:8080/"
        },
        "id": "aBsgX9LYSafQ",
        "outputId": "b66ae7b7-a41e-4f1d-a5ea-4d3c9480ba9d"
      },
      "source": [
        "from statsmodels.stats.weightstats import zconfint"
      ],
      "execution_count": null,
      "outputs": [
        {
          "output_type": "stream",
          "text": [
            "/usr/local/lib/python3.7/dist-packages/statsmodels/tools/_testing.py:19: FutureWarning: pandas.util.testing is deprecated. Use the functions in the public API at pandas.testing instead.\n",
            "  import pandas.util.testing as tm\n"
          ],
          "name": "stderr"
        }
      ]
    },
    {
      "cell_type": "code",
      "metadata": {
        "colab": {
          "base_uri": "https://localhost:8080/"
        },
        "id": "y8e9POoyVnYK",
        "outputId": "a729c891-beeb-4188-8def-f9f4eafb5577"
      },
      "source": [
        "zconfint(nota_media_dos_filmes_com_pelo_menos_dez_votos)"
      ],
      "execution_count": null,
      "outputs": [
        {
          "output_type": "execute_result",
          "data": {
            "text/plain": [
              "(3.4112459477469557, 3.452854733323563)"
            ]
          },
          "metadata": {
            "tags": []
          },
          "execution_count": 43
        }
      ]
    },
    {
      "cell_type": "code",
      "metadata": {
        "colab": {
          "base_uri": "https://localhost:8080/"
        },
        "id": "GaVcxLM7Vxe2",
        "outputId": "26fbbdb6-1eee-4be3-e6fc-aa324ec544ca"
      },
      "source": [
        "from statsmodels.stats.weightstats import DescrStatsW\n",
        "desc_nota_10 = DescrStatsW(nota_media_dos_filmes_com_pelo_menos_dez_votos)\n",
        "desc_nota_10.tconfint_mean()"
      ],
      "execution_count": null,
      "outputs": [
        {
          "output_type": "execute_result",
          "data": {
            "text/plain": [
              "(3.411234839229381, 3.4528658418411395)"
            ]
          },
          "metadata": {
            "tags": []
          },
          "execution_count": 44
        }
      ]
    },
    {
      "cell_type": "code",
      "metadata": {
        "colab": {
          "base_uri": "https://localhost:8080/",
          "height": 402
        },
        "id": "eerp8xNHWosm",
        "outputId": "ee77b19e-9954-4112-9d3f-434d8618dea1"
      },
      "source": [
        "filmes = pd.read_csv('movies.csv')\n",
        "filmes"
      ],
      "execution_count": null,
      "outputs": [
        {
          "output_type": "execute_result",
          "data": {
            "text/html": [
              "<div>\n",
              "<style scoped>\n",
              "    .dataframe tbody tr th:only-of-type {\n",
              "        vertical-align: middle;\n",
              "    }\n",
              "\n",
              "    .dataframe tbody tr th {\n",
              "        vertical-align: top;\n",
              "    }\n",
              "\n",
              "    .dataframe thead th {\n",
              "        text-align: right;\n",
              "    }\n",
              "</style>\n",
              "<table border=\"1\" class=\"dataframe\">\n",
              "  <thead>\n",
              "    <tr style=\"text-align: right;\">\n",
              "      <th></th>\n",
              "      <th>movieId</th>\n",
              "      <th>title</th>\n",
              "      <th>genres</th>\n",
              "    </tr>\n",
              "  </thead>\n",
              "  <tbody>\n",
              "    <tr>\n",
              "      <th>0</th>\n",
              "      <td>1</td>\n",
              "      <td>Toy Story (1995)</td>\n",
              "      <td>Adventure|Animation|Children|Comedy|Fantasy</td>\n",
              "    </tr>\n",
              "    <tr>\n",
              "      <th>1</th>\n",
              "      <td>2</td>\n",
              "      <td>Jumanji (1995)</td>\n",
              "      <td>Adventure|Children|Fantasy</td>\n",
              "    </tr>\n",
              "    <tr>\n",
              "      <th>2</th>\n",
              "      <td>3</td>\n",
              "      <td>Grumpier Old Men (1995)</td>\n",
              "      <td>Comedy|Romance</td>\n",
              "    </tr>\n",
              "    <tr>\n",
              "      <th>3</th>\n",
              "      <td>4</td>\n",
              "      <td>Waiting to Exhale (1995)</td>\n",
              "      <td>Comedy|Drama|Romance</td>\n",
              "    </tr>\n",
              "    <tr>\n",
              "      <th>4</th>\n",
              "      <td>5</td>\n",
              "      <td>Father of the Bride Part II (1995)</td>\n",
              "      <td>Comedy</td>\n",
              "    </tr>\n",
              "    <tr>\n",
              "      <th>...</th>\n",
              "      <td>...</td>\n",
              "      <td>...</td>\n",
              "      <td>...</td>\n",
              "    </tr>\n",
              "    <tr>\n",
              "      <th>9737</th>\n",
              "      <td>193581</td>\n",
              "      <td>Black Butler: Book of the Atlantic (2017)</td>\n",
              "      <td>Action|Animation|Comedy|Fantasy</td>\n",
              "    </tr>\n",
              "    <tr>\n",
              "      <th>9738</th>\n",
              "      <td>193583</td>\n",
              "      <td>No Game No Life: Zero (2017)</td>\n",
              "      <td>Animation|Comedy|Fantasy</td>\n",
              "    </tr>\n",
              "    <tr>\n",
              "      <th>9739</th>\n",
              "      <td>193585</td>\n",
              "      <td>Flint (2017)</td>\n",
              "      <td>Drama</td>\n",
              "    </tr>\n",
              "    <tr>\n",
              "      <th>9740</th>\n",
              "      <td>193587</td>\n",
              "      <td>Bungo Stray Dogs: Dead Apple (2018)</td>\n",
              "      <td>Action|Animation</td>\n",
              "    </tr>\n",
              "    <tr>\n",
              "      <th>9741</th>\n",
              "      <td>193609</td>\n",
              "      <td>Andrew Dice Clay: Dice Rules (1991)</td>\n",
              "      <td>Comedy</td>\n",
              "    </tr>\n",
              "  </tbody>\n",
              "</table>\n",
              "<p>9742 rows × 3 columns</p>\n",
              "</div>"
            ],
            "text/plain": [
              "      movieId  ...                                       genres\n",
              "0           1  ...  Adventure|Animation|Children|Comedy|Fantasy\n",
              "1           2  ...                   Adventure|Children|Fantasy\n",
              "2           3  ...                               Comedy|Romance\n",
              "3           4  ...                         Comedy|Drama|Romance\n",
              "4           5  ...                                       Comedy\n",
              "...       ...  ...                                          ...\n",
              "9737   193581  ...              Action|Animation|Comedy|Fantasy\n",
              "9738   193583  ...                     Animation|Comedy|Fantasy\n",
              "9739   193585  ...                                        Drama\n",
              "9740   193587  ...                             Action|Animation\n",
              "9741   193609  ...                                       Comedy\n",
              "\n",
              "[9742 rows x 3 columns]"
            ]
          },
          "metadata": {
            "tags": []
          },
          "execution_count": 45
        }
      ]
    },
    {
      "cell_type": "code",
      "metadata": {
        "colab": {
          "base_uri": "https://localhost:8080/",
          "height": 402
        },
        "id": "11ecrYhDaeZi",
        "outputId": "a3689b98-2555-4d21-e7c9-9cf73742e474"
      },
      "source": [
        "notas1 = notas.query('movieId == 1')\n",
        "notas1"
      ],
      "execution_count": null,
      "outputs": [
        {
          "output_type": "execute_result",
          "data": {
            "text/html": [
              "<div>\n",
              "<style scoped>\n",
              "    .dataframe tbody tr th:only-of-type {\n",
              "        vertical-align: middle;\n",
              "    }\n",
              "\n",
              "    .dataframe tbody tr th {\n",
              "        vertical-align: top;\n",
              "    }\n",
              "\n",
              "    .dataframe thead th {\n",
              "        text-align: right;\n",
              "    }\n",
              "</style>\n",
              "<table border=\"1\" class=\"dataframe\">\n",
              "  <thead>\n",
              "    <tr style=\"text-align: right;\">\n",
              "      <th></th>\n",
              "      <th>userId</th>\n",
              "      <th>movieId</th>\n",
              "      <th>rating</th>\n",
              "      <th>timestamp</th>\n",
              "    </tr>\n",
              "  </thead>\n",
              "  <tbody>\n",
              "    <tr>\n",
              "      <th>0</th>\n",
              "      <td>1</td>\n",
              "      <td>1</td>\n",
              "      <td>4.0</td>\n",
              "      <td>964982703</td>\n",
              "    </tr>\n",
              "    <tr>\n",
              "      <th>516</th>\n",
              "      <td>5</td>\n",
              "      <td>1</td>\n",
              "      <td>4.0</td>\n",
              "      <td>847434962</td>\n",
              "    </tr>\n",
              "    <tr>\n",
              "      <th>874</th>\n",
              "      <td>7</td>\n",
              "      <td>1</td>\n",
              "      <td>4.5</td>\n",
              "      <td>1106635946</td>\n",
              "    </tr>\n",
              "    <tr>\n",
              "      <th>1434</th>\n",
              "      <td>15</td>\n",
              "      <td>1</td>\n",
              "      <td>2.5</td>\n",
              "      <td>1510577970</td>\n",
              "    </tr>\n",
              "    <tr>\n",
              "      <th>1667</th>\n",
              "      <td>17</td>\n",
              "      <td>1</td>\n",
              "      <td>4.5</td>\n",
              "      <td>1305696483</td>\n",
              "    </tr>\n",
              "    <tr>\n",
              "      <th>...</th>\n",
              "      <td>...</td>\n",
              "      <td>...</td>\n",
              "      <td>...</td>\n",
              "      <td>...</td>\n",
              "    </tr>\n",
              "    <tr>\n",
              "      <th>97364</th>\n",
              "      <td>606</td>\n",
              "      <td>1</td>\n",
              "      <td>2.5</td>\n",
              "      <td>1349082950</td>\n",
              "    </tr>\n",
              "    <tr>\n",
              "      <th>98479</th>\n",
              "      <td>607</td>\n",
              "      <td>1</td>\n",
              "      <td>4.0</td>\n",
              "      <td>964744033</td>\n",
              "    </tr>\n",
              "    <tr>\n",
              "      <th>98666</th>\n",
              "      <td>608</td>\n",
              "      <td>1</td>\n",
              "      <td>2.5</td>\n",
              "      <td>1117408267</td>\n",
              "    </tr>\n",
              "    <tr>\n",
              "      <th>99497</th>\n",
              "      <td>609</td>\n",
              "      <td>1</td>\n",
              "      <td>3.0</td>\n",
              "      <td>847221025</td>\n",
              "    </tr>\n",
              "    <tr>\n",
              "      <th>99534</th>\n",
              "      <td>610</td>\n",
              "      <td>1</td>\n",
              "      <td>5.0</td>\n",
              "      <td>1479542900</td>\n",
              "    </tr>\n",
              "  </tbody>\n",
              "</table>\n",
              "<p>215 rows × 4 columns</p>\n",
              "</div>"
            ],
            "text/plain": [
              "       userId  movieId  rating   timestamp\n",
              "0           1        1     4.0   964982703\n",
              "516         5        1     4.0   847434962\n",
              "874         7        1     4.5  1106635946\n",
              "1434       15        1     2.5  1510577970\n",
              "1667       17        1     4.5  1305696483\n",
              "...       ...      ...     ...         ...\n",
              "97364     606        1     2.5  1349082950\n",
              "98479     607        1     4.0   964744033\n",
              "98666     608        1     2.5  1117408267\n",
              "99497     609        1     3.0   847221025\n",
              "99534     610        1     5.0  1479542900\n",
              "\n",
              "[215 rows x 4 columns]"
            ]
          },
          "metadata": {
            "tags": []
          },
          "execution_count": 46
        }
      ]
    },
    {
      "cell_type": "code",
      "metadata": {
        "colab": {
          "base_uri": "https://localhost:8080/",
          "height": 366
        },
        "id": "tc72XRGKanEI",
        "outputId": "f371d9bd-1ec7-43f5-9a2c-a841b1eaf0be"
      },
      "source": [
        "ax = sns.distplot(notas1.rating, norm_hist=False, kde=True)\n",
        "ax.set(xlabel='Notas', ylabel='')\n",
        "ax.set_title('Distribuição das Notas para o Toy Story')"
      ],
      "execution_count": null,
      "outputs": [
        {
          "output_type": "stream",
          "text": [
            "/usr/local/lib/python3.7/dist-packages/seaborn/distributions.py:2557: FutureWarning: `distplot` is a deprecated function and will be removed in a future version. Please adapt your code to use either `displot` (a figure-level function with similar flexibility) or `histplot` (an axes-level function for histograms).\n",
            "  warnings.warn(msg, FutureWarning)\n"
          ],
          "name": "stderr"
        },
        {
          "output_type": "execute_result",
          "data": {
            "text/plain": [
              "Text(0.5, 1.0, 'Distribuição das Notas para o Toy Story')"
            ]
          },
          "metadata": {
            "tags": []
          },
          "execution_count": 47
        },
        {
          "output_type": "display_data",
          "data": {
            "image/png": "[encoded data removed]",
            "text/plain": [
              "<Figure size 432x288 with 1 Axes>"
            ]
          },
          "metadata": {
            "tags": [],
            "needs_background": "light"
          }
        }
      ]
    },
    {
      "cell_type": "code",
      "metadata": {
        "colab": {
          "base_uri": "https://localhost:8080/",
          "height": 366
        },
        "id": "BybjkxmpbDSv",
        "outputId": "9453b8da-2873-42ed-85d1-59d6dbcd808b"
      },
      "source": [
        "ax = sns.boxplot(notas1.rating)\n",
        "ax.set(xlabel='Notas')\n",
        "ax.set_title('Distribuição das Notas para o Toy Story')"
      ],
      "execution_count": null,
      "outputs": [
        {
          "output_type": "stream",
          "text": [
            "/usr/local/lib/python3.7/dist-packages/seaborn/_decorators.py:43: FutureWarning: Pass the following variable as a keyword arg: x. From version 0.12, the only valid positional argument will be `data`, and passing other arguments without an explicit keyword will result in an error or misinterpretation.\n",
            "  FutureWarning\n"
          ],
          "name": "stderr"
        },
        {
          "output_type": "execute_result",
          "data": {
            "text/plain": [
              "Text(0.5, 1.0, 'Distribuição das Notas para o Toy Story')"
            ]
          },
          "metadata": {
            "tags": []
          },
          "execution_count": 48
        },
        {
          "output_type": "display_data",
          "data": {
            "image/png": "[encoded data removed]",
            "text/plain": [
              "<Figure size 432x288 with 1 Axes>"
            ]
          },
          "metadata": {
            "tags": [],
            "needs_background": "light"
          }
        }
      ]
    },
    {
      "cell_type": "code",
      "metadata": {
        "colab": {
          "base_uri": "https://localhost:8080/"
        },
        "id": "rUsJZ2vJbUnq",
        "outputId": "275951e5-f4e1-4469-c4f8-8ef0918b6b56"
      },
      "source": [
        "notas1.rating.count()\n",
        "#+ de 30 amostras"
      ],
      "execution_count": null,
      "outputs": [
        {
          "output_type": "execute_result",
          "data": {
            "text/plain": [
              "215"
            ]
          },
          "metadata": {
            "tags": []
          },
          "execution_count": 49
        }
      ]
    },
    {
      "cell_type": "code",
      "metadata": {
        "colab": {
          "base_uri": "https://localhost:8080/"
        },
        "id": "gN_JnrPAcCIg",
        "outputId": "aad0d7cc-d257-49ab-b5d1-2d7625013b6b"
      },
      "source": [
        "zconfint(notas1.rating)"
      ],
      "execution_count": null,
      "outputs": [
        {
          "output_type": "execute_result",
          "data": {
            "text/plain": [
              "(3.8093359183563402, 4.032524546759939)"
            ]
          },
          "metadata": {
            "tags": []
          },
          "execution_count": 50
        }
      ]
    },
    {
      "cell_type": "code",
      "metadata": {
        "colab": {
          "base_uri": "https://localhost:8080/"
        },
        "id": "48uTN0qriEj-",
        "outputId": "8d2f3466-7d12-4ee9-bad3-7b2f7e2b7964"
      },
      "source": [
        "nota_media_dos_filmes_com_pelo_menos_dez_votos.mean()"
      ],
      "execution_count": null,
      "outputs": [
        {
          "output_type": "execute_result",
          "data": {
            "text/plain": [
              "3.4320503405352603"
            ]
          },
          "metadata": {
            "tags": []
          },
          "execution_count": 51
        }
      ]
    },
    {
      "cell_type": "code",
      "metadata": {
        "colab": {
          "base_uri": "https://localhost:8080/"
        },
        "id": "yLhn0RYuid_w",
        "outputId": "7f2b9005-356e-445f-bb88-eee7659d0a63"
      },
      "source": [
        "from statsmodels.stats.weightstats import ztest\n",
        "ztest(notas1.rating, value = 3.4320503405352603)"
      ],
      "execution_count": null,
      "outputs": [
        {
          "output_type": "execute_result",
          "data": {
            "text/plain": [
              "(8.586342305916716, 8.978190401886942e-18)"
            ]
          },
          "metadata": {
            "tags": []
          },
          "execution_count": 52
        }
      ]
    },
    {
      "cell_type": "code",
      "metadata": {
        "colab": {
          "base_uri": "https://localhost:8080/",
          "height": 282
        },
        "id": "0UuhXHA1jMMB",
        "outputId": "da33eedb-b1ed-49df-fd1d-ab6ba390029b"
      },
      "source": [
        "temp = notas1.sample(frac=1).rating\n",
        "medias = [temp[0:i].mean() for i in range(1, len(temp))]\n",
        "plt.plot(medias)"
      ],
      "execution_count": null,
      "outputs": [
        {
          "output_type": "execute_result",
          "data": {
            "text/plain": [
              "[<matplotlib.lines.Line2D at 0x7f1489e91b50>]"
            ]
          },
          "metadata": {
            "tags": []
          },
          "execution_count": 53
        },
        {
          "output_type": "display_data",
          "data": {
            "image/png": "[encoded data removed]",
            "text/plain": [
              "<Figure size 432x288 with 1 Axes>"
            ]
          },
          "metadata": {
            "tags": [],
            "needs_background": "light"
          }
        }
      ]
    },
    {
      "cell_type": "code",
      "metadata": {
        "colab": {
          "base_uri": "https://localhost:8080/",
          "height": 282
        },
        "id": "z4WlbmmjlZ26",
        "outputId": "dc19af34-7ea0-4313-edfa-e9e50d60a94a"
      },
      "source": [
        "import numpy as np\n",
        "np.random.seed(75241)\n",
        "temp = notas1.sample(frac=1).rating\n",
        "\n",
        "def calcula_teste(i):\n",
        "  media = temp[0:i].mean()\n",
        "  stat, p = ztest(temp[0:i], value = 3.4320503405352594)\n",
        "  return (i,media, p)\n",
        "\n",
        "valores = np.array([calcula_teste(i) for i in range(2, len(temp))])\n",
        "\n",
        "plt.plot(valores[:,0], valores[:,1])\n",
        "plt.plot(valores[:,0], valores[:,2])\n",
        "plt.hlines(y = 0.05, xmin = 2, xmax = len(temp), colors='k')"
      ],
      "execution_count": null,
      "outputs": [
        {
          "output_type": "execute_result",
          "data": {
            "text/plain": [
              "<matplotlib.collections.LineCollection at 0x7f1489887a10>"
            ]
          },
          "metadata": {
            "tags": []
          },
          "execution_count": 54
        },
        {
          "output_type": "display_data",
          "data": {
            "image/png": "[encoded data removed]",
            "text/plain": [
              "<Figure size 432x288 with 1 Axes>"
            ]
          },
          "metadata": {
            "tags": [],
            "needs_background": "light"
          }
        }
      ]
    },
    {
      "cell_type": "code",
      "metadata": {
        "id": "hKIAnOssmmRt",
        "colab": {
          "base_uri": "https://localhost:8080/"
        },
        "outputId": "c3c5b183-8b3d-4193-a64f-4d3a94354975"
      },
      "source": [
        "print(ztest(notas1.rating, notas.rating))\n",
        "zconfint(notas1.rating, notas.rating)"
      ],
      "execution_count": null,
      "outputs": [
        {
          "output_type": "stream",
          "text": [
            "(5.894327101501841, 3.762112778881965e-09)\n"
          ],
          "name": "stdout"
        },
        {
          "output_type": "execute_result",
          "data": {
            "text/plain": [
              "(0.2799245129192442, 0.5588219849631111)"
            ]
          },
          "metadata": {
            "tags": []
          },
          "execution_count": 56
        }
      ]
    },
    {
      "cell_type": "code",
      "metadata": {
        "colab": {
          "base_uri": "https://localhost:8080/"
        },
        "id": "_TXSa7jFaHQp",
        "outputId": "377d3396-eb82-4057-9d67-7e76b175cc98"
      },
      "source": [
        "from scipy.stats import ttest_ind\n",
        "ttest_ind(notas1.rating, notas.rating)"
      ],
      "execution_count": null,
      "outputs": [
        {
          "output_type": "execute_result",
          "data": {
            "text/plain": [
              "Ttest_indResult(statistic=5.894327101501841, pvalue=3.774003138720876e-09)"
            ]
          },
          "metadata": {
            "tags": []
          },
          "execution_count": 57
        }
      ]
    },
    {
      "cell_type": "code",
      "metadata": {
        "colab": {
          "base_uri": "https://localhost:8080/",
          "height": 75
        },
        "id": "6DvbpM5jcKtQ",
        "outputId": "ffa89a85-6a36-4c73-858d-f55c02ace5f5"
      },
      "source": [
        "descr_todas_notas = DescrStatsW(notas.rating)\n",
        "descr_toy_story = DescrStatsW(notas1.rating)\n",
        "comparacao = descr_todas_notas.get_compare(descr_toy_story)\n",
        "comparacao.summary()\n"
      ],
      "execution_count": null,
      "outputs": [
        {
          "output_type": "execute_result",
          "data": {
            "text/html": [
              "<table class=\"simpletable\">\n",
              "<caption>Test for equality of means</caption>\n",
              "<tr>\n",
              "      <td></td>         <th>coef</th>     <th>std err</th>      <th>t</th>      <th>P>|t|</th>  <th>[0.025</th>    <th>0.975]</th>  \n",
              "</tr>\n",
              "<tr>\n",
              "  <th>subset #1</th> <td>   -0.4194</td> <td>    0.071</td> <td>   -5.894</td> <td> 0.000</td> <td>   -0.559</td> <td>   -0.280</td>\n",
              "</tr>\n",
              "</table>"
            ],
            "text/plain": [
              "<class 'statsmodels.iolib.table.SimpleTable'>"
            ]
          },
          "metadata": {
            "tags": []
          },
          "execution_count": 63
        }
      ]
    },
    {
      "cell_type": "code",
      "metadata": {
        "colab": {
          "base_uri": "https://localhost:8080/",
          "height": 75
        },
        "id": "hOPBy0Z-ciRC",
        "outputId": "e3afa453-aeed-4cde-c8db-b63cfe32518e"
      },
      "source": [
        "comparacao.summary(use_t=False)"
      ],
      "execution_count": null,
      "outputs": [
        {
          "output_type": "execute_result",
          "data": {
            "text/html": [
              "<table class=\"simpletable\">\n",
              "<caption>Test for equality of means</caption>\n",
              "<tr>\n",
              "      <td></td>         <th>coef</th>     <th>std err</th>      <th>z</th>      <th>P>|z|</th>  <th>[0.025</th>    <th>0.975]</th>  \n",
              "</tr>\n",
              "<tr>\n",
              "  <th>subset #1</th> <td>   -0.4194</td> <td>    0.071</td> <td>   -5.894</td> <td> 0.000</td> <td>   -0.559</td> <td>   -0.280</td>\n",
              "</tr>\n",
              "</table>"
            ],
            "text/plain": [
              "<class 'statsmodels.iolib.table.SimpleTable'>"
            ]
          },
          "metadata": {
            "tags": []
          },
          "execution_count": 65
        }
      ]
    },
    {
      "cell_type": "code",
      "metadata": {
        "colab": {
          "base_uri": "https://localhost:8080/",
          "height": 351
        },
        "id": "ZmAzEvX5cmpN",
        "outputId": "e564712c-f085-4eda-878b-fb95e603d500"
      },
      "source": [
        "plt.boxplot([notas1.rating, notas.rating], labels=['Toy Story', 'Todos os Filmes'])\n",
        "plt.title('Distribuição das notas de acordo com o filme')"
      ],
      "execution_count": null,
      "outputs": [
        {
          "output_type": "stream",
          "text": [
            "/usr/local/lib/python3.7/dist-packages/numpy/core/_asarray.py:83: VisibleDeprecationWarning: Creating an ndarray from ragged nested sequences (which is a list-or-tuple of lists-or-tuples-or ndarrays with different lengths or shapes) is deprecated. If you meant to do this, you must specify 'dtype=object' when creating the ndarray\n",
            "  return array(a, dtype, copy=False, order=order)\n"
          ],
          "name": "stderr"
        },
        {
          "output_type": "execute_result",
          "data": {
            "text/plain": [
              "Text(0.5, 1.0, 'Distribuição das notas de acordo com o filme')"
            ]
          },
          "metadata": {
            "tags": []
          },
          "execution_count": 68
        },
        {
          "output_type": "display_data",
          "data": {
            "image/png": "[encoded data removed]",
            "text/plain": [
              "<Figure size 432x288 with 1 Axes>"
            ]
          },
          "metadata": {
            "tags": [],
            "needs_background": "light"
          }
        }
      ]
    },
    {
      "cell_type": "code",
      "metadata": {
        "colab": {
          "base_uri": "https://localhost:8080/",
          "height": 351
        },
        "id": "1Yz8hb2efeAr",
        "outputId": "13a252b6-e3d9-4d5b-951a-3e045b435268"
      },
      "source": [
        "plt.boxplot([notas1[3:12].rating, notas.rating], labels=['Toy Story (algumas notas)', 'Todos os Filmes'])\n",
        "plt.title('Distribuição das notas de acordo com o filme')"
      ],
      "execution_count": null,
      "outputs": [
        {
          "output_type": "stream",
          "text": [
            "/usr/local/lib/python3.7/dist-packages/numpy/core/_asarray.py:83: VisibleDeprecationWarning: Creating an ndarray from ragged nested sequences (which is a list-or-tuple of lists-or-tuples-or ndarrays with different lengths or shapes) is deprecated. If you meant to do this, you must specify 'dtype=object' when creating the ndarray\n",
            "  return array(a, dtype, copy=False, order=order)\n"
          ],
          "name": "stderr"
        },
        {
          "output_type": "execute_result",
          "data": {
            "text/plain": [
              "Text(0.5, 1.0, 'Distribuição das notas de acordo com o filme')"
            ]
          },
          "metadata": {
            "tags": []
          },
          "execution_count": 70
        },
        {
          "output_type": "display_data",
          "data": {
            "image/png": "[encoded data removed]",
            "text/plain": [
              "<Figure size 432x288 with 1 Axes>"
            ]
          },
          "metadata": {
            "tags": [],
            "needs_background": "light"
          }
        }
      ]
    },
    {
      "cell_type": "code",
      "metadata": {
        "colab": {
          "base_uri": "https://localhost:8080/",
          "height": 75
        },
        "id": "apikvfb1gTHE",
        "outputId": "4e6db6d9-1294-4438-e8c9-9d2fd76638a5"
      },
      "source": [
        "descr_todas_notas = DescrStatsW(notas.rating)\n",
        "descr_toy_story = DescrStatsW(notas1[3:12].rating)\n",
        "comparacao = descr_todas_notas.get_compare(descr_toy_story)\n",
        "comparacao.summary()\n"
      ],
      "execution_count": null,
      "outputs": [
        {
          "output_type": "execute_result",
          "data": {
            "text/html": [
              "<table class=\"simpletable\">\n",
              "<caption>Test for equality of means</caption>\n",
              "<tr>\n",
              "      <td></td>         <th>coef</th>     <th>std err</th>      <th>t</th>      <th>P>|t|</th>  <th>[0.025</th>    <th>0.975]</th>  \n",
              "</tr>\n",
              "<tr>\n",
              "  <th>subset #1</th> <td>   -0.0540</td> <td>    0.348</td> <td>   -0.155</td> <td> 0.877</td> <td>   -0.735</td> <td>    0.627</td>\n",
              "</tr>\n",
              "</table>"
            ],
            "text/plain": [
              "<class 'statsmodels.iolib.table.SimpleTable'>"
            ]
          },
          "metadata": {
            "tags": []
          },
          "execution_count": 71
        }
      ]
    },
    {
      "cell_type": "markdown",
      "metadata": {
        "id": "clcx653QiODb"
      },
      "source": [
        "#Comparando médias entre filmes diferentes"
      ]
    },
    {
      "cell_type": "code",
      "metadata": {
        "colab": {
          "base_uri": "https://localhost:8080/",
          "height": 136
        },
        "id": "PnxdE3nYiS5Q",
        "outputId": "3cda4784-3dc7-46f3-fc15-e80796e97c8d"
      },
      "source": [
        "filmes.query('movieId in [1, 593, 72226]')"
      ],
      "execution_count": null,
      "outputs": [
        {
          "output_type": "execute_result",
          "data": {
            "text/html": [
              "<div>\n",
              "<style scoped>\n",
              "    .dataframe tbody tr th:only-of-type {\n",
              "        vertical-align: middle;\n",
              "    }\n",
              "\n",
              "    .dataframe tbody tr th {\n",
              "        vertical-align: top;\n",
              "    }\n",
              "\n",
              "    .dataframe thead th {\n",
              "        text-align: right;\n",
              "    }\n",
              "</style>\n",
              "<table border=\"1\" class=\"dataframe\">\n",
              "  <thead>\n",
              "    <tr style=\"text-align: right;\">\n",
              "      <th></th>\n",
              "      <th>movieId</th>\n",
              "      <th>title</th>\n",
              "      <th>genres</th>\n",
              "    </tr>\n",
              "  </thead>\n",
              "  <tbody>\n",
              "    <tr>\n",
              "      <th>0</th>\n",
              "      <td>1</td>\n",
              "      <td>Toy Story (1995)</td>\n",
              "      <td>Adventure|Animation|Children|Comedy|Fantasy</td>\n",
              "    </tr>\n",
              "    <tr>\n",
              "      <th>510</th>\n",
              "      <td>593</td>\n",
              "      <td>Silence of the Lambs, The (1991)</td>\n",
              "      <td>Crime|Horror|Thriller</td>\n",
              "    </tr>\n",
              "    <tr>\n",
              "      <th>7180</th>\n",
              "      <td>72226</td>\n",
              "      <td>Fantastic Mr. Fox (2009)</td>\n",
              "      <td>Adventure|Animation|Children|Comedy|Crime</td>\n",
              "    </tr>\n",
              "  </tbody>\n",
              "</table>\n",
              "</div>"
            ],
            "text/plain": [
              "      movieId  ...                                       genres\n",
              "0           1  ...  Adventure|Animation|Children|Comedy|Fantasy\n",
              "510       593  ...                        Crime|Horror|Thriller\n",
              "7180    72226  ...    Adventure|Animation|Children|Comedy|Crime\n",
              "\n",
              "[3 rows x 3 columns]"
            ]
          },
          "metadata": {
            "tags": []
          },
          "execution_count": 72
        }
      ]
    },
    {
      "cell_type": "code",
      "metadata": {
        "colab": {
          "base_uri": "https://localhost:8080/",
          "height": 353
        },
        "id": "VESYgO0BirR4",
        "outputId": "27354156-b4ba-4b47-ba4e-8df42724f373"
      },
      "source": [
        "notas593 = notas.query('movieId == 593')\n",
        "notas72226 = notas.query('movieId == 72226')\n",
        "\n",
        "plt.boxplot([notas1.rating, notas593.rating, notas72226.rating], labels=['Toy Story', 'Silêncio dos inocentes', 'Fantástico Sr. Raposo'])\n",
        "plt.title('Distribuição das notas de acordo com o filme')"
      ],
      "execution_count": null,
      "outputs": [
        {
          "output_type": "stream",
          "text": [
            "/usr/local/lib/python3.7/dist-packages/numpy/core/_asarray.py:83: VisibleDeprecationWarning: Creating an ndarray from ragged nested sequences (which is a list-or-tuple of lists-or-tuples-or ndarrays with different lengths or shapes) is deprecated. If you meant to do this, you must specify 'dtype=object' when creating the ndarray\n",
            "  return array(a, dtype, copy=False, order=order)\n"
          ],
          "name": "stderr"
        },
        {
          "output_type": "execute_result",
          "data": {
            "text/plain": [
              "Text(0.5, 1.0, 'Distribuição das notas de acordo com o filme')"
            ]
          },
          "metadata": {
            "tags": []
          },
          "execution_count": 73
        },
        {
          "output_type": "display_data",
          "data": {
            "image/png": "[encoded data removed]",
            "text/plain": [
              "<Figure size 432x288 with 1 Axes>"
            ]
          },
          "metadata": {
            "tags": [],
            "needs_background": "light"
          }
        }
      ]
    },
    {
      "cell_type": "code",
      "metadata": {
        "colab": {
          "base_uri": "https://localhost:8080/",
          "height": 284
        },
        "id": "wyRfauSBjT0t",
        "outputId": "8ebec48f-ce7b-410f-9fe8-14d9749c6663"
      },
      "source": [
        "notas72226.describe()"
      ],
      "execution_count": null,
      "outputs": [
        {
          "output_type": "execute_result",
          "data": {
            "text/html": [
              "<div>\n",
              "<style scoped>\n",
              "    .dataframe tbody tr th:only-of-type {\n",
              "        vertical-align: middle;\n",
              "    }\n",
              "\n",
              "    .dataframe tbody tr th {\n",
              "        vertical-align: top;\n",
              "    }\n",
              "\n",
              "    .dataframe thead th {\n",
              "        text-align: right;\n",
              "    }\n",
              "</style>\n",
              "<table border=\"1\" class=\"dataframe\">\n",
              "  <thead>\n",
              "    <tr style=\"text-align: right;\">\n",
              "      <th></th>\n",
              "      <th>userId</th>\n",
              "      <th>movieId</th>\n",
              "      <th>rating</th>\n",
              "      <th>timestamp</th>\n",
              "    </tr>\n",
              "  </thead>\n",
              "  <tbody>\n",
              "    <tr>\n",
              "      <th>count</th>\n",
              "      <td>18.000000</td>\n",
              "      <td>18.0</td>\n",
              "      <td>18.000000</td>\n",
              "      <td>1.800000e+01</td>\n",
              "    </tr>\n",
              "    <tr>\n",
              "      <th>mean</th>\n",
              "      <td>329.722222</td>\n",
              "      <td>72226.0</td>\n",
              "      <td>4.083333</td>\n",
              "      <td>1.395218e+09</td>\n",
              "    </tr>\n",
              "    <tr>\n",
              "      <th>std</th>\n",
              "      <td>174.748157</td>\n",
              "      <td>0.0</td>\n",
              "      <td>0.895249</td>\n",
              "      <td>9.459862e+07</td>\n",
              "    </tr>\n",
              "    <tr>\n",
              "      <th>min</th>\n",
              "      <td>73.000000</td>\n",
              "      <td>72226.0</td>\n",
              "      <td>1.500000</td>\n",
              "      <td>1.262899e+09</td>\n",
              "    </tr>\n",
              "    <tr>\n",
              "      <th>25%</th>\n",
              "      <td>167.000000</td>\n",
              "      <td>72226.0</td>\n",
              "      <td>4.000000</td>\n",
              "      <td>1.279706e+09</td>\n",
              "    </tr>\n",
              "    <tr>\n",
              "      <th>50%</th>\n",
              "      <td>326.000000</td>\n",
              "      <td>72226.0</td>\n",
              "      <td>4.250000</td>\n",
              "      <td>1.441777e+09</td>\n",
              "    </tr>\n",
              "    <tr>\n",
              "      <th>75%</th>\n",
              "      <td>466.250000</td>\n",
              "      <td>72226.0</td>\n",
              "      <td>4.500000</td>\n",
              "      <td>1.471770e+09</td>\n",
              "    </tr>\n",
              "    <tr>\n",
              "      <th>max</th>\n",
              "      <td>610.000000</td>\n",
              "      <td>72226.0</td>\n",
              "      <td>5.000000</td>\n",
              "      <td>1.498522e+09</td>\n",
              "    </tr>\n",
              "  </tbody>\n",
              "</table>\n",
              "</div>"
            ],
            "text/plain": [
              "           userId  movieId     rating     timestamp\n",
              "count   18.000000     18.0  18.000000  1.800000e+01\n",
              "mean   329.722222  72226.0   4.083333  1.395218e+09\n",
              "std    174.748157      0.0   0.895249  9.459862e+07\n",
              "min     73.000000  72226.0   1.500000  1.262899e+09\n",
              "25%    167.000000  72226.0   4.000000  1.279706e+09\n",
              "50%    326.000000  72226.0   4.250000  1.441777e+09\n",
              "75%    466.250000  72226.0   4.500000  1.471770e+09\n",
              "max    610.000000  72226.0   5.000000  1.498522e+09"
            ]
          },
          "metadata": {
            "tags": []
          },
          "execution_count": 74
        }
      ]
    },
    {
      "cell_type": "code",
      "metadata": {
        "colab": {
          "base_uri": "https://localhost:8080/",
          "height": 284
        },
        "id": "80gV8TVSjqg6",
        "outputId": "286d8cc3-a1ac-4271-e3f7-901fd8df2a28"
      },
      "source": [
        "notas593.describe()"
      ],
      "execution_count": null,
      "outputs": [
        {
          "output_type": "execute_result",
          "data": {
            "text/html": [
              "<div>\n",
              "<style scoped>\n",
              "    .dataframe tbody tr th:only-of-type {\n",
              "        vertical-align: middle;\n",
              "    }\n",
              "\n",
              "    .dataframe tbody tr th {\n",
              "        vertical-align: top;\n",
              "    }\n",
              "\n",
              "    .dataframe thead th {\n",
              "        text-align: right;\n",
              "    }\n",
              "</style>\n",
              "<table border=\"1\" class=\"dataframe\">\n",
              "  <thead>\n",
              "    <tr style=\"text-align: right;\">\n",
              "      <th></th>\n",
              "      <th>userId</th>\n",
              "      <th>movieId</th>\n",
              "      <th>rating</th>\n",
              "      <th>timestamp</th>\n",
              "    </tr>\n",
              "  </thead>\n",
              "  <tbody>\n",
              "    <tr>\n",
              "      <th>count</th>\n",
              "      <td>279.000000</td>\n",
              "      <td>279.0</td>\n",
              "      <td>279.000000</td>\n",
              "      <td>2.790000e+02</td>\n",
              "    </tr>\n",
              "    <tr>\n",
              "      <th>mean</th>\n",
              "      <td>306.577061</td>\n",
              "      <td>593.0</td>\n",
              "      <td>4.161290</td>\n",
              "      <td>1.147081e+09</td>\n",
              "    </tr>\n",
              "    <tr>\n",
              "      <th>std</th>\n",
              "      <td>179.731115</td>\n",
              "      <td>0.0</td>\n",
              "      <td>0.853983</td>\n",
              "      <td>2.444652e+08</td>\n",
              "    </tr>\n",
              "    <tr>\n",
              "      <th>min</th>\n",
              "      <td>1.000000</td>\n",
              "      <td>593.0</td>\n",
              "      <td>0.500000</td>\n",
              "      <td>8.319402e+08</td>\n",
              "    </tr>\n",
              "    <tr>\n",
              "      <th>25%</th>\n",
              "      <td>141.000000</td>\n",
              "      <td>593.0</td>\n",
              "      <td>4.000000</td>\n",
              "      <td>9.393810e+08</td>\n",
              "    </tr>\n",
              "    <tr>\n",
              "      <th>50%</th>\n",
              "      <td>313.000000</td>\n",
              "      <td>593.0</td>\n",
              "      <td>4.000000</td>\n",
              "      <td>1.123891e+09</td>\n",
              "    </tr>\n",
              "    <tr>\n",
              "      <th>75%</th>\n",
              "      <td>454.000000</td>\n",
              "      <td>593.0</td>\n",
              "      <td>5.000000</td>\n",
              "      <td>1.405808e+09</td>\n",
              "    </tr>\n",
              "    <tr>\n",
              "      <th>max</th>\n",
              "      <td>610.000000</td>\n",
              "      <td>593.0</td>\n",
              "      <td>5.000000</td>\n",
              "      <td>1.537158e+09</td>\n",
              "    </tr>\n",
              "  </tbody>\n",
              "</table>\n",
              "</div>"
            ],
            "text/plain": [
              "           userId  movieId      rating     timestamp\n",
              "count  279.000000    279.0  279.000000  2.790000e+02\n",
              "mean   306.577061    593.0    4.161290  1.147081e+09\n",
              "std    179.731115      0.0    0.853983  2.444652e+08\n",
              "min      1.000000    593.0    0.500000  8.319402e+08\n",
              "25%    141.000000    593.0    4.000000  9.393810e+08\n",
              "50%    313.000000    593.0    4.000000  1.123891e+09\n",
              "75%    454.000000    593.0    5.000000  1.405808e+09\n",
              "max    610.000000    593.0    5.000000  1.537158e+09"
            ]
          },
          "metadata": {
            "tags": []
          },
          "execution_count": 75
        }
      ]
    },
    {
      "cell_type": "code",
      "metadata": {
        "colab": {
          "base_uri": "https://localhost:8080/",
          "height": 296
        },
        "id": "QISvS8uhjz1m",
        "outputId": "97991c01-b2bc-4e9c-c73b-10b40ef497e6"
      },
      "source": [
        "sns.boxplot(data= notas.query('movieId in [1, 593, 72226]'), x = 'movieId', y = 'rating')"
      ],
      "execution_count": null,
      "outputs": [
        {
          "output_type": "execute_result",
          "data": {
            "text/plain": [
              "<matplotlib.axes._subplots.AxesSubplot at 0x7f147bc1c350>"
            ]
          },
          "metadata": {
            "tags": []
          },
          "execution_count": 77
        },
        {
          "output_type": "display_data",
          "data": {
            "image/png": "[encoded data removed]",
            "text/plain": [
              "<Figure size 432x288 with 1 Axes>"
            ]
          },
          "metadata": {
            "tags": [],
            "needs_background": "light"
          }
        }
      ]
    },
    {
      "cell_type": "code",
      "metadata": {
        "colab": {
          "base_uri": "https://localhost:8080/",
          "height": 75
        },
        "id": "qfNMAyBGkBnY",
        "outputId": "d1e6359b-4219-4989-ce3b-3384b870cf24"
      },
      "source": [
        "descr_silence = DescrStatsW(notas593.rating)\n",
        "descr_toy_story = DescrStatsW(notas1.rating)\n",
        "comparacao = descr_silence.get_compare(descr_toy_story)\n",
        "comparacao.summary()\n"
      ],
      "execution_count": null,
      "outputs": [
        {
          "output_type": "execute_result",
          "data": {
            "text/html": [
              "<table class=\"simpletable\">\n",
              "<caption>Test for equality of means</caption>\n",
              "<tr>\n",
              "      <td></td>         <th>coef</th>     <th>std err</th>      <th>t</th>      <th>P>|t|</th>  <th>[0.025</th>    <th>0.975]</th>  \n",
              "</tr>\n",
              "<tr>\n",
              "  <th>subset #1</th> <td>    0.2404</td> <td>    0.077</td> <td>    3.132</td> <td> 0.002</td> <td>    0.090</td> <td>    0.391</td>\n",
              "</tr>\n",
              "</table>"
            ],
            "text/plain": [
              "<class 'statsmodels.iolib.table.SimpleTable'>"
            ]
          },
          "metadata": {
            "tags": []
          },
          "execution_count": 78
        }
      ]
    },
    {
      "cell_type": "code",
      "metadata": {
        "colab": {
          "base_uri": "https://localhost:8080/",
          "height": 75
        },
        "id": "sTLjkA5okrom",
        "outputId": "4ac7d9a1-f899-4c24-bfdc-656f485a676b"
      },
      "source": [
        "descr_silence = DescrStatsW(notas593.rating)\n",
        "descr_fox = DescrStatsW(notas72226.rating)\n",
        "comparacao = descr_silence.get_compare(descr_fox)\n",
        "comparacao.summary()\n"
      ],
      "execution_count": null,
      "outputs": [
        {
          "output_type": "execute_result",
          "data": {
            "text/html": [
              "<table class=\"simpletable\">\n",
              "<caption>Test for equality of means</caption>\n",
              "<tr>\n",
              "      <td></td>         <th>coef</th>     <th>std err</th>      <th>t</th>      <th>P>|t|</th>  <th>[0.025</th>    <th>0.975]</th>  \n",
              "</tr>\n",
              "<tr>\n",
              "  <th>subset #1</th> <td>    0.0780</td> <td>    0.208</td> <td>    0.374</td> <td> 0.708</td> <td>   -0.332</td> <td>    0.488</td>\n",
              "</tr>\n",
              "</table>"
            ],
            "text/plain": [
              "<class 'statsmodels.iolib.table.SimpleTable'>"
            ]
          },
          "metadata": {
            "tags": []
          },
          "execution_count": 79
        }
      ]
    },
    {
      "cell_type": "code",
      "metadata": {
        "colab": {
          "base_uri": "https://localhost:8080/",
          "height": 75
        },
        "id": "9dp3PU1clDnL",
        "outputId": "a6ecbaf2-e7eb-404b-bbe0-42f265037f46"
      },
      "source": [
        "comparacao = descr_toy_story.get_compare(descr_fox)\n",
        "comparacao.summary()\n"
      ],
      "execution_count": null,
      "outputs": [
        {
          "output_type": "execute_result",
          "data": {
            "text/html": [
              "<table class=\"simpletable\">\n",
              "<caption>Test for equality of means</caption>\n",
              "<tr>\n",
              "      <td></td>         <th>coef</th>     <th>std err</th>      <th>t</th>      <th>P>|t|</th>  <th>[0.025</th>    <th>0.975]</th>  \n",
              "</tr>\n",
              "<tr>\n",
              "  <th>subset #1</th> <td>   -0.1624</td> <td>    0.206</td> <td>   -0.788</td> <td> 0.431</td> <td>   -0.568</td> <td>    0.243</td>\n",
              "</tr>\n",
              "</table>"
            ],
            "text/plain": [
              "<class 'statsmodels.iolib.table.SimpleTable'>"
            ]
          },
          "metadata": {
            "tags": []
          },
          "execution_count": 80
        }
      ]
    },
    {
      "cell_type": "code",
      "metadata": {
        "colab": {
          "base_uri": "https://localhost:8080/"
        },
        "id": "M1dsV-_WlWH6",
        "outputId": "f6b40396-f0c3-41fa-8f24-a99c7c20720f"
      },
      "source": [
        "from scipy.stats import normaltest\n",
        "'''se for menor que o.o5 (0.0001105[ok]) descartamos a hipotese nula (This function tests the null hypothesis that a sample comes from a normal distribution),\n",
        "ou seja, os dados não vem de uma dist normal.'''\n",
        "stat, p = normaltest(notas1.rating)\n",
        "print(stat, p)\n"
      ],
      "execution_count": null,
      "outputs": [
        {
          "output_type": "stream",
          "text": [
            "18.220369223286593 0.00011053430732728716\n"
          ],
          "name": "stdout"
        }
      ]
    },
    {
      "cell_type": "code",
      "metadata": {
        "colab": {
          "base_uri": "https://localhost:8080/"
        },
        "id": "AbHCSozWmcLh",
        "outputId": "36d3a5b9-a6f8-4f25-dc83-1f5b03efd67e"
      },
      "source": [
        "from scipy.stats import ranksums\n",
        "\n",
        "'''The Wilcoxon rank-sum test tests the null hypothesis that two sets of measurements are drawn from the same distribution.\n",
        "The alternative hypothesis is that values in one sample are more likely to be larger than the values in the other sample.\n",
        "This test should be used to compare two samples from continuous distributions. It does not handle ties between measurements in x and y.\n",
        "For tie-handling and an optional continuity correction see'''\n",
        "\n",
        "stat, p = ranksums(notas1.rating, notas593.rating)\n",
        "print(stat,p)"
      ],
      "execution_count": null,
      "outputs": [
        {
          "output_type": "stream",
          "text": [
            "-3.5930962013771377 0.0003267718756440693\n"
          ],
          "name": "stdout"
        }
      ]
    },
    {
      "cell_type": "code",
      "metadata": {
        "id": "GKdS2Ex2nlUL"
      },
      "source": [],
      "execution_count": null,
      "outputs": []
    }
  ]
}